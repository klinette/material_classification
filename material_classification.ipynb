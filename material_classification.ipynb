{
  "nbformat": 4,
  "nbformat_minor": 0,
  "metadata": {
    "colab": {
      "provenance": []
    },
    "kernelspec": {
      "name": "python3",
      "display_name": "Python 3"
    },
    "language_info": {
      "name": "python"
    },
    "accelerator": "GPU",
    "gpuClass": "standard"
  },
  "cells": [
    {
      "cell_type": "markdown",
      "source": [
        "#6.8300 Final Project\n",
        "## Catherine Mei and Linette Kunin"
      ],
      "metadata": {
        "id": "IG-ZUeTYKPuL"
      }
    },
    {
      "cell_type": "code",
      "source": [
        "# store as npy file\n",
        "# plot in matplotlib\n",
        "# is 2D array\n",
        "# convert to pytorch tensor\n",
        "\n",
        "# matplotlib as heatmap to try to visualize\n",
        "# spectrogram will be our label\n",
        "# spectrogram have to be scaled from 1 to -1\n",
        "# make sure to normalize the data\n",
        "\n",
        "# Enough for project\n",
        "\n",
        "# coordconv\n",
        "\n",
        "# go from vector to spectrogram possibly with either __ * f *times or convolutional decoder and transpose convlution"
      ],
      "metadata": {
        "id": "COcA79gKfUFy"
      },
      "execution_count": null,
      "outputs": []
    },
    {
      "cell_type": "markdown",
      "source": [
        "### Imports"
      ],
      "metadata": {
        "id": "IvZMdCgeKhXC"
      }
    },
    {
      "cell_type": "code",
      "execution_count": null,
      "metadata": {
        "id": "6jZLPTyYKIHW"
      },
      "outputs": [],
      "source": [
        "import numpy as np\n",
        "import torch\n",
        "import torch.nn as nn\n",
        "import os\n",
        "import torchvision\n",
        "from torchvision import datasets, models, transforms\n",
        "from torch.utils.data import Dataset\n",
        "from torch.utils.data import DataLoader\n",
        "import imageio\n",
        "import matplotlib.pyplot as plt\n",
        "import time\n",
        "import copy\n",
        "from tqdm import tqdm\n",
        "import torch.optim as optim\n",
        "import random"
      ]
    },
    {
      "cell_type": "code",
      "source": [
        "device = torch.device(\"cuda:0\" if torch.cuda.is_available() else \"cpu\")\n",
        "if torch.cuda.is_available():\n",
        "    print(\"Using the GPU!\")\n",
        "else:\n",
        "    print(\"WARNING: Could not find GPU! Using CPU only\")\n",
        "    print(\"You may want to try to use the GPU in Google Colab by clicking in:\")\n",
        "    print(\"Runtime > Change Runtime type > Hardware accelerator > GPU.\")"
      ],
      "metadata": {
        "colab": {
          "base_uri": "https://localhost:8080/"
        },
        "id": "kRXt_SEYLUL1",
        "outputId": "470c9521-01f5-4369-9d71-b40a8b260ffc"
      },
      "execution_count": null,
      "outputs": [
        {
          "output_type": "stream",
          "name": "stdout",
          "text": [
            "Using the GPU!\n"
          ]
        }
      ]
    },
    {
      "cell_type": "markdown",
      "source": [
        "### Import Data"
      ],
      "metadata": {
        "id": "wPYJKddLMGym"
      }
    },
    {
      "cell_type": "code",
      "source": [
        "use_gdrive = True"
      ],
      "metadata": {
        "id": "Te-BY_B0MZYg"
      },
      "execution_count": null,
      "outputs": []
    },
    {
      "cell_type": "code",
      "source": [
        "if use_gdrive:\n",
        "  from google.colab import drive\n",
        "  drive.mount('/content/drive')\n",
        "\n",
        "  data_dir = \"/content/drive/MyDrive/6.8300FinalProject\"\n",
        "else:\n",
        "  data_dir = \"./data\"\n",
        "\n",
        "downloads_dir = data_dir + '/downloads'\n",
        "datasets_dir = data_dir + '/vis-data-256'\n",
        "processed_data_dir = data_dir + '/vis-data-processed'\n",
        "models_dir = data_dir + '/models'\n",
        "pretrained_models = data_dir + '/pretrained_models'\n",
        "q2c_data_dir = data_dir + '/q2c_data'"
      ],
      "metadata": {
        "colab": {
          "base_uri": "https://localhost:8080/"
        },
        "id": "K6uelN_sMKRT",
        "outputId": "2773a8ea-3bd4-456a-fab3-84b6a4d3f388"
      },
      "execution_count": null,
      "outputs": [
        {
          "output_type": "stream",
          "name": "stdout",
          "text": [
            "Mounted at /content/drive\n"
          ]
        }
      ]
    },
    {
      "cell_type": "code",
      "source": [
        "# vis_low_res = datasets_dir + '/vis-data-256.zip'\n",
        "# vis_sound_features = datasets_dir + '/vis-sfs.zip'"
      ],
      "metadata": {
        "id": "SLA190k6Xtpk"
      },
      "execution_count": null,
      "outputs": []
    },
    {
      "cell_type": "markdown",
      "source": [
        "### Create Class for Dataset"
      ],
      "metadata": {
        "id": "3TkmMoU994hI"
      }
    },
    {
      "cell_type": "code",
      "source": [
        "class VisData(Dataset):\n",
        "  def __init__(self, split = 'train', mode='image'):\n",
        "    self.image_transforms = transforms.Compose([\n",
        "          transforms.ToPILImage(),\n",
        "          transforms.RandomHorizontalFlip(0.5),\n",
        "          transforms.RandomVerticalFlip(0.5),\n",
        "          transforms.ToTensor(),\n",
        "        ])\n",
        "\n",
        "    self.imageToTensor = transforms.Compose([transforms.ToPILImage(), transforms.Grayscale(1), transforms.ToTensor()])\n",
        "    self.ignoreFiles = {\"2015-02-21-17-48-19\", \"2015-03-28-20-13-18\"}\n",
        "    self.split = split\n",
        "    self.mode = mode\n",
        "\n",
        "    self.inputs, self.labels = self.get_dataset_input_label()\n",
        "    self.n = len(self.labels)\n",
        "\n",
        "  def __getitem__(self, index):\n",
        "    return self.inputs[index], self.labels[index]\n",
        "\n",
        "  def __len__(self):\n",
        "    return self.n\n",
        "\n",
        "  def get_dataset_input_label(self):\n",
        "    data_split = []\n",
        "\n",
        "    input = []\n",
        "    material_label = []\n",
        "\n",
        "    # get videos in dataset depending on train or test split\n",
        "    data_ids_path = \"\"\n",
        "    if self.split in {'train', 'val'}:\n",
        "      data_ids_path = processed_data_dir + \"/train.txt\"\n",
        "    elif self.split == \"test\":\n",
        "      data_ids_path = processed_data_dir + \"/test.txt\"\n",
        "\n",
        "    with open(data_ids_path, 'r') as f:\n",
        "        all_ids = f.read()\n",
        "        all_ids = all_ids.split(\"\\n\")\n",
        "        data_split = [id for id in all_ids if len(id)] # all of the video ids that are part of this dataset split\n",
        "\n",
        "    file_count = 0\n",
        "    # for each file id, get all the hits in that file\n",
        "    for file_id in data_split:\n",
        "      file_count+=1\n",
        "      if file_id in self.ignoreFiles:\n",
        "        continue\n",
        "      video_id_path = processed_data_dir + \"/\" + file_id\n",
        "      filenames = os.listdir(video_id_path)\n",
        "      num_hits = len([i for i in filter(lambda x: x.endswith(\".png\"), filenames)])\n",
        "\n",
        "      # every_x_hits = random.randint(0, 1)\n",
        "      every_x_hits = 0\n",
        "      for i in range(num_hits):\n",
        "        # only include half of the hits\n",
        "        if i % 20 != every_x_hits:\n",
        "          continue\n",
        "\n",
        "        try:\n",
        "          if self.mode == \"image\":\n",
        "            input_in = self.load_image_with_id(file_id, i)\n",
        "          elif self.mode == \"sound\":\n",
        "            input_in = self.get_spectrogram_for_hit(file_id, i)\n",
        "          elif self.mode == \"fc_agg\":\n",
        "            input_in = self.get_stacked_image_spec(file_id, i)\n",
        "          else:\n",
        "            raise TypeError()\n",
        "\n",
        "\n",
        "          material = self.get_material_label(file_id, i)\n",
        "\n",
        "          input.append(input_in)\n",
        "          material_label.append(material)\n",
        "\n",
        "        except:\n",
        "          print(\"skipped: \", file_id, i)\n",
        "          continue\n",
        "\n",
        "      if file_count %50 ==0:\n",
        "        print(\"loaded: \", file_count)\n",
        "\n",
        "    return input, material_label\n",
        "\n",
        "  def get_stacked_image_spec(self, file_id, i):\n",
        "    img = self.load_image_with_id(file_id, i)\n",
        "    spec = torch.tensor(self.get_spectrogram_for_hit(file_id, i))\n",
        "    return [img, spec]\n",
        "\n",
        "  def load_image_with_id(self, file_id, index, apply_transforms = True):\n",
        "    file_path = processed_data_dir + \"/\" + file_id + \"/\" + file_id + \"_image_\" + str(index) + \".png\"\n",
        "    img = imageio.imread(file_path, pilmode='RGB')\n",
        "    if apply_transforms:\n",
        "      img = self.image_transforms(img)\n",
        "    # img = self.transforms(img)\n",
        "    return img\n",
        "\n",
        "  def get_material_label(self, file_id, index):\n",
        "    file_path = processed_data_dir + \"/\" + file_id + \"/\" + file_id + \"_labels_\" + str(index) + \".txt\"\n",
        "    with open(file_path, 'r') as f:\n",
        "      input = f.read()\n",
        "      lines = input.split(\"\\n\")\n",
        "      label = int(lines[0])\n",
        "    return label\n",
        "\n",
        "  def get_spectrogram_for_hit(self, file_id, index):\n",
        "    file_path = processed_data_dir + \"/\" + file_id + \"/\" + file_id + \"_spectrogram_\" + str(index) + \".npy\"\n",
        "    spectrogram = np.load(file_path)\n",
        "    spectrogram = np.transpose(np.repeat(spectrogram[:, :, np.newaxis], 3, axis=2), (2,0,1))\n",
        "    return spectrogram\n"
      ],
      "metadata": {
        "id": "b-yTPDsU97Ob"
      },
      "execution_count": null,
      "outputs": []
    },
    {
      "cell_type": "code",
      "source": [
        "# data_stats_train = VisData(split = 'train', mode = 'image')"
      ],
      "metadata": {
        "id": "1nEXWRpP3Ls7"
      },
      "execution_count": null,
      "outputs": []
    },
    {
      "cell_type": "code",
      "source": [
        "# image, label = data_stats_train[0]\n",
        "# plt.imshow(np.transpose(image, (1,2,0)))"
      ],
      "metadata": {
        "id": "eQq2qAaZ6gUy"
      },
      "execution_count": null,
      "outputs": []
    },
    {
      "cell_type": "markdown",
      "source": [
        "### Model Initialization"
      ],
      "metadata": {
        "id": "evVRRCHnNn0q"
      }
    },
    {
      "cell_type": "code",
      "source": [
        "def initialize_model(model_name, num_classes, resume_from = None, use_pretrained = False, mode = None):\n",
        "    # Initialize these variables which will be set in this if statement. Each of these\n",
        "    #   variables is model specific.\n",
        "    # The model (nn.Module) to return\n",
        "    model_ft = None\n",
        "    # The input image is expected to be (input_size, input_size)\n",
        "    input_size = 0\n",
        "\n",
        "    # By default, all parameters will be trained (useful when you're starting from scratch)\n",
        "    # Within this function you can set .requires_grad = False for various parameters, if you\n",
        "    # don't want to learn them\n",
        "\n",
        "    if model_name == \"resnet\":\n",
        "        \"\"\" Resnet18\n",
        "        \"\"\"\n",
        "        model_ft = models.resnet18(pretrained=use_pretrained)\n",
        "        num_ftrs = model_ft.fc.in_features\n",
        "        model_ft.fc = nn.Linear(num_ftrs, num_classes)\n",
        "        input_size = 224\n",
        "\n",
        "    elif model_name == \"resnet50\":\n",
        "        \"\"\" Resnet50\n",
        "        \"\"\"\n",
        "        model_ft = models.resnet50(pretrained=use_pretrained)\n",
        "        num_ftrs = model_ft.fc.in_features\n",
        "        model_ft.fc = nn.Linear(num_ftrs, num_classes)\n",
        "        input_size = 224\n",
        "\n",
        "    elif model_name == \"alexnet\":\n",
        "        \"\"\" Alexnet\n",
        "        \"\"\"\n",
        "        model_ft = models.alexnet(pretrained=use_pretrained)\n",
        "        num_ftrs = model_ft.classifier[6].in_features\n",
        "        model_ft.classifier[6] = nn.Linear(num_ftrs,num_classes)\n",
        "        input_size = 224\n",
        "\n",
        "    elif model_name == \"vgg\":\n",
        "        \"\"\" VGG11_bn\n",
        "        \"\"\"\n",
        "        model_ft = models.vgg11_bn(pretrained=use_pretrained)\n",
        "        num_ftrs = model_ft.classifier[6].in_features\n",
        "        model_ft.classifier[6] = nn.Linear(num_ftrs,num_classes)\n",
        "        input_size = 224\n",
        "\n",
        "    elif model_name == \"squeezenet\":\n",
        "        \"\"\" Squeezenet\n",
        "        \"\"\"\n",
        "        model_ft = models.squeezenet1_0(pretrained=use_pretrained)\n",
        "        model_ft.classifier[1] = nn.Conv2d(512, num_classes, kernel_size=(1,1), stride=(1,1))\n",
        "        model_ft.num_classes = num_classes\n",
        "        input_size = 224\n",
        "\n",
        "    elif model_name == \"densenet\":\n",
        "        \"\"\" Densenet\n",
        "        \"\"\"\n",
        "        model_ft = models.densenet121(pretrained=use_pretrained)\n",
        "        num_ftrs = model_ft.classifier.in_features\n",
        "        model_ft.classifier = nn.Linear(num_ftrs, num_classes)\n",
        "        input_size = 224\n",
        "\n",
        "    else:\n",
        "        raise Exception(\"Invalid model name!\")\n",
        "\n",
        "    if resume_from is not None:\n",
        "        print(\"Loading weights from %s\" % resume_from)\n",
        "        model_ft.load_state_dict(torch.load(resume_from))\n",
        "\n",
        "    return model_ft, input_size"
      ],
      "metadata": {
        "id": "s2UFUS1dNtrH"
      },
      "execution_count": null,
      "outputs": []
    },
    {
      "cell_type": "markdown",
      "source": [
        "## Dataloader"
      ],
      "metadata": {
        "id": "B-p2ymhQ7hby"
      }
    },
    {
      "cell_type": "code",
      "source": [
        "def get_image_transforms():\n",
        "    # How to transform the image when you are loading them.\n",
        "    # you'll likely want to mess with the transforms on the training set.\n",
        "\n",
        "    # We convert the image to a [C,H,W] tensor, then normalize it to values with a given mean/stdev. These normalization constants\n",
        "    # are derived from the mean/stdev of the ImageNet training set which was used to pretrain our models.\n",
        "\n",
        "    transform = transforms.Compose([\n",
        "            transforms.Normalize([0.485, 0.456, 0.406], [0.229, 0.224, 0.225])\n",
        "        ])\n",
        "    return transform\n",
        "\n",
        "def get_dataloaders(input_size, batch_size, mode, shuffle = True, transform=get_image_transforms()):\n",
        "    data_transforms = {\n",
        "        # 'train': VisData(split = \"train\", mode = mode),\n",
        "        # 'val': VisData(split = \"val\", mode = mode),\n",
        "        'test': VisData(split = \"test\", mode = mode)\n",
        "    }\n",
        "    # Create training, validation and test dataloaders\n",
        "    # Never shuffle the test set\n",
        "    dataloaders_dict = {x: DataLoader(data_transforms[x], batch_size=batch_size, shuffle=False if x != 'train' else shuffle, num_workers=4) for x in data_transforms.keys()}\n",
        "    return dataloaders_dict"
      ],
      "metadata": {
        "id": "56b7yV4n7gky"
      },
      "execution_count": null,
      "outputs": []
    },
    {
      "cell_type": "markdown",
      "source": [
        "## Train Model"
      ],
      "metadata": {
        "id": "Dma7C5Og9XwP"
      }
    },
    {
      "cell_type": "code",
      "source": [
        "def train_model(model, dataloaders, criterion, optimizer, save_dir = None, save_all_epochs=False, num_epochs=25, eval_mode = \"multiclass\", mode = None):\n",
        "    '''\n",
        "    model: The NN to train\n",
        "    dataloaders: A dictionary containing at least the keys\n",
        "                 'train','val' that maps to Pytorch data loaders for the dataset\n",
        "    criterion: The Loss function\n",
        "    optimizer: The algorithm to update weights\n",
        "               (Variations on gradient descent)\n",
        "    num_epochs: How many epochs to train for\n",
        "    save_dir: Where to save the best model weights that are found,\n",
        "              as they are found. Will save to save_dir/weights_best.pt\n",
        "              Using None will not write anything to disk\n",
        "    save_all_epochs: Whether to save weights for ALL epochs, not just the best\n",
        "                     validation error epoch. Will save to save_dir/weights_e{#}.pt\n",
        "    '''\n",
        "    since = time.time()\n",
        "\n",
        "    val_acc_history = []\n",
        "    train_acc_history = []\n",
        "\n",
        "    best_model_wts = copy.deepcopy(model.state_dict())\n",
        "    best_acc = 0.0\n",
        "\n",
        "    for epoch in range(num_epochs):\n",
        "        print('Epoch {}/{}'.format(epoch + 1, num_epochs))\n",
        "        print('-' * 10)\n",
        "\n",
        "        # Each epoch has a training and validation phase\n",
        "        for phase in ['train', 'val']:\n",
        "            if phase == 'train':\n",
        "                model.train()  # Set model to training mode\n",
        "            else:\n",
        "                model.eval()   # Set model to evaluate mode\n",
        "\n",
        "            running_loss = 0.0\n",
        "            running_corrects = 0\n",
        "\n",
        "            # Iterate over data.\n",
        "            # TQDM has nice progress bars\n",
        "            for inputs, labels in tqdm(dataloaders[phase]):\n",
        "                if eval_mode == 'singleclass':\n",
        "                  labels = labels.type(torch.FloatTensor)\n",
        "\n",
        "                if mode == \"fcagg\":\n",
        "                  input0, input1 = inputs\n",
        "                  input0 = input0.to(device)\n",
        "                  input1 = input1.to(device)\n",
        "                else:\n",
        "                  inputs = inputs.to(device)\n",
        "\n",
        "                labels = labels.to(device)\n",
        "\n",
        "                # zero the parameter gradients\n",
        "                optimizer.zero_grad()\n",
        "\n",
        "                # forward\n",
        "                # track history if only in train\n",
        "                with torch.set_grad_enabled(phase == 'train'):\n",
        "                    # Get model outputs and calculate loss\n",
        "                    if mode == \"fcagg\":\n",
        "                      outputs = model(input0, input1)\n",
        "                    else:\n",
        "                      outputs = model(inputs)\n",
        "\n",
        "                    outputs = outputs.to(device)\n",
        "                    loss = criterion(outputs, labels)\n",
        "\n",
        "                    # torch.max outputs the maximum value, and its index\n",
        "                    # Since the input is batched, we take the max along axis 1\n",
        "                    # (the meaningful outputs)\n",
        "                    if eval_mode == \"multiclass\":\n",
        "                      _, preds = torch.max(outputs, 1)\n",
        "                    elif eval_mode == \"multilabel\":\n",
        "                      preds = torch.sigmoid(outputs > 0.5).long()\n",
        "                    elif eval_mode == 'singleclass':\n",
        "                      preds = torch.sigmoid(outputs > 0.5).long()\n",
        "\n",
        "                    # backprop + optimize only if in training phase\n",
        "                    if phase == 'train':\n",
        "                        loss.backward()\n",
        "                        optimizer.step()\n",
        "\n",
        "                # statistics\n",
        "                if mode == \"fcagg\":\n",
        "                  running_loss +=loss.item() * input0.size(0) + loss.item() * input1.size(0)\n",
        "                else:\n",
        "                  running_loss += loss.item() * inputs.size(0)\n",
        "                running_corrects += torch.sum(preds == labels.data)\n",
        "\n",
        "            epoch_loss = running_loss / len(dataloaders[phase].dataset)\n",
        "            epoch_acc = running_corrects.double() / len(dataloaders[phase].dataset)\n",
        "\n",
        "\n",
        "            print('{} Loss: {:.4f} Acc: {:.4f}'.format(phase, epoch_loss, epoch_acc))\n",
        "\n",
        "            # deep copy the model\n",
        "            if phase == 'val' and epoch_acc > best_acc:\n",
        "                best_acc = epoch_acc\n",
        "                best_model_wts = copy.deepcopy(model.state_dict())\n",
        "            if phase == 'train':\n",
        "                train_acc_history.append(epoch_acc)\n",
        "            if phase == 'val':\n",
        "                val_acc_history.append(epoch_acc)\n",
        "            if save_all_epochs:\n",
        "                #torch.save(model.state_dict(), os.path.join(save_dir, f'{mode}_weights_{epoch}.pt'))\n",
        "                pass\n",
        "\n",
        "        print()\n",
        "\n",
        "    time_elapsed = time.time() - since\n",
        "    print('Training complete in {:.0f}m {:.0f}s'.format(time_elapsed // 60, time_elapsed % 60))\n",
        "    print('Best val Acc: {:4f}'.format(best_acc))\n",
        "\n",
        "    # save and load best model weights\n",
        "    torch.save(best_model_wts, os.path.join(save_dir, mode + '_weights_best_val_acc.pt'))\n",
        "    torch.save(model.state_dict(), os.path.join(save_dir, mode + '_weights_last.pt'.format(epoch)))\n",
        "    model.load_state_dict(best_model_wts)\n",
        "\n",
        "    with open(os.path.join(save_dir, mode + '_train_history.txt'), 'w') as f:\n",
        "      for i in range(num_epochs):\n",
        "        f.write(str(train_acc_history[i])+'\\n')\n",
        "\n",
        "    with open(os.path.join(save_dir, mode + '_val_history.txt'), 'w') as f:\n",
        "      for i in range(num_epochs):\n",
        "        f.write(str(val_acc_history[i])+'\\n')\n",
        "\n",
        "\n",
        "    return model, val_acc_history, train_acc_history"
      ],
      "metadata": {
        "id": "jNm3DubZ9aqu"
      },
      "execution_count": null,
      "outputs": []
    },
    {
      "cell_type": "markdown",
      "source": [
        "## Optimizer"
      ],
      "metadata": {
        "id": "_wUN_EN3BZIR"
      }
    },
    {
      "cell_type": "code",
      "source": [
        "def make_optimizer(model, learning_rate, print_parameters=False):\n",
        "    # Get all the parameters\n",
        "    params_to_update = model.parameters()\n",
        "    if print_parameters:\n",
        "      print(\"Params to learn:\")\n",
        "      for name, param in model.named_parameters():\n",
        "          if param.requires_grad == True:\n",
        "              print(\"\\t\",name)\n",
        "\n",
        "\n",
        "    optimizer = optim.SGD(params_to_update, lr=learning_rate, momentum=0.9)\n",
        "    return optimizer\n",
        "\n",
        "def get_loss(mode = \"multiclass\"):\n",
        "    # Create an instance of the loss function\n",
        "    if mode == \"multiclass\":\n",
        "      criterion = nn.CrossEntropyLoss()\n",
        "    # elif mode=='multilabel':\n",
        "    #   criterion = nn.BCEWithLogitsLoss()\n",
        "    # Create an instance of the loss function\n",
        "    elif mode == 'singleclass':\n",
        "      criterion = nn.BCELoss()\n",
        "    else:\n",
        "      raise ValueError()\n",
        "    return criterion"
      ],
      "metadata": {
        "id": "JRYSNs2_Bb-z"
      },
      "execution_count": null,
      "outputs": []
    },
    {
      "cell_type": "markdown",
      "source": [
        "## Setting Parameters"
      ],
      "metadata": {
        "id": "0Qps9U1MCtLw"
      }
    },
    {
      "cell_type": "code",
      "source": [
        "# Models to choose from [resnet, alexnet, vgg, squeezenet, densenet]\n",
        "# You can add your own, or modify these however you wish!\n",
        "model_name = \"resnet\"\n",
        "\n",
        "# Number of classes in the dataset\n",
        "num_classes = 17\n",
        "\n",
        "# Batch size for training (change depending on how much memory you have)\n",
        "batch_size = 32\n",
        "\n",
        "# Shuffle the input data?\n",
        "shuffle_datasets = True\n",
        "\n",
        "# Number of epochs to train for\n",
        "num_epochs = 25\n",
        "\n",
        "# Learning rate\n",
        "learning_rate = 1e-3\n",
        "\n",
        "### IO\n",
        "# Path to a model file to use to start weights at\n",
        "resume_from = None\n",
        "\n",
        "# Whether to use a pretrained model, trained for classification in Imagenet-1k\n",
        "pretrained = True\n",
        "\n",
        "# Save all epochs so that you can select the model from a particular epoch\n",
        "save_all_epochs = True\n",
        "\n",
        "# Whether to use early stopping (load the model with best accuracy), or not\n",
        "early_stopping = False\n",
        "\n",
        "# Directory to save weights to\n",
        "save_dir = models_dir + '/trained_model_1'\n",
        "os.makedirs(save_dir, exist_ok=True)"
      ],
      "metadata": {
        "id": "t_24tjsPC2hC"
      },
      "execution_count": null,
      "outputs": []
    },
    {
      "cell_type": "markdown",
      "source": [
        "## Training"
      ],
      "metadata": {
        "id": "FbsKxL3JDauL"
      }
    },
    {
      "cell_type": "markdown",
      "source": [
        "### Sound Model"
      ],
      "metadata": {
        "id": "xxftfXQ1DdIy"
      }
    },
    {
      "cell_type": "code",
      "source": [
        "model_sound, input_size = initialize_model(model_name = model_name, num_classes = num_classes, resume_from=resume_from, use_pretrained=pretrained, mode = \"sound\")\n",
        "dataloaders_sound = get_dataloaders(input_size, batch_size, \"sound\", shuffle_datasets)\n",
        "criterion_sound = get_loss(mode = \"multiclass\")\n",
        "\n",
        "# Move the model to the gpu if needed\n",
        "model_sound = model_sound.to(device)\n",
        "\n",
        "optimizer_sound = make_optimizer(model_sound, learning_rate)\n",
        "\n"
      ],
      "metadata": {
        "colab": {
          "base_uri": "https://localhost:8080/"
        },
        "id": "qqPrHAIyDhxf",
        "outputId": "ff1b7331-6542-417d-d7a2-8db240da2923"
      },
      "execution_count": null,
      "outputs": [
        {
          "output_type": "stream",
          "name": "stdout",
          "text": [
            "loaded:  50\n",
            "loaded:  100\n",
            "loaded:  150\n",
            "loaded:  200\n"
          ]
        },
        {
          "output_type": "stream",
          "name": "stderr",
          "text": [
            "/usr/local/lib/python3.10/dist-packages/torch/utils/data/dataloader.py:561: UserWarning: This DataLoader will create 4 worker processes in total. Our suggested max number of worker in current system is 2, which is smaller than what this DataLoader is going to create. Please be aware that excessive worker creation might get DataLoader running slow or even freeze, lower the worker number to avoid potential slowness/freeze if necessary.\n",
            "  warnings.warn(_create_warning_msg(\n"
          ]
        }
      ]
    },
    {
      "cell_type": "code",
      "source": [
        "# Train the model!\n",
        "trained_model_sound, validation_history_sound, train_history_sound = train_model(model=model_sound,\n",
        "                                                                     dataloaders=dataloaders_sound,\n",
        "                                                                     criterion=criterion_sound,\n",
        "                                                                     optimizer=optimizer_sound,\n",
        "                                                                     save_dir=save_dir,\n",
        "                                                                     save_all_epochs=save_all_epochs,\n",
        "                                                                     num_epochs=num_epochs,\n",
        "                                                                     mode = \"sound\")\n"
      ],
      "metadata": {
        "id": "fqZDNJeFEGu1",
        "colab": {
          "base_uri": "https://localhost:8080/"
        },
        "outputId": "a13758ba-9748-4357-edd3-d48ac6c203ad"
      },
      "execution_count": null,
      "outputs": [
        {
          "output_type": "stream",
          "name": "stdout",
          "text": [
            "Epoch 1/25\n",
            "----------\n"
          ]
        },
        {
          "output_type": "stream",
          "name": "stderr",
          "text": [
            "100%|██████████| 45/45 [00:14<00:00,  3.11it/s]\n"
          ]
        },
        {
          "output_type": "stream",
          "name": "stdout",
          "text": [
            "train Loss: 2.3784 Acc: 0.2451\n"
          ]
        },
        {
          "output_type": "stream",
          "name": "stderr",
          "text": [
            "100%|██████████| 45/45 [00:02<00:00, 19.07it/s]\n"
          ]
        },
        {
          "output_type": "stream",
          "name": "stdout",
          "text": [
            "val Loss: 2.0153 Acc: 0.3908\n",
            "\n",
            "Epoch 2/25\n",
            "----------\n"
          ]
        },
        {
          "output_type": "stream",
          "name": "stderr",
          "text": [
            "100%|██████████| 45/45 [00:05<00:00,  8.24it/s]\n"
          ]
        },
        {
          "output_type": "stream",
          "name": "stdout",
          "text": [
            "train Loss: 1.9474 Acc: 0.3859\n"
          ]
        },
        {
          "output_type": "stream",
          "name": "stderr",
          "text": [
            "100%|██████████| 45/45 [00:02<00:00, 17.55it/s]\n"
          ]
        },
        {
          "output_type": "stream",
          "name": "stdout",
          "text": [
            "val Loss: 1.8853 Acc: 0.4049\n",
            "\n",
            "Epoch 3/25\n",
            "----------\n"
          ]
        },
        {
          "output_type": "stream",
          "name": "stderr",
          "text": [
            "100%|██████████| 45/45 [00:05<00:00,  7.70it/s]\n"
          ]
        },
        {
          "output_type": "stream",
          "name": "stdout",
          "text": [
            "train Loss: 1.7554 Acc: 0.4486\n"
          ]
        },
        {
          "output_type": "stream",
          "name": "stderr",
          "text": [
            "100%|██████████| 45/45 [00:02<00:00, 18.88it/s]\n"
          ]
        },
        {
          "output_type": "stream",
          "name": "stdout",
          "text": [
            "val Loss: 1.6007 Acc: 0.5176\n",
            "\n",
            "Epoch 4/25\n",
            "----------\n"
          ]
        },
        {
          "output_type": "stream",
          "name": "stderr",
          "text": [
            "100%|██████████| 45/45 [00:05<00:00,  8.02it/s]\n"
          ]
        },
        {
          "output_type": "stream",
          "name": "stdout",
          "text": [
            "train Loss: 1.5610 Acc: 0.5218\n"
          ]
        },
        {
          "output_type": "stream",
          "name": "stderr",
          "text": [
            "100%|██████████| 45/45 [00:03<00:00, 14.70it/s]\n"
          ]
        },
        {
          "output_type": "stream",
          "name": "stdout",
          "text": [
            "val Loss: 1.3649 Acc: 0.5768\n",
            "\n",
            "Epoch 5/25\n",
            "----------\n"
          ]
        },
        {
          "output_type": "stream",
          "name": "stderr",
          "text": [
            "100%|██████████| 45/45 [00:05<00:00,  8.14it/s]\n"
          ]
        },
        {
          "output_type": "stream",
          "name": "stdout",
          "text": [
            "train Loss: 1.4180 Acc: 0.5535\n"
          ]
        },
        {
          "output_type": "stream",
          "name": "stderr",
          "text": [
            "100%|██████████| 45/45 [00:02<00:00, 18.75it/s]\n"
          ]
        },
        {
          "output_type": "stream",
          "name": "stdout",
          "text": [
            "val Loss: 1.1997 Acc: 0.6197\n",
            "\n",
            "Epoch 6/25\n",
            "----------\n"
          ]
        },
        {
          "output_type": "stream",
          "name": "stderr",
          "text": [
            "100%|██████████| 45/45 [00:05<00:00,  7.72it/s]\n"
          ]
        },
        {
          "output_type": "stream",
          "name": "stdout",
          "text": [
            "train Loss: 1.2707 Acc: 0.5944\n"
          ]
        },
        {
          "output_type": "stream",
          "name": "stderr",
          "text": [
            "100%|██████████| 45/45 [00:02<00:00, 18.67it/s]\n"
          ]
        },
        {
          "output_type": "stream",
          "name": "stdout",
          "text": [
            "val Loss: 1.2011 Acc: 0.6218\n",
            "\n",
            "Epoch 7/25\n",
            "----------\n"
          ]
        },
        {
          "output_type": "stream",
          "name": "stderr",
          "text": [
            "100%|██████████| 45/45 [00:05<00:00,  7.99it/s]\n"
          ]
        },
        {
          "output_type": "stream",
          "name": "stdout",
          "text": [
            "train Loss: 1.1672 Acc: 0.6394\n"
          ]
        },
        {
          "output_type": "stream",
          "name": "stderr",
          "text": [
            "100%|██████████| 45/45 [00:02<00:00, 17.79it/s]\n"
          ]
        },
        {
          "output_type": "stream",
          "name": "stdout",
          "text": [
            "val Loss: 1.0076 Acc: 0.6697\n",
            "\n",
            "Epoch 8/25\n",
            "----------\n"
          ]
        },
        {
          "output_type": "stream",
          "name": "stderr",
          "text": [
            "100%|██████████| 45/45 [00:06<00:00,  7.49it/s]\n"
          ]
        },
        {
          "output_type": "stream",
          "name": "stdout",
          "text": [
            "train Loss: 1.0528 Acc: 0.6690\n"
          ]
        },
        {
          "output_type": "stream",
          "name": "stderr",
          "text": [
            "100%|██████████| 45/45 [00:02<00:00, 18.76it/s]\n"
          ]
        },
        {
          "output_type": "stream",
          "name": "stdout",
          "text": [
            "val Loss: 0.8784 Acc: 0.7345\n",
            "\n",
            "Epoch 9/25\n",
            "----------\n"
          ]
        },
        {
          "output_type": "stream",
          "name": "stderr",
          "text": [
            "100%|██████████| 45/45 [00:05<00:00,  7.84it/s]\n"
          ]
        },
        {
          "output_type": "stream",
          "name": "stdout",
          "text": [
            "train Loss: 0.9317 Acc: 0.7183\n"
          ]
        },
        {
          "output_type": "stream",
          "name": "stderr",
          "text": [
            "100%|██████████| 45/45 [00:03<00:00, 14.71it/s]\n"
          ]
        },
        {
          "output_type": "stream",
          "name": "stdout",
          "text": [
            "val Loss: 0.7390 Acc: 0.7901\n",
            "\n",
            "Epoch 10/25\n",
            "----------\n"
          ]
        },
        {
          "output_type": "stream",
          "name": "stderr",
          "text": [
            "100%|██████████| 45/45 [00:05<00:00,  7.96it/s]\n"
          ]
        },
        {
          "output_type": "stream",
          "name": "stdout",
          "text": [
            "train Loss: 0.8296 Acc: 0.7472\n"
          ]
        },
        {
          "output_type": "stream",
          "name": "stderr",
          "text": [
            "100%|██████████| 45/45 [00:02<00:00, 18.51it/s]\n"
          ]
        },
        {
          "output_type": "stream",
          "name": "stdout",
          "text": [
            "val Loss: 0.6728 Acc: 0.8070\n",
            "\n",
            "Epoch 11/25\n",
            "----------\n"
          ]
        },
        {
          "output_type": "stream",
          "name": "stderr",
          "text": [
            "100%|██████████| 45/45 [00:05<00:00,  7.56it/s]\n"
          ]
        },
        {
          "output_type": "stream",
          "name": "stdout",
          "text": [
            "train Loss: 0.7284 Acc: 0.7972\n"
          ]
        },
        {
          "output_type": "stream",
          "name": "stderr",
          "text": [
            "100%|██████████| 45/45 [00:02<00:00, 18.76it/s]\n"
          ]
        },
        {
          "output_type": "stream",
          "name": "stdout",
          "text": [
            "val Loss: 0.6155 Acc: 0.8141\n",
            "\n",
            "Epoch 12/25\n",
            "----------\n"
          ]
        },
        {
          "output_type": "stream",
          "name": "stderr",
          "text": [
            "100%|██████████| 45/45 [00:05<00:00,  7.82it/s]\n"
          ]
        },
        {
          "output_type": "stream",
          "name": "stdout",
          "text": [
            "train Loss: 0.6525 Acc: 0.8077\n"
          ]
        },
        {
          "output_type": "stream",
          "name": "stderr",
          "text": [
            "100%|██████████| 45/45 [00:02<00:00, 17.13it/s]\n"
          ]
        },
        {
          "output_type": "stream",
          "name": "stdout",
          "text": [
            "val Loss: 0.5239 Acc: 0.8458\n",
            "\n",
            "Epoch 13/25\n",
            "----------\n"
          ]
        },
        {
          "output_type": "stream",
          "name": "stderr",
          "text": [
            "100%|██████████| 45/45 [00:06<00:00,  7.28it/s]\n"
          ]
        },
        {
          "output_type": "stream",
          "name": "stdout",
          "text": [
            "train Loss: 0.5786 Acc: 0.8380\n"
          ]
        },
        {
          "output_type": "stream",
          "name": "stderr",
          "text": [
            "100%|██████████| 45/45 [00:02<00:00, 18.43it/s]\n"
          ]
        },
        {
          "output_type": "stream",
          "name": "stdout",
          "text": [
            "val Loss: 0.4225 Acc: 0.9070\n",
            "\n",
            "Epoch 14/25\n",
            "----------\n"
          ]
        },
        {
          "output_type": "stream",
          "name": "stderr",
          "text": [
            "100%|██████████| 45/45 [00:05<00:00,  7.51it/s]\n"
          ]
        },
        {
          "output_type": "stream",
          "name": "stdout",
          "text": [
            "train Loss: 0.5104 Acc: 0.8655\n"
          ]
        },
        {
          "output_type": "stream",
          "name": "stderr",
          "text": [
            "100%|██████████| 45/45 [00:03<00:00, 14.76it/s]\n"
          ]
        },
        {
          "output_type": "stream",
          "name": "stdout",
          "text": [
            "val Loss: 0.4398 Acc: 0.8704\n",
            "\n",
            "Epoch 15/25\n",
            "----------\n"
          ]
        },
        {
          "output_type": "stream",
          "name": "stderr",
          "text": [
            "100%|██████████| 45/45 [00:05<00:00,  7.64it/s]\n"
          ]
        },
        {
          "output_type": "stream",
          "name": "stdout",
          "text": [
            "train Loss: 0.4791 Acc: 0.8782\n"
          ]
        },
        {
          "output_type": "stream",
          "name": "stderr",
          "text": [
            "100%|██████████| 45/45 [00:02<00:00, 18.40it/s]\n"
          ]
        },
        {
          "output_type": "stream",
          "name": "stdout",
          "text": [
            "val Loss: 0.3269 Acc: 0.9310\n",
            "\n",
            "Epoch 16/25\n",
            "----------\n"
          ]
        },
        {
          "output_type": "stream",
          "name": "stderr",
          "text": [
            "100%|██████████| 45/45 [00:06<00:00,  7.29it/s]\n"
          ]
        },
        {
          "output_type": "stream",
          "name": "stdout",
          "text": [
            "train Loss: 0.3875 Acc: 0.9183\n"
          ]
        },
        {
          "output_type": "stream",
          "name": "stderr",
          "text": [
            "100%|██████████| 45/45 [00:02<00:00, 17.95it/s]\n"
          ]
        },
        {
          "output_type": "stream",
          "name": "stdout",
          "text": [
            "val Loss: 0.3101 Acc: 0.9359\n",
            "\n",
            "Epoch 17/25\n",
            "----------\n"
          ]
        },
        {
          "output_type": "stream",
          "name": "stderr",
          "text": [
            "100%|██████████| 45/45 [00:05<00:00,  7.60it/s]\n"
          ]
        },
        {
          "output_type": "stream",
          "name": "stdout",
          "text": [
            "train Loss: 0.3264 Acc: 0.9261\n"
          ]
        },
        {
          "output_type": "stream",
          "name": "stderr",
          "text": [
            "100%|██████████| 45/45 [00:02<00:00, 15.06it/s]\n"
          ]
        },
        {
          "output_type": "stream",
          "name": "stdout",
          "text": [
            "val Loss: 0.2554 Acc: 0.9458\n",
            "\n",
            "Epoch 18/25\n",
            "----------\n"
          ]
        },
        {
          "output_type": "stream",
          "name": "stderr",
          "text": [
            "100%|██████████| 45/45 [00:06<00:00,  7.30it/s]\n"
          ]
        },
        {
          "output_type": "stream",
          "name": "stdout",
          "text": [
            "train Loss: 0.2810 Acc: 0.9415\n"
          ]
        },
        {
          "output_type": "stream",
          "name": "stderr",
          "text": [
            "100%|██████████| 45/45 [00:02<00:00, 18.25it/s]\n"
          ]
        },
        {
          "output_type": "stream",
          "name": "stdout",
          "text": [
            "val Loss: 0.1937 Acc: 0.9620\n",
            "\n",
            "Epoch 19/25\n",
            "----------\n"
          ]
        },
        {
          "output_type": "stream",
          "name": "stderr",
          "text": [
            "100%|██████████| 45/45 [00:06<00:00,  7.30it/s]\n"
          ]
        },
        {
          "output_type": "stream",
          "name": "stdout",
          "text": [
            "train Loss: 0.2529 Acc: 0.9528\n"
          ]
        },
        {
          "output_type": "stream",
          "name": "stderr",
          "text": [
            "100%|██████████| 45/45 [00:02<00:00, 16.82it/s]\n"
          ]
        },
        {
          "output_type": "stream",
          "name": "stdout",
          "text": [
            "val Loss: 0.2193 Acc: 0.9620\n",
            "\n",
            "Epoch 20/25\n",
            "----------\n"
          ]
        },
        {
          "output_type": "stream",
          "name": "stderr",
          "text": [
            "100%|██████████| 45/45 [00:05<00:00,  7.71it/s]\n"
          ]
        },
        {
          "output_type": "stream",
          "name": "stdout",
          "text": [
            "train Loss: 0.2266 Acc: 0.9613\n"
          ]
        },
        {
          "output_type": "stream",
          "name": "stderr",
          "text": [
            "100%|██████████| 45/45 [00:02<00:00, 17.42it/s]\n"
          ]
        },
        {
          "output_type": "stream",
          "name": "stdout",
          "text": [
            "val Loss: 0.1442 Acc: 0.9782\n",
            "\n",
            "Epoch 21/25\n",
            "----------\n"
          ]
        },
        {
          "output_type": "stream",
          "name": "stderr",
          "text": [
            "100%|██████████| 45/45 [00:06<00:00,  7.15it/s]\n"
          ]
        },
        {
          "output_type": "stream",
          "name": "stdout",
          "text": [
            "train Loss: 0.1980 Acc: 0.9613\n"
          ]
        },
        {
          "output_type": "stream",
          "name": "stderr",
          "text": [
            "100%|██████████| 45/45 [00:02<00:00, 18.03it/s]\n"
          ]
        },
        {
          "output_type": "stream",
          "name": "stdout",
          "text": [
            "val Loss: 0.1220 Acc: 0.9852\n",
            "\n",
            "Epoch 22/25\n",
            "----------\n"
          ]
        },
        {
          "output_type": "stream",
          "name": "stderr",
          "text": [
            "100%|██████████| 45/45 [00:05<00:00,  7.53it/s]\n"
          ]
        },
        {
          "output_type": "stream",
          "name": "stdout",
          "text": [
            "train Loss: 0.1636 Acc: 0.9782\n"
          ]
        },
        {
          "output_type": "stream",
          "name": "stderr",
          "text": [
            "100%|██████████| 45/45 [00:03<00:00, 14.71it/s]\n"
          ]
        },
        {
          "output_type": "stream",
          "name": "stdout",
          "text": [
            "val Loss: 0.1011 Acc: 0.9866\n",
            "\n",
            "Epoch 23/25\n",
            "----------\n"
          ]
        },
        {
          "output_type": "stream",
          "name": "stderr",
          "text": [
            "100%|██████████| 45/45 [00:05<00:00,  7.72it/s]\n"
          ]
        },
        {
          "output_type": "stream",
          "name": "stdout",
          "text": [
            "train Loss: 0.1520 Acc: 0.9789\n"
          ]
        },
        {
          "output_type": "stream",
          "name": "stderr",
          "text": [
            "100%|██████████| 45/45 [00:02<00:00, 18.60it/s]\n"
          ]
        },
        {
          "output_type": "stream",
          "name": "stdout",
          "text": [
            "val Loss: 0.0724 Acc: 0.9908\n",
            "\n",
            "Epoch 24/25\n",
            "----------\n"
          ]
        },
        {
          "output_type": "stream",
          "name": "stderr",
          "text": [
            "100%|██████████| 45/45 [00:06<00:00,  7.35it/s]\n"
          ]
        },
        {
          "output_type": "stream",
          "name": "stdout",
          "text": [
            "train Loss: 0.1159 Acc: 0.9908\n"
          ]
        },
        {
          "output_type": "stream",
          "name": "stderr",
          "text": [
            "100%|██████████| 45/45 [00:02<00:00, 18.13it/s]\n"
          ]
        },
        {
          "output_type": "stream",
          "name": "stdout",
          "text": [
            "val Loss: 0.0535 Acc: 0.9986\n",
            "\n",
            "Epoch 25/25\n",
            "----------\n"
          ]
        },
        {
          "output_type": "stream",
          "name": "stderr",
          "text": [
            "100%|██████████| 45/45 [00:05<00:00,  7.74it/s]\n"
          ]
        },
        {
          "output_type": "stream",
          "name": "stdout",
          "text": [
            "train Loss: 0.1030 Acc: 0.9951\n"
          ]
        },
        {
          "output_type": "stream",
          "name": "stderr",
          "text": [
            "100%|██████████| 45/45 [00:02<00:00, 15.55it/s]\n"
          ]
        },
        {
          "output_type": "stream",
          "name": "stdout",
          "text": [
            "val Loss: 0.0668 Acc: 0.9951\n",
            "\n",
            "Training complete in 3m 42s\n",
            "Best val Acc: 0.998592\n"
          ]
        }
      ]
    },
    {
      "cell_type": "markdown",
      "source": [
        "### Image Model"
      ],
      "metadata": {
        "id": "mHB7PvgnMZmp"
      }
    },
    {
      "cell_type": "code",
      "source": [
        "model_image, input_size = initialize_model(model_name = model_name, num_classes = num_classes, resume_from=resume_from, use_pretrained=pretrained, mode = \"image\")\n",
        "dataloaders_image = get_dataloaders(input_size, batch_size, \"image\", shuffle_datasets)\n",
        "criterion_image = get_loss(mode = \"multiclass\")\n",
        "\n",
        "# Move the model to the gpu if needed\n",
        "model_image = model_image.to(device)\n",
        "\n",
        "optimizer_image = make_optimizer(model_image, learning_rate)"
      ],
      "metadata": {
        "colab": {
          "base_uri": "https://localhost:8080/"
        },
        "id": "6EFNf_BsMcZ4",
        "outputId": "6cc4d62e-4a3f-456e-f856-b3a25d5328be"
      },
      "execution_count": null,
      "outputs": [
        {
          "metadata": {
            "tags": null
          },
          "name": "stderr",
          "output_type": "stream",
          "text": [
            "<ipython-input-5-21c17772b88f>:91: DeprecationWarning: Starting with ImageIO v3 the behavior of this function will switch to that of iio.v3.imread. To keep the current behavior (and make this warning disappear) use `import imageio.v2 as imageio` or call `imageio.v2.imread` directly.\n",
            "  img = imageio.imread(file_path, pilmode='RGB')\n"
          ]
        },
        {
          "output_type": "stream",
          "name": "stdout",
          "text": [
            "loaded:  50\n",
            "loaded:  100\n",
            "loaded:  150\n",
            "loaded:  200\n",
            "loaded:  250\n",
            "loaded:  300\n",
            "loaded:  350\n",
            "skipped:  2015-09-23-15-41-10-262 0\n",
            "loaded:  400\n",
            "loaded:  450\n",
            "loaded:  500\n",
            "loaded:  550\n",
            "loaded:  600\n",
            "loaded:  650\n",
            "loaded:  700\n",
            "loaded:  50\n",
            "loaded:  100\n",
            "loaded:  150\n",
            "loaded:  200\n",
            "loaded:  250\n",
            "loaded:  300\n",
            "loaded:  350\n",
            "skipped:  2015-09-23-15-41-10-262 0\n",
            "loaded:  400\n",
            "loaded:  450\n",
            "loaded:  500\n",
            "loaded:  550\n",
            "loaded:  600\n",
            "loaded:  650\n",
            "loaded:  700\n",
            "loaded:  50\n",
            "loaded:  100\n",
            "loaded:  150\n",
            "loaded:  200\n"
          ]
        }
      ]
    },
    {
      "cell_type": "code",
      "source": [
        "trained_model_image, validation_history_image, train_history_image = train_model(model=model_image,\n",
        "                                                                     dataloaders=dataloaders_image,\n",
        "                                                                     criterion=criterion_image,\n",
        "                                                                     optimizer=optimizer_image,\n",
        "                                                                     save_dir=save_dir,\n",
        "                                                                     save_all_epochs=save_all_epochs,\n",
        "                                                                     num_epochs=num_epochs,\n",
        "                                                                     eval_mode='multiclass',\n",
        "                                                                     mode = \"image\")"
      ],
      "metadata": {
        "colab": {
          "base_uri": "https://localhost:8080/"
        },
        "id": "gpyC3nzGOzo-",
        "outputId": "09bd6721-0541-432c-98db-f7f468ccdb32"
      },
      "execution_count": null,
      "outputs": [
        {
          "metadata": {
            "tags": null
          },
          "name": "stdout",
          "output_type": "stream",
          "text": [
            "Epoch 1/25\n",
            "----------\n"
          ]
        },
        {
          "metadata": {
            "tags": null
          },
          "name": "stderr",
          "output_type": "stream",
          "text": [
            "100%|██████████| 45/45 [00:12<00:00,  3.70it/s]\n"
          ]
        },
        {
          "metadata": {
            "tags": null
          },
          "name": "stdout",
          "output_type": "stream",
          "text": [
            "train Loss: 2.3066 Acc: 0.2669\n"
          ]
        },
        {
          "metadata": {
            "tags": null
          },
          "name": "stderr",
          "output_type": "stream",
          "text": [
            "100%|██████████| 45/45 [00:04<00:00,  9.00it/s]\n"
          ]
        },
        {
          "metadata": {
            "tags": null
          },
          "name": "stdout",
          "output_type": "stream",
          "text": [
            "val Loss: 1.8360 Acc: 0.3873\n",
            "\n",
            "Epoch 2/25\n",
            "----------\n"
          ]
        },
        {
          "metadata": {
            "tags": null
          },
          "name": "stderr",
          "output_type": "stream",
          "text": [
            "100%|██████████| 45/45 [00:11<00:00,  3.76it/s]\n"
          ]
        },
        {
          "metadata": {
            "tags": null
          },
          "name": "stdout",
          "output_type": "stream",
          "text": [
            "train Loss: 1.6831 Acc: 0.4655\n"
          ]
        },
        {
          "metadata": {
            "tags": null
          },
          "name": "stderr",
          "output_type": "stream",
          "text": [
            "100%|██████████| 45/45 [00:05<00:00,  8.03it/s]\n"
          ]
        },
        {
          "metadata": {
            "tags": null
          },
          "name": "stdout",
          "output_type": "stream",
          "text": [
            "val Loss: 1.5044 Acc: 0.5063\n",
            "\n",
            "Epoch 3/25\n",
            "----------\n"
          ]
        },
        {
          "metadata": {
            "tags": null
          },
          "name": "stderr",
          "output_type": "stream",
          "text": [
            "100%|██████████| 45/45 [00:11<00:00,  3.87it/s]\n"
          ]
        },
        {
          "metadata": {
            "tags": null
          },
          "name": "stdout",
          "output_type": "stream",
          "text": [
            "train Loss: 1.4013 Acc: 0.5373\n"
          ]
        },
        {
          "metadata": {
            "tags": null
          },
          "name": "stderr",
          "output_type": "stream",
          "text": [
            "100%|██████████| 45/45 [00:05<00:00,  8.95it/s]\n"
          ]
        },
        {
          "metadata": {
            "tags": null
          },
          "name": "stdout",
          "output_type": "stream",
          "text": [
            "val Loss: 1.3284 Acc: 0.5493\n",
            "\n",
            "Epoch 4/25\n",
            "----------\n"
          ]
        },
        {
          "metadata": {
            "tags": null
          },
          "name": "stderr",
          "output_type": "stream",
          "text": [
            "100%|██████████| 45/45 [00:11<00:00,  3.98it/s]\n"
          ]
        },
        {
          "metadata": {
            "tags": null
          },
          "name": "stdout",
          "output_type": "stream",
          "text": [
            "train Loss: 1.1837 Acc: 0.6204\n"
          ]
        },
        {
          "metadata": {
            "tags": null
          },
          "name": "stderr",
          "output_type": "stream",
          "text": [
            "100%|██████████| 45/45 [00:04<00:00,  9.19it/s]\n"
          ]
        },
        {
          "metadata": {
            "tags": null
          },
          "name": "stdout",
          "output_type": "stream",
          "text": [
            "val Loss: 1.1897 Acc: 0.6092\n",
            "\n",
            "Epoch 5/25\n",
            "----------\n"
          ]
        },
        {
          "metadata": {
            "tags": null
          },
          "name": "stderr",
          "output_type": "stream",
          "text": [
            "100%|██████████| 45/45 [00:11<00:00,  3.93it/s]\n"
          ]
        },
        {
          "metadata": {
            "tags": null
          },
          "name": "stdout",
          "output_type": "stream",
          "text": [
            "train Loss: 1.0153 Acc: 0.6930\n"
          ]
        },
        {
          "metadata": {
            "tags": null
          },
          "name": "stderr",
          "output_type": "stream",
          "text": [
            "100%|██████████| 45/45 [00:05<00:00,  8.60it/s]\n"
          ]
        },
        {
          "metadata": {
            "tags": null
          },
          "name": "stdout",
          "output_type": "stream",
          "text": [
            "val Loss: 1.0992 Acc: 0.6437\n",
            "\n",
            "Epoch 6/25\n",
            "----------\n"
          ]
        },
        {
          "metadata": {
            "tags": null
          },
          "name": "stderr",
          "output_type": "stream",
          "text": [
            "100%|██████████| 45/45 [00:11<00:00,  3.87it/s]\n"
          ]
        },
        {
          "metadata": {
            "tags": null
          },
          "name": "stdout",
          "output_type": "stream",
          "text": [
            "train Loss: 0.8522 Acc: 0.7472\n"
          ]
        },
        {
          "metadata": {
            "tags": null
          },
          "name": "stderr",
          "output_type": "stream",
          "text": [
            "100%|██████████| 45/45 [00:05<00:00,  7.77it/s]\n"
          ]
        },
        {
          "metadata": {
            "tags": null
          },
          "name": "stdout",
          "output_type": "stream",
          "text": [
            "val Loss: 0.9557 Acc: 0.6768\n",
            "\n",
            "Epoch 7/25\n",
            "----------\n"
          ]
        },
        {
          "metadata": {
            "tags": null
          },
          "name": "stderr",
          "output_type": "stream",
          "text": [
            "100%|██████████| 45/45 [00:11<00:00,  3.95it/s]\n"
          ]
        },
        {
          "metadata": {
            "tags": null
          },
          "name": "stdout",
          "output_type": "stream",
          "text": [
            "train Loss: 0.6901 Acc: 0.8113\n"
          ]
        },
        {
          "metadata": {
            "tags": null
          },
          "name": "stderr",
          "output_type": "stream",
          "text": [
            "100%|██████████| 45/45 [00:04<00:00,  9.07it/s]\n"
          ]
        },
        {
          "metadata": {
            "tags": null
          },
          "name": "stdout",
          "output_type": "stream",
          "text": [
            "val Loss: 0.9035 Acc: 0.6852\n",
            "\n",
            "Epoch 8/25\n",
            "----------\n"
          ]
        },
        {
          "metadata": {
            "tags": null
          },
          "name": "stderr",
          "output_type": "stream",
          "text": [
            "100%|██████████| 45/45 [00:11<00:00,  3.90it/s]\n"
          ]
        },
        {
          "metadata": {
            "tags": null
          },
          "name": "stdout",
          "output_type": "stream",
          "text": [
            "train Loss: 0.5848 Acc: 0.8514\n"
          ]
        },
        {
          "metadata": {
            "tags": null
          },
          "name": "stderr",
          "output_type": "stream",
          "text": [
            "100%|██████████| 45/45 [00:04<00:00,  9.02it/s]\n"
          ]
        },
        {
          "metadata": {
            "tags": null
          },
          "name": "stdout",
          "output_type": "stream",
          "text": [
            "val Loss: 0.8302 Acc: 0.7169\n",
            "\n",
            "Epoch 9/25\n",
            "----------\n"
          ]
        },
        {
          "metadata": {
            "tags": null
          },
          "name": "stderr",
          "output_type": "stream",
          "text": [
            "100%|██████████| 45/45 [00:11<00:00,  3.90it/s]\n"
          ]
        },
        {
          "metadata": {
            "tags": null
          },
          "name": "stdout",
          "output_type": "stream",
          "text": [
            "train Loss: 0.4686 Acc: 0.9028\n"
          ]
        },
        {
          "metadata": {
            "tags": null
          },
          "name": "stderr",
          "output_type": "stream",
          "text": [
            "100%|██████████| 45/45 [00:05<00:00,  8.57it/s]\n"
          ]
        },
        {
          "metadata": {
            "tags": null
          },
          "name": "stdout",
          "output_type": "stream",
          "text": [
            "val Loss: 0.8027 Acc: 0.7317\n",
            "\n",
            "Epoch 10/25\n",
            "----------\n"
          ]
        },
        {
          "metadata": {
            "tags": null
          },
          "name": "stderr",
          "output_type": "stream",
          "text": [
            "100%|██████████| 45/45 [00:11<00:00,  3.85it/s]\n"
          ]
        },
        {
          "metadata": {
            "tags": null
          },
          "name": "stdout",
          "output_type": "stream",
          "text": [
            "train Loss: 0.3774 Acc: 0.9303\n"
          ]
        },
        {
          "metadata": {
            "tags": null
          },
          "name": "stderr",
          "output_type": "stream",
          "text": [
            "100%|██████████| 45/45 [00:05<00:00,  8.17it/s]\n"
          ]
        },
        {
          "metadata": {
            "tags": null
          },
          "name": "stdout",
          "output_type": "stream",
          "text": [
            "val Loss: 0.7600 Acc: 0.7437\n",
            "\n",
            "Epoch 11/25\n",
            "----------\n"
          ]
        },
        {
          "metadata": {
            "tags": null
          },
          "name": "stderr",
          "output_type": "stream",
          "text": [
            "100%|██████████| 45/45 [00:11<00:00,  3.96it/s]\n"
          ]
        },
        {
          "metadata": {
            "tags": null
          },
          "name": "stdout",
          "output_type": "stream",
          "text": [
            "train Loss: 0.3215 Acc: 0.9472\n"
          ]
        },
        {
          "metadata": {
            "tags": null
          },
          "name": "stderr",
          "output_type": "stream",
          "text": [
            "100%|██████████| 45/45 [00:04<00:00,  9.17it/s]\n"
          ]
        },
        {
          "metadata": {
            "tags": null
          },
          "name": "stdout",
          "output_type": "stream",
          "text": [
            "val Loss: 0.7434 Acc: 0.7458\n",
            "\n",
            "Epoch 12/25\n",
            "----------\n"
          ]
        },
        {
          "metadata": {
            "tags": null
          },
          "name": "stderr",
          "output_type": "stream",
          "text": [
            "100%|██████████| 45/45 [00:11<00:00,  3.89it/s]\n"
          ]
        },
        {
          "metadata": {
            "tags": null
          },
          "name": "stdout",
          "output_type": "stream",
          "text": [
            "train Loss: 0.2519 Acc: 0.9655\n"
          ]
        },
        {
          "metadata": {
            "tags": null
          },
          "name": "stderr",
          "output_type": "stream",
          "text": [
            "100%|██████████| 45/45 [00:04<00:00,  9.05it/s]\n"
          ]
        },
        {
          "metadata": {
            "tags": null
          },
          "name": "stdout",
          "output_type": "stream",
          "text": [
            "val Loss: 0.7363 Acc: 0.7401\n",
            "\n",
            "Epoch 13/25\n",
            "----------\n"
          ]
        },
        {
          "metadata": {
            "tags": null
          },
          "name": "stderr",
          "output_type": "stream",
          "text": [
            "100%|██████████| 45/45 [00:11<00:00,  3.84it/s]\n"
          ]
        },
        {
          "metadata": {
            "tags": null
          },
          "name": "stdout",
          "output_type": "stream",
          "text": [
            "train Loss: 0.2065 Acc: 0.9761\n"
          ]
        },
        {
          "metadata": {
            "tags": null
          },
          "name": "stderr",
          "output_type": "stream",
          "text": [
            "100%|██████████| 45/45 [00:05<00:00,  8.17it/s]\n"
          ]
        },
        {
          "metadata": {
            "tags": null
          },
          "name": "stdout",
          "output_type": "stream",
          "text": [
            "val Loss: 0.7084 Acc: 0.7493\n",
            "\n",
            "Epoch 14/25\n",
            "----------\n"
          ]
        },
        {
          "metadata": {
            "tags": null
          },
          "name": "stderr",
          "output_type": "stream",
          "text": [
            "100%|██████████| 45/45 [00:11<00:00,  3.91it/s]\n"
          ]
        },
        {
          "metadata": {
            "tags": null
          },
          "name": "stdout",
          "output_type": "stream",
          "text": [
            "train Loss: 0.1658 Acc: 0.9831\n"
          ]
        },
        {
          "metadata": {
            "tags": null
          },
          "name": "stderr",
          "output_type": "stream",
          "text": [
            "100%|██████████| 45/45 [00:05<00:00,  8.62it/s]\n"
          ]
        },
        {
          "metadata": {
            "tags": null
          },
          "name": "stdout",
          "output_type": "stream",
          "text": [
            "val Loss: 0.7090 Acc: 0.7549\n",
            "\n",
            "Epoch 15/25\n",
            "----------\n"
          ]
        },
        {
          "metadata": {
            "tags": null
          },
          "name": "stderr",
          "output_type": "stream",
          "text": [
            "100%|██████████| 45/45 [00:11<00:00,  3.93it/s]\n"
          ]
        },
        {
          "metadata": {
            "tags": null
          },
          "name": "stdout",
          "output_type": "stream",
          "text": [
            "train Loss: 0.1385 Acc: 0.9887\n"
          ]
        },
        {
          "metadata": {
            "tags": null
          },
          "name": "stderr",
          "output_type": "stream",
          "text": [
            "100%|██████████| 45/45 [00:05<00:00,  8.91it/s]\n"
          ]
        },
        {
          "metadata": {
            "tags": null
          },
          "name": "stdout",
          "output_type": "stream",
          "text": [
            "val Loss: 0.7034 Acc: 0.7592\n",
            "\n",
            "Epoch 16/25\n",
            "----------\n"
          ]
        },
        {
          "metadata": {
            "tags": null
          },
          "name": "stderr",
          "output_type": "stream",
          "text": [
            "100%|██████████| 45/45 [00:11<00:00,  3.87it/s]\n"
          ]
        },
        {
          "metadata": {
            "tags": null
          },
          "name": "stdout",
          "output_type": "stream",
          "text": [
            "train Loss: 0.1181 Acc: 0.9951\n"
          ]
        },
        {
          "output_type": "stream",
          "name": "stderr",
          "text": [
            "100%|██████████| 45/45 [00:05<00:00,  8.71it/s]\n"
          ]
        },
        {
          "output_type": "stream",
          "name": "stdout",
          "text": [
            "val Loss: 0.6934 Acc: 0.7634\n",
            "\n",
            "Epoch 17/25\n",
            "----------\n"
          ]
        },
        {
          "output_type": "stream",
          "name": "stderr",
          "text": [
            "100%|██████████| 45/45 [00:11<00:00,  3.83it/s]\n"
          ]
        },
        {
          "output_type": "stream",
          "name": "stdout",
          "text": [
            "train Loss: 0.1101 Acc: 0.9937\n"
          ]
        },
        {
          "output_type": "stream",
          "name": "stderr",
          "text": [
            "100%|██████████| 45/45 [00:05<00:00,  7.85it/s]\n"
          ]
        },
        {
          "output_type": "stream",
          "name": "stdout",
          "text": [
            "val Loss: 0.6901 Acc: 0.7669\n",
            "\n",
            "Epoch 18/25\n",
            "----------\n"
          ]
        },
        {
          "output_type": "stream",
          "name": "stderr",
          "text": [
            "100%|██████████| 45/45 [00:11<00:00,  3.93it/s]\n"
          ]
        },
        {
          "output_type": "stream",
          "name": "stdout",
          "text": [
            "train Loss: 0.0818 Acc: 0.9972\n"
          ]
        },
        {
          "output_type": "stream",
          "name": "stderr",
          "text": [
            "100%|██████████| 45/45 [00:04<00:00,  9.12it/s]\n"
          ]
        },
        {
          "output_type": "stream",
          "name": "stdout",
          "text": [
            "val Loss: 0.7022 Acc: 0.7570\n",
            "\n",
            "Epoch 19/25\n",
            "----------\n"
          ]
        },
        {
          "output_type": "stream",
          "name": "stderr",
          "text": [
            "100%|██████████| 45/45 [00:11<00:00,  3.92it/s]\n"
          ]
        },
        {
          "output_type": "stream",
          "name": "stdout",
          "text": [
            "train Loss: 0.0769 Acc: 0.9979\n"
          ]
        },
        {
          "output_type": "stream",
          "name": "stderr",
          "text": [
            "100%|██████████| 45/45 [00:04<00:00,  9.09it/s]\n"
          ]
        },
        {
          "output_type": "stream",
          "name": "stdout",
          "text": [
            "val Loss: 0.6966 Acc: 0.7549\n",
            "\n",
            "Epoch 20/25\n",
            "----------\n"
          ]
        },
        {
          "output_type": "stream",
          "name": "stderr",
          "text": [
            "100%|██████████| 45/45 [00:11<00:00,  3.92it/s]\n"
          ]
        },
        {
          "output_type": "stream",
          "name": "stdout",
          "text": [
            "train Loss: 0.0744 Acc: 0.9972\n"
          ]
        },
        {
          "output_type": "stream",
          "name": "stderr",
          "text": [
            "100%|██████████| 45/45 [00:05<00:00,  8.25it/s]\n"
          ]
        },
        {
          "output_type": "stream",
          "name": "stdout",
          "text": [
            "val Loss: 0.6947 Acc: 0.7606\n",
            "\n",
            "Epoch 21/25\n",
            "----------\n"
          ]
        },
        {
          "output_type": "stream",
          "name": "stderr",
          "text": [
            "100%|██████████| 45/45 [00:11<00:00,  3.86it/s]\n"
          ]
        },
        {
          "output_type": "stream",
          "name": "stdout",
          "text": [
            "train Loss: 0.0674 Acc: 0.9965\n"
          ]
        },
        {
          "output_type": "stream",
          "name": "stderr",
          "text": [
            "100%|██████████| 45/45 [00:05<00:00,  8.13it/s]\n"
          ]
        },
        {
          "output_type": "stream",
          "name": "stdout",
          "text": [
            "val Loss: 0.7010 Acc: 0.7620\n",
            "\n",
            "Epoch 22/25\n",
            "----------\n"
          ]
        },
        {
          "output_type": "stream",
          "name": "stderr",
          "text": [
            "100%|██████████| 45/45 [00:11<00:00,  3.96it/s]\n"
          ]
        },
        {
          "output_type": "stream",
          "name": "stdout",
          "text": [
            "train Loss: 0.0576 Acc: 0.9993\n"
          ]
        },
        {
          "output_type": "stream",
          "name": "stderr",
          "text": [
            "100%|██████████| 45/45 [00:04<00:00,  9.10it/s]\n"
          ]
        },
        {
          "output_type": "stream",
          "name": "stdout",
          "text": [
            "val Loss: 0.6889 Acc: 0.7648\n",
            "\n",
            "Epoch 23/25\n",
            "----------\n"
          ]
        },
        {
          "output_type": "stream",
          "name": "stderr",
          "text": [
            "100%|██████████| 45/45 [00:11<00:00,  3.85it/s]\n"
          ]
        },
        {
          "output_type": "stream",
          "name": "stdout",
          "text": [
            "train Loss: 0.0492 Acc: 0.9993\n"
          ]
        },
        {
          "output_type": "stream",
          "name": "stderr",
          "text": [
            "100%|██████████| 45/45 [00:04<00:00,  9.14it/s]\n"
          ]
        },
        {
          "output_type": "stream",
          "name": "stdout",
          "text": [
            "val Loss: 0.6950 Acc: 0.7641\n",
            "\n",
            "Epoch 24/25\n",
            "----------\n"
          ]
        },
        {
          "output_type": "stream",
          "name": "stderr",
          "text": [
            "100%|██████████| 45/45 [00:11<00:00,  3.84it/s]\n"
          ]
        },
        {
          "output_type": "stream",
          "name": "stdout",
          "text": [
            "train Loss: 0.0417 Acc: 0.9993\n"
          ]
        },
        {
          "output_type": "stream",
          "name": "stderr",
          "text": [
            "100%|██████████| 45/45 [00:05<00:00,  8.02it/s]\n"
          ]
        },
        {
          "output_type": "stream",
          "name": "stdout",
          "text": [
            "val Loss: 0.7008 Acc: 0.7606\n",
            "\n",
            "Epoch 25/25\n",
            "----------\n"
          ]
        },
        {
          "output_type": "stream",
          "name": "stderr",
          "text": [
            "100%|██████████| 45/45 [00:11<00:00,  3.93it/s]\n"
          ]
        },
        {
          "output_type": "stream",
          "name": "stdout",
          "text": [
            "train Loss: 0.0369 Acc: 1.0000\n"
          ]
        },
        {
          "output_type": "stream",
          "name": "stderr",
          "text": [
            "100%|██████████| 45/45 [00:05<00:00,  8.71it/s]\n"
          ]
        },
        {
          "output_type": "stream",
          "name": "stdout",
          "text": [
            "val Loss: 0.6947 Acc: 0.7641\n",
            "\n",
            "Training complete in 7m 1s\n",
            "Best val Acc: 0.766901\n"
          ]
        }
      ]
    },
    {
      "cell_type": "markdown",
      "source": [
        "## Combining models"
      ],
      "metadata": {
        "id": "umtc4r6saoA6"
      }
    },
    {
      "cell_type": "code",
      "source": [
        "class FCAggregator(nn.Module):\n",
        "  def __init__(self, model_name, num_classes, resume_from = None, use_pretrained=False):\n",
        "    super(FCAggregator, self).__init__()\n",
        "    self.conv_image, _ = initialize_model(model_name = model_name, num_classes = 128,\\\n",
        "                                          resume_from=resume_from, use_pretrained=pretrained)\n",
        "    self.conv_sound, _ = initialize_model(model_name = model_name, num_classes = 128,\\\n",
        "                                          resume_from=resume_from, use_pretrained=pretrained)\n",
        "    self.fclayer = torch.nn.Linear(256, num_classes)\n",
        "  def forward(self, x, y):\n",
        "    image = x\n",
        "    spec = y\n",
        "\n",
        "    z_spec = self.conv_sound(spec)\n",
        "    z_image = self.conv_image(image)\n",
        "    z = torch.cat((z_spec, z_image), dim=1)\n",
        "    z = nn.ReLU()(z)\n",
        "    return self.fclayer(z)"
      ],
      "metadata": {
        "id": "KeqMDXuSaqFn"
      },
      "execution_count": null,
      "outputs": []
    },
    {
      "cell_type": "code",
      "source": [
        "model_fcagg = FCAggregator(model_name = model_name, num_classes = num_classes, resume_from=resume_from, use_pretrained=pretrained)\n",
        "input_size = 224"
      ],
      "metadata": {
        "id": "0sbhHgx8bO4S"
      },
      "execution_count": null,
      "outputs": []
    },
    {
      "cell_type": "code",
      "source": [
        "dataloaders_fcagg = get_dataloaders(input_size, batch_size, 'fc_agg', shuffle_datasets)\n",
        "criterion_fcagg = get_loss(mode='multiclass')\n",
        "\n",
        "# Move the model to the gpu if needed\n",
        "model_fcagg = model_fcagg.to(device)\n",
        "\n",
        "optimizer_fcagg = make_optimizer(model_fcagg, learning_rate)"
      ],
      "metadata": {
        "colab": {
          "base_uri": "https://localhost:8080/"
        },
        "id": "YW0qCfTAbW4v",
        "outputId": "412de19c-a569-4f7a-828e-d4266cb3996d"
      },
      "execution_count": null,
      "outputs": [
        {
          "output_type": "stream",
          "name": "stderr",
          "text": [
            "<ipython-input-5-21c17772b88f>:91: DeprecationWarning: Starting with ImageIO v3 the behavior of this function will switch to that of iio.v3.imread. To keep the current behavior (and make this warning disappear) use `import imageio.v2 as imageio` or call `imageio.v2.imread` directly.\n",
            "  img = imageio.imread(file_path, pilmode='RGB')\n"
          ]
        },
        {
          "output_type": "stream",
          "name": "stdout",
          "text": [
            "loaded:  50\n",
            "loaded:  100\n",
            "loaded:  150\n",
            "loaded:  200\n"
          ]
        },
        {
          "output_type": "stream",
          "name": "stderr",
          "text": [
            "/usr/local/lib/python3.10/dist-packages/torch/utils/data/dataloader.py:561: UserWarning: This DataLoader will create 4 worker processes in total. Our suggested max number of worker in current system is 2, which is smaller than what this DataLoader is going to create. Please be aware that excessive worker creation might get DataLoader running slow or even freeze, lower the worker number to avoid potential slowness/freeze if necessary.\n",
            "  warnings.warn(_create_warning_msg(\n"
          ]
        }
      ]
    },
    {
      "cell_type": "code",
      "source": [
        "trained_model_fcagg, validation_history_fcagg, train_history_fcagg = train_model(model=model_fcagg,\n",
        "                                                                     dataloaders=dataloaders_fcagg,\n",
        "                                                                     criterion=criterion_fcagg,\n",
        "                                                                     optimizer=optimizer_fcagg,\n",
        "                                                                     save_dir=save_dir,\n",
        "                                                                     save_all_epochs=save_all_epochs,\n",
        "                                                                     num_epochs=num_epochs,\n",
        "                                                                     eval_mode='multiclass',\n",
        "                                                                     mode = \"fcagg\")"
      ],
      "metadata": {
        "colab": {
          "base_uri": "https://localhost:8080/"
        },
        "id": "4s7eZk7fdlSu",
        "outputId": "dc6e43d4-a50b-4a96-9378-18aa931cd393"
      },
      "execution_count": null,
      "outputs": [
        {
          "output_type": "stream",
          "name": "stdout",
          "text": [
            "Epoch 1/25\n",
            "----------\n"
          ]
        },
        {
          "output_type": "stream",
          "name": "stderr",
          "text": [
            "100%|██████████| 45/45 [00:29<00:00,  1.52it/s]\n"
          ]
        },
        {
          "output_type": "stream",
          "name": "stdout",
          "text": [
            "train Loss: 5.0757 Acc: 0.1613\n"
          ]
        },
        {
          "output_type": "stream",
          "name": "stderr",
          "text": [
            "100%|██████████| 45/45 [00:07<00:00,  5.83it/s]\n"
          ]
        },
        {
          "output_type": "stream",
          "name": "stdout",
          "text": [
            "val Loss: 4.5622 Acc: 0.2768\n",
            "\n",
            "Epoch 2/25\n",
            "----------\n"
          ]
        },
        {
          "output_type": "stream",
          "name": "stderr",
          "text": [
            "100%|██████████| 45/45 [00:15<00:00,  2.81it/s]\n"
          ]
        },
        {
          "output_type": "stream",
          "name": "stdout",
          "text": [
            "train Loss: 4.3155 Acc: 0.3613\n"
          ]
        },
        {
          "output_type": "stream",
          "name": "stderr",
          "text": [
            "100%|██████████| 45/45 [00:06<00:00,  6.51it/s]\n"
          ]
        },
        {
          "output_type": "stream",
          "name": "stdout",
          "text": [
            "val Loss: 3.8771 Acc: 0.4521\n",
            "\n",
            "Epoch 3/25\n",
            "----------\n"
          ]
        },
        {
          "output_type": "stream",
          "name": "stderr",
          "text": [
            "100%|██████████| 45/45 [00:16<00:00,  2.72it/s]\n"
          ]
        },
        {
          "output_type": "stream",
          "name": "stdout",
          "text": [
            "train Loss: 3.7211 Acc: 0.4563\n"
          ]
        },
        {
          "output_type": "stream",
          "name": "stderr",
          "text": [
            "100%|██████████| 45/45 [00:07<00:00,  6.24it/s]\n"
          ]
        },
        {
          "output_type": "stream",
          "name": "stdout",
          "text": [
            "val Loss: 3.3763 Acc: 0.5254\n",
            "\n",
            "Epoch 4/25\n",
            "----------\n"
          ]
        },
        {
          "output_type": "stream",
          "name": "stderr",
          "text": [
            "100%|██████████| 45/45 [00:16<00:00,  2.78it/s]\n"
          ]
        },
        {
          "output_type": "stream",
          "name": "stdout",
          "text": [
            "train Loss: 3.2241 Acc: 0.5085\n"
          ]
        },
        {
          "output_type": "stream",
          "name": "stderr",
          "text": [
            "100%|██████████| 45/45 [00:07<00:00,  5.90it/s]\n"
          ]
        },
        {
          "output_type": "stream",
          "name": "stdout",
          "text": [
            "val Loss: 2.9174 Acc: 0.5373\n",
            "\n",
            "Epoch 5/25\n",
            "----------\n"
          ]
        },
        {
          "output_type": "stream",
          "name": "stderr",
          "text": [
            "100%|██████████| 45/45 [00:16<00:00,  2.78it/s]\n"
          ]
        },
        {
          "output_type": "stream",
          "name": "stdout",
          "text": [
            "train Loss: 2.8482 Acc: 0.5627\n"
          ]
        },
        {
          "output_type": "stream",
          "name": "stderr",
          "text": [
            "100%|██████████| 45/45 [00:07<00:00,  6.17it/s]\n"
          ]
        },
        {
          "output_type": "stream",
          "name": "stdout",
          "text": [
            "val Loss: 2.5857 Acc: 0.6232\n",
            "\n",
            "Epoch 6/25\n",
            "----------\n"
          ]
        },
        {
          "output_type": "stream",
          "name": "stderr",
          "text": [
            "100%|██████████| 45/45 [00:16<00:00,  2.72it/s]\n"
          ]
        },
        {
          "output_type": "stream",
          "name": "stdout",
          "text": [
            "train Loss: 2.5241 Acc: 0.6141\n"
          ]
        },
        {
          "output_type": "stream",
          "name": "stderr",
          "text": [
            "100%|██████████| 45/45 [00:06<00:00,  6.48it/s]\n"
          ]
        },
        {
          "output_type": "stream",
          "name": "stdout",
          "text": [
            "val Loss: 2.2598 Acc: 0.6542\n",
            "\n",
            "Epoch 7/25\n",
            "----------\n"
          ]
        },
        {
          "output_type": "stream",
          "name": "stderr",
          "text": [
            "100%|██████████| 45/45 [00:16<00:00,  2.69it/s]\n"
          ]
        },
        {
          "output_type": "stream",
          "name": "stdout",
          "text": [
            "train Loss: 2.2592 Acc: 0.6521\n"
          ]
        },
        {
          "output_type": "stream",
          "name": "stderr",
          "text": [
            "100%|██████████| 45/45 [00:07<00:00,  6.24it/s]\n"
          ]
        },
        {
          "output_type": "stream",
          "name": "stdout",
          "text": [
            "val Loss: 1.9688 Acc: 0.7085\n",
            "\n",
            "Epoch 8/25\n",
            "----------\n"
          ]
        },
        {
          "output_type": "stream",
          "name": "stderr",
          "text": [
            "100%|██████████| 45/45 [00:16<00:00,  2.74it/s]\n"
          ]
        },
        {
          "output_type": "stream",
          "name": "stdout",
          "text": [
            "train Loss: 1.9572 Acc: 0.6993\n"
          ]
        },
        {
          "output_type": "stream",
          "name": "stderr",
          "text": [
            "100%|██████████| 45/45 [00:07<00:00,  5.96it/s]\n"
          ]
        },
        {
          "output_type": "stream",
          "name": "stdout",
          "text": [
            "val Loss: 1.9201 Acc: 0.6923\n",
            "\n",
            "Epoch 9/25\n",
            "----------\n"
          ]
        },
        {
          "output_type": "stream",
          "name": "stderr",
          "text": [
            "100%|██████████| 45/45 [00:16<00:00,  2.72it/s]\n"
          ]
        },
        {
          "output_type": "stream",
          "name": "stdout",
          "text": [
            "train Loss: 1.7396 Acc: 0.7282\n"
          ]
        },
        {
          "output_type": "stream",
          "name": "stderr",
          "text": [
            "100%|██████████| 45/45 [00:07<00:00,  6.04it/s]\n"
          ]
        },
        {
          "output_type": "stream",
          "name": "stdout",
          "text": [
            "val Loss: 1.5067 Acc: 0.7796\n",
            "\n",
            "Epoch 10/25\n",
            "----------\n"
          ]
        },
        {
          "output_type": "stream",
          "name": "stderr",
          "text": [
            "100%|██████████| 45/45 [00:16<00:00,  2.68it/s]\n"
          ]
        },
        {
          "output_type": "stream",
          "name": "stdout",
          "text": [
            "train Loss: 1.5147 Acc: 0.7915\n"
          ]
        },
        {
          "output_type": "stream",
          "name": "stderr",
          "text": [
            "100%|██████████| 45/45 [00:06<00:00,  6.49it/s]\n"
          ]
        },
        {
          "output_type": "stream",
          "name": "stdout",
          "text": [
            "val Loss: 1.3665 Acc: 0.7930\n",
            "\n",
            "Epoch 11/25\n",
            "----------\n"
          ]
        },
        {
          "output_type": "stream",
          "name": "stderr",
          "text": [
            "100%|██████████| 45/45 [00:17<00:00,  2.63it/s]\n"
          ]
        },
        {
          "output_type": "stream",
          "name": "stdout",
          "text": [
            "train Loss: 1.2757 Acc: 0.8197\n"
          ]
        },
        {
          "output_type": "stream",
          "name": "stderr",
          "text": [
            "100%|██████████| 45/45 [00:07<00:00,  6.33it/s]\n"
          ]
        },
        {
          "output_type": "stream",
          "name": "stdout",
          "text": [
            "val Loss: 1.2605 Acc: 0.8042\n",
            "\n",
            "Epoch 12/25\n",
            "----------\n"
          ]
        },
        {
          "output_type": "stream",
          "name": "stderr",
          "text": [
            "100%|██████████| 45/45 [00:16<00:00,  2.72it/s]\n"
          ]
        },
        {
          "output_type": "stream",
          "name": "stdout",
          "text": [
            "train Loss: 1.1381 Acc: 0.8451\n"
          ]
        },
        {
          "output_type": "stream",
          "name": "stderr",
          "text": [
            "100%|██████████| 45/45 [00:07<00:00,  5.87it/s]\n"
          ]
        },
        {
          "output_type": "stream",
          "name": "stdout",
          "text": [
            "val Loss: 1.0350 Acc: 0.8500\n",
            "\n",
            "Epoch 13/25\n",
            "----------\n"
          ]
        },
        {
          "output_type": "stream",
          "name": "stderr",
          "text": [
            "100%|██████████| 45/45 [00:16<00:00,  2.71it/s]\n"
          ]
        },
        {
          "output_type": "stream",
          "name": "stdout",
          "text": [
            "train Loss: 0.9497 Acc: 0.8810\n"
          ]
        },
        {
          "output_type": "stream",
          "name": "stderr",
          "text": [
            "100%|██████████| 45/45 [00:07<00:00,  5.92it/s]\n"
          ]
        },
        {
          "output_type": "stream",
          "name": "stdout",
          "text": [
            "val Loss: 0.8948 Acc: 0.8775\n",
            "\n",
            "Epoch 14/25\n",
            "----------\n"
          ]
        },
        {
          "output_type": "stream",
          "name": "stderr",
          "text": [
            "100%|██████████| 45/45 [00:16<00:00,  2.74it/s]\n"
          ]
        },
        {
          "output_type": "stream",
          "name": "stdout",
          "text": [
            "train Loss: 0.8110 Acc: 0.8965\n"
          ]
        },
        {
          "output_type": "stream",
          "name": "stderr",
          "text": [
            "100%|██████████| 45/45 [00:06<00:00,  6.44it/s]\n"
          ]
        },
        {
          "output_type": "stream",
          "name": "stdout",
          "text": [
            "val Loss: 0.8693 Acc: 0.8880\n",
            "\n",
            "Epoch 15/25\n",
            "----------\n"
          ]
        },
        {
          "output_type": "stream",
          "name": "stderr",
          "text": [
            "100%|██████████| 45/45 [00:17<00:00,  2.62it/s]\n"
          ]
        },
        {
          "output_type": "stream",
          "name": "stdout",
          "text": [
            "train Loss: 0.7000 Acc: 0.9239\n"
          ]
        },
        {
          "output_type": "stream",
          "name": "stderr",
          "text": [
            "100%|██████████| 45/45 [00:07<00:00,  6.37it/s]\n"
          ]
        },
        {
          "output_type": "stream",
          "name": "stdout",
          "text": [
            "val Loss: 0.7713 Acc: 0.8944\n",
            "\n",
            "Epoch 16/25\n",
            "----------\n"
          ]
        },
        {
          "output_type": "stream",
          "name": "stderr",
          "text": [
            "100%|██████████| 45/45 [00:16<00:00,  2.68it/s]\n"
          ]
        },
        {
          "output_type": "stream",
          "name": "stdout",
          "text": [
            "train Loss: 0.5966 Acc: 0.9387\n"
          ]
        },
        {
          "output_type": "stream",
          "name": "stderr",
          "text": [
            "100%|██████████| 45/45 [00:07<00:00,  5.82it/s]\n"
          ]
        },
        {
          "output_type": "stream",
          "name": "stdout",
          "text": [
            "val Loss: 0.7218 Acc: 0.9120\n",
            "\n",
            "Epoch 17/25\n",
            "----------\n"
          ]
        },
        {
          "output_type": "stream",
          "name": "stderr",
          "text": [
            "100%|██████████| 45/45 [00:16<00:00,  2.71it/s]\n"
          ]
        },
        {
          "output_type": "stream",
          "name": "stdout",
          "text": [
            "train Loss: 0.4965 Acc: 0.9507\n"
          ]
        },
        {
          "output_type": "stream",
          "name": "stderr",
          "text": [
            "100%|██████████| 45/45 [00:07<00:00,  5.90it/s]\n"
          ]
        },
        {
          "output_type": "stream",
          "name": "stdout",
          "text": [
            "val Loss: 0.6869 Acc: 0.8937\n",
            "\n",
            "Epoch 18/25\n",
            "----------\n"
          ]
        },
        {
          "output_type": "stream",
          "name": "stderr",
          "text": [
            "100%|██████████| 45/45 [00:16<00:00,  2.68it/s]\n"
          ]
        },
        {
          "output_type": "stream",
          "name": "stdout",
          "text": [
            "train Loss: 0.4361 Acc: 0.9592\n"
          ]
        },
        {
          "output_type": "stream",
          "name": "stderr",
          "text": [
            "100%|██████████| 45/45 [00:07<00:00,  6.33it/s]\n"
          ]
        },
        {
          "output_type": "stream",
          "name": "stdout",
          "text": [
            "val Loss: 0.5616 Acc: 0.9261\n",
            "\n",
            "Epoch 19/25\n",
            "----------\n"
          ]
        },
        {
          "output_type": "stream",
          "name": "stderr",
          "text": [
            "100%|██████████| 45/45 [00:17<00:00,  2.63it/s]\n"
          ]
        },
        {
          "output_type": "stream",
          "name": "stdout",
          "text": [
            "train Loss: 0.4156 Acc: 0.9641\n"
          ]
        },
        {
          "output_type": "stream",
          "name": "stderr",
          "text": [
            "100%|██████████| 45/45 [00:07<00:00,  6.41it/s]\n"
          ]
        },
        {
          "output_type": "stream",
          "name": "stdout",
          "text": [
            "val Loss: 0.5283 Acc: 0.9366\n",
            "\n",
            "Epoch 20/25\n",
            "----------\n"
          ]
        },
        {
          "output_type": "stream",
          "name": "stderr",
          "text": [
            "100%|██████████| 45/45 [00:17<00:00,  2.64it/s]\n"
          ]
        },
        {
          "output_type": "stream",
          "name": "stdout",
          "text": [
            "train Loss: 0.3385 Acc: 0.9697\n"
          ]
        },
        {
          "output_type": "stream",
          "name": "stderr",
          "text": [
            "100%|██████████| 45/45 [00:07<00:00,  5.93it/s]\n"
          ]
        },
        {
          "output_type": "stream",
          "name": "stdout",
          "text": [
            "val Loss: 0.4981 Acc: 0.9373\n",
            "\n",
            "Epoch 21/25\n",
            "----------\n"
          ]
        },
        {
          "output_type": "stream",
          "name": "stderr",
          "text": [
            "100%|██████████| 45/45 [00:16<00:00,  2.67it/s]\n"
          ]
        },
        {
          "output_type": "stream",
          "name": "stdout",
          "text": [
            "train Loss: 0.2968 Acc: 0.9775\n"
          ]
        },
        {
          "output_type": "stream",
          "name": "stderr",
          "text": [
            "100%|██████████| 45/45 [00:07<00:00,  5.75it/s]\n"
          ]
        },
        {
          "output_type": "stream",
          "name": "stdout",
          "text": [
            "val Loss: 0.4741 Acc: 0.9401\n",
            "\n",
            "Epoch 22/25\n",
            "----------\n"
          ]
        },
        {
          "output_type": "stream",
          "name": "stderr",
          "text": [
            "100%|██████████| 45/45 [00:16<00:00,  2.66it/s]\n"
          ]
        },
        {
          "output_type": "stream",
          "name": "stdout",
          "text": [
            "train Loss: 0.2530 Acc: 0.9873\n"
          ]
        },
        {
          "output_type": "stream",
          "name": "stderr",
          "text": [
            "100%|██████████| 45/45 [00:07<00:00,  5.81it/s]\n"
          ]
        },
        {
          "output_type": "stream",
          "name": "stdout",
          "text": [
            "val Loss: 0.4728 Acc: 0.9373\n",
            "\n",
            "Epoch 23/25\n",
            "----------\n"
          ]
        },
        {
          "output_type": "stream",
          "name": "stderr",
          "text": [
            "100%|██████████| 45/45 [00:16<00:00,  2.68it/s]\n"
          ]
        },
        {
          "output_type": "stream",
          "name": "stdout",
          "text": [
            "train Loss: 0.2137 Acc: 0.9880\n"
          ]
        },
        {
          "output_type": "stream",
          "name": "stderr",
          "text": [
            "100%|██████████| 45/45 [00:07<00:00,  6.39it/s]\n"
          ]
        },
        {
          "output_type": "stream",
          "name": "stdout",
          "text": [
            "val Loss: 0.3988 Acc: 0.9535\n",
            "\n",
            "Epoch 24/25\n",
            "----------\n"
          ]
        },
        {
          "output_type": "stream",
          "name": "stderr",
          "text": [
            "100%|██████████| 45/45 [00:17<00:00,  2.61it/s]\n"
          ]
        },
        {
          "output_type": "stream",
          "name": "stdout",
          "text": [
            "train Loss: 0.1881 Acc: 0.9908\n"
          ]
        },
        {
          "output_type": "stream",
          "name": "stderr",
          "text": [
            "100%|██████████| 45/45 [00:07<00:00,  6.39it/s]\n"
          ]
        },
        {
          "output_type": "stream",
          "name": "stdout",
          "text": [
            "val Loss: 0.3822 Acc: 0.9514\n",
            "\n",
            "Epoch 25/25\n",
            "----------\n"
          ]
        },
        {
          "output_type": "stream",
          "name": "stderr",
          "text": [
            "100%|██████████| 45/45 [00:17<00:00,  2.62it/s]\n"
          ]
        },
        {
          "output_type": "stream",
          "name": "stdout",
          "text": [
            "train Loss: 0.1780 Acc: 0.9894\n"
          ]
        },
        {
          "output_type": "stream",
          "name": "stderr",
          "text": [
            "100%|██████████| 45/45 [00:07<00:00,  5.94it/s]\n"
          ]
        },
        {
          "output_type": "stream",
          "name": "stdout",
          "text": [
            "val Loss: 0.3822 Acc: 0.9507\n",
            "\n",
            "Training complete in 10m 15s\n",
            "Best val Acc: 0.953521\n"
          ]
        }
      ]
    },
    {
      "cell_type": "markdown",
      "source": [
        "## Evaluation"
      ],
      "metadata": {
        "id": "0pL03oXekGJp"
      }
    },
    {
      "cell_type": "code",
      "source": [
        "def evaluate(model, dataloader, criterion, is_labelled = False, generate_labels = True, k = 5, mode = None):\n",
        "    # If is_labelled, we want to compute loss, top-1 accuracy and top-5 accuracy\n",
        "    # If generate_labels, we want to output the actual labels\n",
        "    # Set the model to evaluate mode\n",
        "    model.eval()\n",
        "    running_loss = 0\n",
        "    running_top1_correct = 0\n",
        "    running_top5_correct = 0\n",
        "    predicted_labels = []\n",
        "    gt_labels = []\n",
        "\n",
        "    # Iterate over data.\n",
        "    # TQDM has nice progress bars\n",
        "    for inputs, labels in tqdm(dataloader):\n",
        "        if mode == \"fcagg\":\n",
        "            input0, input1 = inputs\n",
        "            input0 = input0.to(device)\n",
        "            input1 = input1.to(device)\n",
        "        else:\n",
        "            inputs = inputs.to(device)\n",
        "\n",
        "        labels = labels.to(device)\n",
        "        tiled_labels = torch.stack([labels.data for i in range(k)], dim=1)\n",
        "        # Makes this to calculate \"top 5 prediction is correct\"\n",
        "        # [[label1 label1 label1 label1 label1], [label2 label2 label2 label label2]]\n",
        "\n",
        "        # forward\n",
        "        # track history if only in train\n",
        "        with torch.set_grad_enabled(False):\n",
        "            # Get model outputs and calculate loss\n",
        "            if mode == \"fcagg\":\n",
        "                outputs = model(input0, input1)\n",
        "            else:\n",
        "                outputs = model(inputs)\n",
        "            if is_labelled:\n",
        "                loss = criterion(outputs, labels)\n",
        "\n",
        "            # torch.topk outputs the maximum values, and their indices\n",
        "            # Since the input is batched, we take the max along axis 1\n",
        "            # (the meaningful outputs)\n",
        "            _, preds = torch.topk(outputs, k=k, dim=1)\n",
        "            if generate_labels:\n",
        "                # We want to store these results\n",
        "                nparr = preds.cpu().detach().numpy()\n",
        "                predicted_labels.extend([list(nparr[i]) for i in range(len(nparr))])\n",
        "                gt_labels.extend(np.array(labels.cpu()))\n",
        "\n",
        "        if is_labelled:\n",
        "            # statistics\n",
        "            if mode == \"fcagg\":\n",
        "                running_loss +=loss.item() * input0.size(0) + loss.item() * input1.size(0)\n",
        "            else:\n",
        "                running_loss += loss.item() * inputs.size(0)\n",
        "            # Check only the first prediction\n",
        "            running_top1_correct += torch.sum(preds[:, 0] == labels.data)\n",
        "            # Check all 5 predictions\n",
        "            running_top5_correct += torch.sum(preds == tiled_labels)\n",
        "        else:\n",
        "            pass\n",
        "\n",
        "    # Only compute loss & accuracy if we have the labels\n",
        "    if is_labelled:\n",
        "        epoch_loss = float(running_loss / len(dataloader.dataset))\n",
        "        epoch_top1_acc = float(running_top1_correct.double() / len(dataloader.dataset))\n",
        "        epoch_top5_acc = float(running_top5_correct.double() / len(dataloader.dataset))\n",
        "    else:\n",
        "        epoch_loss = None\n",
        "        epoch_top1_acc = None\n",
        "        epoch_top5_acc = None\n",
        "\n",
        "    # Return everything\n",
        "    return epoch_loss, epoch_top1_acc, gt_labels, predicted_labels"
      ],
      "metadata": {
        "id": "-UqrQM0pkXS3"
      },
      "execution_count": null,
      "outputs": []
    },
    {
      "cell_type": "markdown",
      "source": [
        "### Sound"
      ],
      "metadata": {
        "id": "hG1WDmhokd2_"
      }
    },
    {
      "cell_type": "code",
      "source": [
        "#Sound\n",
        "# Load your final model, that we will use for the rest of the PSET.\n",
        "if early_stopping:\n",
        "  weights_file = save_dir + '/sound_weights_best_val_acc.pt'\n",
        "else:\n",
        "  weights_file = save_dir + '/sound_weights_last.pt'\n",
        "\n",
        "model_yours_sound, _ = initialize_model(model_name = model_name, num_classes = num_classes, resume_from=resume_from, use_pretrained=pretrained, mode = \"sound\")\n",
        "\n",
        "# Move the model to the gpu if needed\n",
        "model_yours_sound = model_yours_sound.to(device)\n",
        "\n",
        "# Load weights for model_yours\n",
        "#print(torch.load(weights_file))\n",
        "\n",
        "model_yours_sound.load_state_dict(torch.load(weights_file))\n",
        "\n",
        "# set models to eval mode\n",
        "model_yours_sound = model_yours_sound.eval()"
      ],
      "metadata": {
        "id": "Po5FSBNGinUb",
        "colab": {
          "base_uri": "https://localhost:8080/"
        },
        "outputId": "8af8e0ca-5701-4871-c09b-29f6093962a1"
      },
      "execution_count": null,
      "outputs": [
        {
          "output_type": "stream",
          "name": "stderr",
          "text": [
            "/usr/local/lib/python3.10/dist-packages/torchvision/models/_utils.py:208: UserWarning: The parameter 'pretrained' is deprecated since 0.13 and may be removed in the future, please use 'weights' instead.\n",
            "  warnings.warn(\n",
            "/usr/local/lib/python3.10/dist-packages/torchvision/models/_utils.py:223: UserWarning: Arguments other than a weight enum or `None` for 'weights' are deprecated since 0.13 and may be removed in the future. The current behavior is equivalent to passing `weights=ResNet18_Weights.IMAGENET1K_V1`. You can also use `weights=ResNet18_Weights.DEFAULT` to get the most up-to-date weights.\n",
            "  warnings.warn(msg)\n",
            "Downloading: \"https://download.pytorch.org/models/resnet18-f37072fd.pth\" to /root/.cache/torch/hub/checkpoints/resnet18-f37072fd.pth\n",
            "100%|██████████| 44.7M/44.7M [00:00<00:00, 339MB/s]\n"
          ]
        }
      ]
    },
    {
      "cell_type": "code",
      "source": [
        "# Get data on the validation set\n",
        "# Setting this to false will be a little bit faster\n",
        "generate_validation_labels = True\n",
        "#val_loss_yours_sound, val_top1_yours_sound, _, val_labels_yours_sound = evaluate(model_yours_sound, dataloaders_sound['val'], criterion_sound, is_labelled = True, generate_labels = generate_validation_labels, k = 1, mode = \"sound\")\n",
        "# Get predictions for the test set\n",
        "test_loss_yours_sound, test_top1_yours_sound, _, test_labels_yours_sound = evaluate(model_yours_sound, dataloaders_sound['test'], criterion_sound, is_labelled = True, generate_labels = generate_validation_labels, k = 1, mode = \"sound\")\n",
        "\n",
        "print(\"Your Trained model: \")\n",
        "#print(\"Val Top-1 Accuracy: {}\".format(val_top1_yours_sound))\n",
        "print(\"Test Top-1 Accuracy: {}\".format(test_top1_yours_sound))"
      ],
      "metadata": {
        "id": "uWPiYpc0kdQQ",
        "colab": {
          "base_uri": "https://localhost:8080/"
        },
        "outputId": "7ddf8589-dfb8-4b93-b60c-bdcd35df41d2"
      },
      "execution_count": null,
      "outputs": [
        {
          "output_type": "stream",
          "name": "stderr",
          "text": [
            "100%|██████████| 15/15 [00:07<00:00,  1.95it/s]"
          ]
        },
        {
          "output_type": "stream",
          "name": "stdout",
          "text": [
            "Your Trained model: \n",
            "Test Top-1 Accuracy: 0.4439746300211417\n"
          ]
        },
        {
          "output_type": "stream",
          "name": "stderr",
          "text": [
            "\n"
          ]
        }
      ]
    },
    {
      "cell_type": "markdown",
      "source": [
        "### Image"
      ],
      "metadata": {
        "id": "fIVNOoBskzM9"
      }
    },
    {
      "cell_type": "code",
      "source": [
        "#Image\n",
        "# Load your final model, that we will use for the rest of the PSET.\n",
        "if early_stopping:\n",
        "  weights_file = save_dir + '/image_weights_best_val_acc.pt'\n",
        "else:\n",
        "  weights_file = save_dir + '/image_weights_last.pt'\n",
        "\n",
        "model_yours_image, _ = initialize_model(model_name = model_name, num_classes = num_classes, resume_from=resume_from, use_pretrained=pretrained, mode = \"image\")\n",
        "\n",
        "# Move the model to the gpu if needed\n",
        "model_yours_image = model_yours_image.to(device)\n",
        "\n",
        "# Load weights for model_yours\n",
        "#print(torch.load(weights_file))\n",
        "\n",
        "model_yours_image.load_state_dict(torch.load(weights_file))\n",
        "\n",
        "# set models to eval mode\n",
        "model_yours_image = model_yours_image.eval()"
      ],
      "metadata": {
        "id": "znNcAmSnk19r"
      },
      "execution_count": null,
      "outputs": []
    },
    {
      "cell_type": "code",
      "source": [
        "# Get data on the validation set\n",
        "# Setting this to false will be a little bit faster\n",
        "generate_validation_labels = True\n",
        "val_loss_yours_image, val_top1_yours_image, _, val_labels_yours_image = evaluate(model_yours_image, dataloaders_image['val'], criterion_image, is_labelled = True, generate_labels = generate_validation_labels, k = 1, mode = \"image\")\n",
        "# Get predictions for the test set\n",
        "test_loss_yours_image, test_top1_yours_image, _, test_labels_yours_image = evaluate(model_yours_image, dataloaders_image['test'], criterion_image, is_labelled = True, generate_labels = generate_validation_labels, k = 1, mode = \"image\")\n",
        "\n",
        "print(\"Your Trained model: \")\n",
        "print(\"Val Top-1 Accuracy: {}\".format(val_top1_yours_image))\n",
        "print(\"Test Top-1 Accuracy: {}\".format(test_top1_yours_image))"
      ],
      "metadata": {
        "id": "btnN3-WmlJsj",
        "colab": {
          "base_uri": "https://localhost:8080/"
        },
        "outputId": "2e754ebc-fead-4959-e5de-b8fbc3f5f3c6"
      },
      "execution_count": null,
      "outputs": [
        {
          "output_type": "stream",
          "name": "stderr",
          "text": [
            "100%|██████████| 45/45 [00:05<00:00,  8.51it/s]\n",
            "100%|██████████| 15/15 [00:03<00:00,  4.74it/s]"
          ]
        },
        {
          "output_type": "stream",
          "name": "stdout",
          "text": [
            "Your Trained model: \n",
            "Val Top-1 Accuracy: 0.7640845070422536\n",
            "Test Top-1 Accuracy: 0.5200845665961945\n"
          ]
        },
        {
          "output_type": "stream",
          "name": "stderr",
          "text": [
            "\n"
          ]
        }
      ]
    },
    {
      "cell_type": "markdown",
      "source": [
        "###FC-AGG"
      ],
      "metadata": {
        "id": "7EKvhbKdkfiT"
      }
    },
    {
      "cell_type": "code",
      "source": [
        "#FC-AGG\n",
        "# Load your final model, that we will use for the rest of the PSET.\n",
        "if early_stopping:\n",
        "  weights_file = save_dir + '/fcagg_weights_best_val_acc.pt'\n",
        "else:\n",
        "  weights_file = save_dir + '/fcagg_weights_last.pt'\n",
        "\n",
        "model_yours_fcagg = FCAggregator(model_name = model_name, num_classes = num_classes, resume_from=resume_from, use_pretrained=pretrained)\n",
        "\n",
        "# Move the model to the gpu if needed\n",
        "model_yours_fcagg = model_yours_fcagg.to(device)\n",
        "\n",
        "# Load weights for model_yours\n",
        "#print(torch.load(weights_file))\n",
        "\n",
        "model_yours_fcagg.load_state_dict(torch.load(weights_file))\n",
        "\n",
        "# set models to eval mode\n",
        "model_yours_fcagg = model_yours_fcagg.eval()\n"
      ],
      "metadata": {
        "id": "LTk1ISzRkHho"
      },
      "execution_count": null,
      "outputs": []
    },
    {
      "cell_type": "code",
      "source": [
        "# Get data on the validation set\n",
        "# Setting this to false will be a little bit faster\n",
        "generate_validation_labels = True\n",
        "# val_loss_yours_fcagg, val_top1_yours_fcagg, _, val_labels_yours_fcagg = evaluate(model_yours_fcagg, dataloaders_fcagg['val'], criterion_fcagg, is_labelled = True, generate_labels = generate_validation_labels, k = 1, mode = \"fcagg\")\n",
        "# Get predictions for the test set\n",
        "test_loss_yours_fcagg, test_top1_yours_fcagg, test_actual_labels, test_labels_yours_fcagg = evaluate(model_yours_fcagg, dataloaders_fcagg['test'], criterion_fcagg, is_labelled = True, generate_labels = generate_validation_labels, k = 1, mode = \"fcagg\")\n",
        "\n",
        "print(\"Your Trained model: \")\n",
        "# print(\"Val Top-1 Accuracy: {}\".format(val_top1_yours_fcagg))\n",
        "print(\"Test Top-1 Accuracy: {}\".format(test_top1_yours_fcagg))"
      ],
      "metadata": {
        "id": "G_kz-0mMkq8T",
        "colab": {
          "base_uri": "https://localhost:8080/"
        },
        "outputId": "204bb489-add6-4891-e50a-e82033d44785"
      },
      "execution_count": null,
      "outputs": [
        {
          "output_type": "stream",
          "name": "stderr",
          "text": [
            "\r  0%|          | 0/15 [00:00<?, ?it/s]/usr/local/lib/python3.10/dist-packages/torch/utils/data/dataloader.py:561: UserWarning: This DataLoader will create 4 worker processes in total. Our suggested max number of worker in current system is 2, which is smaller than what this DataLoader is going to create. Please be aware that excessive worker creation might get DataLoader running slow or even freeze, lower the worker number to avoid potential slowness/freeze if necessary.\n",
            "  warnings.warn(_create_warning_msg(\n",
            "100%|██████████| 15/15 [00:08<00:00,  1.73it/s]"
          ]
        },
        {
          "output_type": "stream",
          "name": "stdout",
          "text": [
            "Your Trained model: \n",
            "Test Top-1 Accuracy: 0.5412262156448203\n"
          ]
        },
        {
          "output_type": "stream",
          "name": "stderr",
          "text": [
            "\n"
          ]
        }
      ]
    },
    {
      "cell_type": "code",
      "source": [
        "print(test_actual_labels)\n",
        "print(len(test_actual_labels))"
      ],
      "metadata": {
        "colab": {
          "base_uri": "https://localhost:8080/"
        },
        "id": "fsG0YtOPWOAI",
        "outputId": "7cdc5c70-fca9-419b-f165-cfa681f966e7"
      },
      "execution_count": null,
      "outputs": [
        {
          "output_type": "stream",
          "name": "stdout",
          "text": [
            "[0, 1, 15, 15, 16, 0, 15, 12, 14, 3, 3, 3, 0, 6, 6, 6, 6, 6, 0, 14, 3, 3, 3, 1, 15, 2, 15, 15, 4, 3, 3, 3, 15, 0, 12, 14, 14, 2, 15, 3, 0, 0, 15, 3, 2, 15, 15, 6, 14, 3, 6, 0, 14, 15, 15, 3, 3, 3, 0, 15, 11, 9, 14, 0, 11, 15, 0, 14, 0, 11, 6, 0, 0, 15, 15, 15, 15, 0, 0, 1, 0, 0, 15, 1, 14, 0, 14, 0, 9, 11, 11, 6, 6, 15, 6, 6, 6, 0, 15, 0, 14, 14, 6, 6, 14, 14, 14, 0, 0, 0, 0, 14, 0, 0, 3, 2, 12, 12, 12, 0, 0, 0, 6, 12, 6, 3, 3, 3, 0, 0, 0, 0, 2, 2, 10, 6, 3, 3, 15, 15, 14, 14, 0, 13, 0, 14, 15, 14, 6, 15, 15, 14, 6, 0, 15, 15, 3, 3, 14, 14, 2, 3, 10, 3, 15, 2, 2, 9, 10, 15, 9, 6, 0, 3, 3, 3, 14, 0, 14, 14, 6, 3, 14, 14, 1, 11, 11, 3, 3, 0, 9, 1, 14, 15, 15, 15, 12, 10, 3, 6, 3, 3, 10, 0, 0, 15, 3, 3, 9, 3, 0, 3, 14, 3, 3, 3, 13, 13, 8, 2, 2, 13, 8, 2, 2, 2, 4, 15, 4, 4, 15, 15, 15, 13, 15, 13, 15, 4, 13, 4, 5, 13, 8, 4, 4, 13, 5, 5, 4, 4, 4, 2, 2, 4, 13, 4, 4, 5, 13, 2, 13, 13, 13, 13, 4, 13, 2, 2, 4, 2, 2, 2, 2, 2, 13, 13, 13, 15, 13, 4, 4, 4, 4, 13, 15, 8, 13, 13, 13, 13, 15, 4, 13, 13, 4, 2, 2, 2, 7, 7, 2, 2, 13, 13, 0, 0, 14, 14, 16, 14, 3, 6, 6, 16, 15, 15, 15, 15, 15, 15, 2, 1, 15, 15, 0, 0, 15, 15, 15, 15, 13, 15, 4, 4, 4, 3, 2, 3, 3, 4, 4, 2, 13, 15, 15, 15, 15, 2, 2, 13, 13, 4, 8, 4, 13, 13, 4, 13, 5, 4, 2, 13, 15, 13, 13, 8, 4, 4, 13, 4, 13, 13, 3, 4, 13, 4, 13, 4, 4, 15, 13, 4, 13, 4, 2, 2, 2, 13, 13, 7, 7, 7, 7, 7, 7, 7, 14, 15, 16, 0, 3, 3, 3, 15, 15, 9, 6, 6, 6, 14, 14, 3, 3, 1, 14, 14, 14, 14, 14, 14, 14, 3, 0, 15, 15, 0, 6, 6, 3, 2, 11, 11, 14, 14, 10, 3, 2, 0, 3, 14, 3, 3, 4, 4, 8, 15, 15, 2, 2, 4, 5, 4, 15, 13, 4, 2, 2, 7, 15, 13, 7, 7, 7, 7, 7, 7, 7, 7, 7, 7, 7, 5, 5]\n",
            "473\n"
          ]
        }
      ]
    },
    {
      "cell_type": "code",
      "source": [
        "print(test_labels_yours_fcagg)\n",
        "print(len(test_labels_yours_fcagg))"
      ],
      "metadata": {
        "colab": {
          "base_uri": "https://localhost:8080/"
        },
        "id": "4Z8DRGG_WQNO",
        "outputId": "8666c1fb-bbc4-4cc7-d0b3-641f3078ae81"
      },
      "execution_count": null,
      "outputs": [
        {
          "output_type": "stream",
          "name": "stdout",
          "text": [
            "[[3], [0], [15], [15], [14], [12], [12], [15], [14], [0], [3], [3], [3], [0], [0], [14], [14], [0], [0], [14], [3], [3], [3], [0], [0], [2], [15], [3], [13], [0], [1], [0], [14], [9], [1], [14], [14], [2], [4], [3], [0], [0], [15], [3], [2], [3], [3], [0], [14], [3], [0], [14], [14], [15], [3], [3], [0], [0], [3], [3], [11], [0], [15], [0], [11], [0], [6], [14], [0], [11], [0], [9], [0], [15], [15], [15], [15], [0], [3], [3], [0], [14], [15], [14], [14], [14], [14], [3], [0], [3], [3], [0], [14], [9], [15], [6], [15], [0], [15], [0], [14], [14], [6], [6], [14], [14], [14], [14], [14], [0], [3], [14], [0], [0], [3], [3], [0], [6], [6], [0], [0], [0], [6], [12], [0], [3], [1], [3], [0], [0], [3], [0], [2], [3], [10], [6], [3], [3], [3], [3], [14], [14], [12], [13], [1], [14], [3], [14], [6], [15], [15], [14], [6], [6], [15], [15], [3], [0], [14], [14], [2], [3], [3], [9], [3], [2], [2], [1], [2], [3], [3], [12], [12], [3], [3], [3], [14], [3], [14], [12], [0], [3], [14], [14], [15], [11], [3], [0], [3], [3], [3], [1], [0], [15], [15], [15], [4], [3], [0], [0], [3], [3], [3], [0], [3], [0], [3], [3], [3], [0], [3], [3], [4], [3], [3], [0], [4], [8], [8], [4], [4], [4], [8], [2], [4], [15], [4], [4], [15], [4], [15], [4], [4], [4], [15], [13], [15], [5], [4], [13], [13], [4], [8], [4], [4], [4], [13], [4], [4], [4], [4], [4], [15], [4], [15], [5], [5], [13], [13], [2], [13], [5], [13], [4], [4], [13], [2], [13], [4], [4], [2], [4], [2], [4], [13], [13], [13], [15], [13], [4], [4], [4], [15], [15], [13], [13], [8], [13], [13], [13], [15], [15], [13], [13], [13], [15], [2], [2], [2], [2], [2], [13], [13], [8], [0], [15], [14], [14], [15], [15], [6], [6], [6], [6], [15], [15], [15], [15], [15], [15], [3], [1], [3], [3], [0], [15], [0], [0], [15], [15], [4], [15], [4], [4], [4], [3], [2], [2], [2], [4], [4], [4], [13], [5], [5], [13], [13], [2], [2], [13], [13], [4], [13], [4], [13], [13], [4], [13], [4], [5], [2], [4], [13], [13], [13], [13], [5], [4], [4], [13], [4], [13], [4], [13], [8], [5], [13], [4], [4], [5], [13], [4], [4], [4], [13], [13], [2], [13], [13], [5], [5], [4], [7], [7], [7], [7], [14], [3], [14], [0], [15], [3], [3], [14], [15], [15], [6], [0], [6], [14], [0], [0], [0], [15], [14], [14], [3], [14], [14], [14], [14], [3], [3], [15], [15], [16], [6], [15], [1], [3], [0], [3], [14], [14], [0], [3], [3], [0], [3], [14], [1], [3], [4], [13], [13], [2], [13], [2], [8], [4], [4], [4], [2], [4], [4], [2], [2], [7], [15], [5], [7], [7], [7], [7], [7], [7], [7], [7], [7], [7], [7], [5], [4]]\n",
            "473\n"
          ]
        }
      ]
    },
    {
      "cell_type": "markdown",
      "source": [
        "## Confusion Matrix"
      ],
      "metadata": {
        "id": "6r0um7GyMYl7"
      }
    },
    {
      "cell_type": "code",
      "source": [
        "categories = {'plastic': 0, 'drywall': 1, 'rock': 2, 'metal': 3, 'leaf': 4, 'grass': 5, 'paper': 6, 'water': 7, 'gravel': 8, 'glass': 9, 'tile': 10, 'ceramic': 11, 'plastic-bag': 12, 'dirt': 13, 'cloth': 14, 'wood': 15, 'carpet': 16}\n",
        "materials = list(categories.items())\n",
        "materials.sort(key = lambda x: x[1])\n",
        "mat = []\n",
        "for i in range(17):\n",
        "  mat.append(materials[i][0])\n",
        "print(mat)"
      ],
      "metadata": {
        "colab": {
          "base_uri": "https://localhost:8080/"
        },
        "id": "TZx7c1MeNgWA",
        "outputId": "bdf66863-cb85-4894-a705-b4824e65f260"
      },
      "execution_count": null,
      "outputs": [
        {
          "output_type": "stream",
          "name": "stdout",
          "text": [
            "['plastic', 'drywall', 'rock', 'metal', 'leaf', 'grass', 'paper', 'water', 'gravel', 'glass', 'tile', 'ceramic', 'plastic-bag', 'dirt', 'cloth', 'wood', 'carpet']\n"
          ]
        }
      ]
    },
    {
      "cell_type": "code",
      "source": [
        "from sklearn.preprocessing import normalize\n",
        "\n",
        "def plot_confusion_matrix(y_label, y_pred, title='Confusion matrix'):\n",
        "    values = [[0 for j in range(17)] for i in range(17)]\n",
        "    for i in range(len(y_label)):\n",
        "      values[y_label[i]][y_pred[i][0]]+=1\n",
        "\n",
        "    conf_matrix = np.round(normalize(values, axis = 1, norm = 'l1'), 4)\n",
        "    predicted_labels = mat\n",
        "    actual_labels = mat\n",
        "\n",
        "    fig, ax = plt.subplots(figsize=(10, 10))\n",
        "    ax.matshow(conf_matrix, cmap=plt.cm.Blues, alpha=1)\n",
        "    for i in range(conf_matrix.shape[0]):\n",
        "      for j in range(conf_matrix.shape[1]):\n",
        "        # ax.text(x=j, y=i,s=str(round(conf_matrix[i, j]*100, 2)) + \"%\" + \"\\n\" + str(values[i][j]), va='center', ha='center', size='small')\n",
        "        ax.text(x=j, y=i,s=str(values[i][j]), va='center', ha='center', size='large', color='black' if values[i][j] < 15 else 'white')\n",
        "        plt.xlabel('Predicted Category', fontsize=18)\n",
        "        plt.ylabel('Actual Category', fontsize=18)\n",
        "        plt.xticks([i for i in range(17)], predicted_labels, rotation=60)\n",
        "        plt.yticks([i for i in range(17)], actual_labels)\n",
        "\n",
        "    plt.title(\"Aggregated Sound and Image Network Confusion Matrix\", fontsize=24)\n",
        "    #plt.savefig(f'{data_dir}/confusion_matrix.png')\n",
        "    plt.show()"
      ],
      "metadata": {
        "id": "dUvFsqIFMaq1"
      },
      "execution_count": null,
      "outputs": []
    },
    {
      "cell_type": "code",
      "source": [
        "plot_confusion_matrix(test_actual_labels, test_labels_yours_fcagg)"
      ],
      "metadata": {
        "colab": {
          "base_uri": "https://localhost:8080/",
          "height": 958
        },
        "id": "We6AF7e7Wdlc",
        "outputId": "7d528925-35cb-47f1-c0cd-0a0ae9f9c54c"
      },
      "execution_count": null,
      "outputs": [
        {
          "output_type": "display_data",
          "data": {
            "text/plain": [
              "<Figure size 1000x1000 with 1 Axes>"
            ],
            "image/png": "[encoded data removed]"
          },
          "metadata": {}
        }
      ]
    },
    {
      "cell_type": "markdown",
      "source": [
        "## Line Plots of Validation Performance"
      ],
      "metadata": {
        "id": "STZ2Kibbazm7"
      }
    },
    {
      "cell_type": "code",
      "source": [
        "with open(f'{save_dir}/fcagg_val_history.txt', 'r') as f:\n",
        "  fcagg_acc = f.read()\n",
        "  fcagg_acc = fcagg_acc.split(\"\\n\")\n",
        "\n",
        "  fcagg_acc = [float(id[fcagg_acc[i].index(\"0\"): fcagg_acc[i].index(\",\")]) for id in fcagg_acc if len(id)] # all of the video ids that are part of this dataset split\n",
        "\n",
        "print(fcagg_acc)"
      ],
      "metadata": {
        "colab": {
          "base_uri": "https://localhost:8080/"
        },
        "id": "YYMKGr9caybJ",
        "outputId": "c8180117-6233-4171-9701-6ef72f12adf5"
      },
      "execution_count": null,
      "outputs": [
        {
          "output_type": "stream",
          "name": "stdout",
          "text": [
            "[0.2768, 0.4521, 0.5254, 0.5373, 0.6232, 0.6542, 0.7085, 0.6923, 0.7796, 0.793, 0.8042, 0.85, 0.8775, 0.888, 0.8944, 0.912, 0.8937, 0.9261, 0.9366, 0.9373, 0.9401, 0.9373, 0.9535, 0.9514, 0.9507]\n"
          ]
        }
      ]
    },
    {
      "cell_type": "code",
      "source": [
        "with open(f'{save_dir}/image_val_history.txt', 'r') as f:\n",
        "  image_acc = f.read()\n",
        "  image_acc = image_acc.split(\"\\n\")\n",
        "\n",
        "  image_acc = [float(id[image_acc[i].index(\"0\"): image_acc[i].index(\",\")]) for id in image_acc if len(id)] # all of the video ids that are part of this dataset split\n",
        "\n",
        "print(image_acc)"
      ],
      "metadata": {
        "colab": {
          "base_uri": "https://localhost:8080/"
        },
        "id": "Y5OWtMK3cYRL",
        "outputId": "d642c308-a360-469d-bea0-967746f2f724"
      },
      "execution_count": null,
      "outputs": [
        {
          "output_type": "stream",
          "name": "stdout",
          "text": [
            "[0.3873, 0.5063, 0.5493, 0.6092, 0.6437, 0.6768, 0.6852, 0.7169, 0.7317, 0.7437, 0.7458, 0.7401, 0.7493, 0.7549, 0.7592, 0.7634, 0.7669, 0.757, 0.7549, 0.7606, 0.762, 0.7648, 0.7641, 0.7606, 0.7641]\n"
          ]
        }
      ]
    },
    {
      "cell_type": "code",
      "source": [
        "with open(f'{save_dir}/sound_val_history.txt', 'r') as f:\n",
        "  sound_acc = f.read()\n",
        "  sound_acc = sound_acc.split(\"\\n\")\n",
        "\n",
        "  sound_acc = [float(id[sound_acc[i].index(\"0\"): sound_acc[i].index(\",\")]) for id in sound_acc if len(id)] # all of the video ids that are part of this dataset split\n",
        "\n",
        "print(sound_acc)"
      ],
      "metadata": {
        "colab": {
          "base_uri": "https://localhost:8080/"
        },
        "id": "p73HbVh3ci_n",
        "outputId": "f61d5083-6686-48e9-9ba4-b0f28bc85109"
      },
      "execution_count": null,
      "outputs": [
        {
          "output_type": "stream",
          "name": "stdout",
          "text": [
            "[0.3908, 0.4049, 0.5176, 0.5768, 0.6197, 0.6218, 0.6697, 0.7345, 0.7901, 0.807, 0.8141, 0.8458, 0.907, 0.8704, 0.931, 0.9359, 0.9458, 0.962, 0.962, 0.9782, 0.9852, 0.9866, 0.9908, 0.9986, 0.9951]\n"
          ]
        }
      ]
    },
    {
      "cell_type": "code",
      "source": [
        "epochs = [i + 1 for i in range(len(sound_acc))]"
      ],
      "metadata": {
        "id": "DJYdiKfxcpzv"
      },
      "execution_count": null,
      "outputs": []
    },
    {
      "cell_type": "code",
      "source": [
        "plt.plot(epochs, sound_acc, label='Sound');\n",
        "plt.plot(epochs, image_acc, label='Image');\n",
        "plt.plot(epochs, fcagg_acc, label='Combined Sound & Image');\n",
        "plt.legend();\n",
        "plt.xlabel('Epoch');\n",
        "plt.ylabel('Validation Accuracy');\n",
        "plt.title('Validation Accuracy over Epochs of Training')\n",
        "# plt.savefig(f'{data_dir}/validation_accuracies.png')\n",
        "plt.show();"
      ],
      "metadata": {
        "colab": {
          "base_uri": "https://localhost:8080/",
          "height": 472
        },
        "id": "djjxayP_c2hg",
        "outputId": "5526110f-c9e0-4385-a017-ecd2154ea73e"
      },
      "execution_count": null,
      "outputs": [
        {
          "output_type": "display_data",
          "data": {
            "text/plain": [
              "<Figure size 640x480 with 1 Axes>"
            ],
            "image/png": "[encoded data removed]"
          },
          "metadata": {}
        }
      ]
    }
  ]
}