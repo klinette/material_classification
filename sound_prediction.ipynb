{
  "nbformat": 4,
  "nbformat_minor": 0,
  "metadata": {
    "colab": {
      "provenance": []
    },
    "kernelspec": {
      "name": "python3",
      "display_name": "Python 3"
    },
    "language_info": {
      "name": "python"
    },
    "accelerator": "GPU",
    "gpuClass": "standard"
  },
  "cells": [
    {
      "cell_type": "markdown",
      "source": [
        "#6.8300 Final Project\n",
        "## Catherine Mei and Linette Kunin"
      ],
      "metadata": {
        "id": "IG-ZUeTYKPuL"
      }
    },
    {
      "cell_type": "code",
      "source": [
        "# store as npy file\n",
        "# plot in matplotlib\n",
        "# is 2D array\n",
        "# convert to pytorch tensor\n",
        "\n",
        "# matplotlib as heatmap to try to visualize\n",
        "# spectrogram will be our label\n",
        "# spectrogram have to be scaled from 1 to -1\n",
        "# make sure to normalize the data\n",
        "\n",
        "# Enough for project"
      ],
      "metadata": {
        "id": "COcA79gKfUFy"
      },
      "execution_count": null,
      "outputs": []
    },
    {
      "cell_type": "markdown",
      "source": [
        "### Imports"
      ],
      "metadata": {
        "id": "IvZMdCgeKhXC"
      }
    },
    {
      "cell_type": "code",
      "execution_count": null,
      "metadata": {
        "id": "6jZLPTyYKIHW"
      },
      "outputs": [],
      "source": [
        "import numpy as np\n",
        "import torch\n",
        "import torch.nn as nn\n",
        "import os\n",
        "import torchvision\n",
        "from torchvision import datasets, models, transforms\n",
        "from torch.utils.data import Dataset\n",
        "from torch.utils.data import DataLoader\n",
        "import imageio\n",
        "import matplotlib.pyplot as plt\n",
        "import time\n",
        "import copy\n",
        "from tqdm import tqdm\n",
        "import torch.optim as optim\n",
        "\n",
        "# import pickle\n",
        "# from math import pi\n",
        "# from torch.autograd import Variable\n",
        "#\n",
        "# import cv2\n",
        "\n",
        "\n",
        "# import time\n",
        "# from tqdm.notebook import tqdm\n",
        "# import copy\n",
        "# import pandas as pd\n",
        "# import PIL\n",
        "# from torch.utils.data import DataLoader\n",
        "# import random"
      ]
    },
    {
      "cell_type": "code",
      "source": [
        "device = torch.device(\"cuda:0\" if torch.cuda.is_available() else \"cpu\")\n",
        "if torch.cuda.is_available():\n",
        "    print(\"Using the GPU!\")\n",
        "else:\n",
        "    print(\"WARNING: Could not find GPU! Using CPU only\")\n",
        "    print(\"You may want to try to use the GPU in Google Colab by clicking in:\")\n",
        "    print(\"Runtime > Change Runtime type > Hardware accelerator > GPU.\")"
      ],
      "metadata": {
        "colab": {
          "base_uri": "https://localhost:8080/"
        },
        "id": "kRXt_SEYLUL1",
        "outputId": "14b878de-5f60-4955-d30a-89e982860377"
      },
      "execution_count": null,
      "outputs": [
        {
          "output_type": "stream",
          "name": "stdout",
          "text": [
            "Using the GPU!\n"
          ]
        }
      ]
    },
    {
      "cell_type": "markdown",
      "source": [
        "### Import Data"
      ],
      "metadata": {
        "id": "wPYJKddLMGym"
      }
    },
    {
      "cell_type": "code",
      "source": [
        "use_gdrive = True"
      ],
      "metadata": {
        "id": "Te-BY_B0MZYg"
      },
      "execution_count": null,
      "outputs": []
    },
    {
      "cell_type": "code",
      "source": [
        "if use_gdrive:\n",
        "  from google.colab import drive\n",
        "  drive.mount('/content/drive')\n",
        "\n",
        "  data_dir = \"/content/drive/MyDrive/6.8300FinalProject\"\n",
        "else:\n",
        "  data_dir = \"./data\"\n",
        "\n",
        "downloads_dir = data_dir + '/downloads'\n",
        "datasets_dir = data_dir + '/vis-data-256'\n",
        "processed_data_dir = data_dir + '/vis-data-processed'\n",
        "models_dir = data_dir + '/models'\n",
        "pretrained_models = data_dir + '/pretrained_models'\n",
        "q2c_data_dir = data_dir + '/q2c_data'"
      ],
      "metadata": {
        "colab": {
          "base_uri": "https://localhost:8080/"
        },
        "id": "K6uelN_sMKRT",
        "outputId": "6ccd5b29-3a1b-4610-f490-531b9912090e"
      },
      "execution_count": null,
      "outputs": [
        {
          "output_type": "stream",
          "name": "stdout",
          "text": [
            "Mounted at /content/drive\n"
          ]
        }
      ]
    },
    {
      "cell_type": "code",
      "source": [
        "# vis_low_res = datasets_dir + '/vis-data-256.zip'\n",
        "# vis_sound_features = datasets_dir + '/vis-sfs.zip'"
      ],
      "metadata": {
        "id": "SLA190k6Xtpk"
      },
      "execution_count": null,
      "outputs": []
    },
    {
      "cell_type": "markdown",
      "source": [
        "### Create Class for Dataset"
      ],
      "metadata": {
        "id": "3TkmMoU994hI"
      }
    },
    {
      "cell_type": "code",
      "source": [
        "class VisData(Dataset):\n",
        "  def __init__(self, split = 'train', mode='image'):\n",
        "    self.image_transforms = transforms.Compose([\n",
        "          transforms.ToPILImage(),\n",
        "          transforms.RandomHorizontalFlip(0.5),\n",
        "          transforms.RandomVerticalFlip(0.5),\n",
        "          transforms.ToTensor(),\n",
        "        ])\n",
        "\n",
        "    self.imageToTensor = transforms.Compose([transforms.ToPILImage(), transforms.Grayscale(1), transforms.ToTensor()])\n",
        "\n",
        "    self.split = split\n",
        "    self.mode = mode\n",
        "\n",
        "    self.inputs, self.labels = self.get_dataset_input_label()\n",
        "    self.n = len(self.labels)\n",
        "\n",
        "  def __getitem__(self, index):\n",
        "    return self.inputs[index], self.labels[index]\n",
        "\n",
        "  def __len__(self):\n",
        "    return self.n\n",
        "\n",
        "  def get_dataset_input_label(self):\n",
        "    data_split = []\n",
        "\n",
        "    input = []\n",
        "    label = []\n",
        "\n",
        "    # get videos in dataset depending on train or test split\n",
        "    data_ids_path = \"\"\n",
        "    if self.split in {'train', 'val'}:\n",
        "      data_ids_path = processed_data_dir + \"/train.txt\"\n",
        "    elif self.split == \"test\":\n",
        "      data_ids_path = processed_data_dir + \"/test.txt\"\n",
        "\n",
        "    with open(data_ids_path, 'r') as f:\n",
        "        all_ids = f.read()\n",
        "        all_ids = all_ids.split(\"\\n\")\n",
        "        data_split = [id for id in all_ids if len(id)] # all of the video ids that are part of this dataset split\n",
        "\n",
        "    ignore_files = {\"2015-02-21-17-48-19\", \"2015-03-28-20-13-18\"}\n",
        "    file_count = 0\n",
        "    # for each file id, get all the hits in that file\n",
        "    for file_id in data_split:\n",
        "      file_count+=1\n",
        "      if file_id in ignore_files:\n",
        "        continue\n",
        "      video_id_path = processed_data_dir + \"/\" + file_id\n",
        "      filenames = os.listdir(video_id_path)\n",
        "\n",
        "      num_hits = len([i for i in filter(lambda x: x.endswith(\".png\"), filenames)])\n",
        "\n",
        "      keep_hit = 0\n",
        "      for i in range(num_hits):\n",
        "        if i % 20 != keep_hit:\n",
        "          continue\n",
        "        try:\n",
        "          input_in, spectro_label = self.get_stacked_image_spec(file_id, i)\n",
        "          input.append(input_in)\n",
        "          label.append(spectro_label)\n",
        "        except:\n",
        "          print(\"skipped: \", file_id, i)\n",
        "          continue\n",
        "\n",
        "\n",
        "      if file_count %50 ==0:\n",
        "        print(\"loaded: \", file_count)\n",
        "\n",
        "    return input, label\n",
        "\n",
        "  def get_stacked_image_spec(self, file_id, i):\n",
        "    img = self.load_image_with_id(file_id, i)\n",
        "    spec = torch.tensor(self.get_spectrogram_for_hit(file_id, i))\n",
        "    return [img, spec]\n",
        "\n",
        "  def load_image_with_id(self, file_id, index, apply_transforms = True):\n",
        "    file_path = processed_data_dir + \"/\" + file_id + \"/\" + file_id + \"_image_\" + str(index) + \".png\"\n",
        "    img = imageio.imread(file_path, pilmode='RGB')\n",
        "    if apply_transforms:\n",
        "      img = self.image_transforms(img)\n",
        "    return img\n",
        "\n",
        "  def get_material_label(self, file_id, index):\n",
        "    file_path = processed_data_dir + \"/\" + file_id + \"/\" + file_id + \"_labels_\" + str(index) + \".txt\"\n",
        "    with open(file_path, 'r') as f:\n",
        "      input = f.read()\n",
        "      lines = input.split(\"\\n\")\n",
        "      label = int(lines[0])\n",
        "    return label\n",
        "\n",
        "  def get_spectrogram_for_hit(self, file_id, index):\n",
        "    file_path = processed_data_dir + \"/\" + file_id + \"/\" + file_id + \"_spectrogram_\" + str(index) + \".npy\"\n",
        "    spectrogram = np.load(file_path)\n",
        "    spectrogram = spectrogram.flatten()\n",
        "    #spectrogram = np.transpose(np.repeat(spectrogram[:, :, np.newaxis], 3, axis=2), (2,0,1))\n",
        "    return spectrogram\n"
      ],
      "metadata": {
        "id": "b-yTPDsU97Ob"
      },
      "execution_count": null,
      "outputs": []
    },
    {
      "cell_type": "code",
      "source": [
        "#data_stats_train = VisData(split = 'train', mode = 'sound')"
      ],
      "metadata": {
        "id": "1nEXWRpP3Ls7"
      },
      "execution_count": null,
      "outputs": []
    },
    {
      "cell_type": "code",
      "source": [
        "# image, label = data_stats_train[0]\n",
        "# plt.imshow(np.transpose(image, (1,2,0)))"
      ],
      "metadata": {
        "id": "eQq2qAaZ6gUy"
      },
      "execution_count": null,
      "outputs": []
    },
    {
      "cell_type": "markdown",
      "source": [
        "RNN that outputs the frequencies at each timepoint\n",
        "look for pretrained model that outputs sounds?\n",
        "computer vision models not good for this because doesn't capture dependencies well\n",
        "Use generative models instead\n",
        "adversairial audio synthesis (Donahue)\n",
        "conditional model -\n",
        "audio conditional generative models"
      ],
      "metadata": {
        "id": "vqeoMKz2eI5K"
      }
    },
    {
      "cell_type": "markdown",
      "source": [
        "coordconv\n",
        "\n",
        "go from vector to spectrogram possibly with either __ * f *times or convolutional decoder and transpose convlution\n",
        "\n",
        "spectrogram size = 1025 by 44"
      ],
      "metadata": {
        "id": "sR8hZNapgOt8"
      }
    },
    {
      "cell_type": "markdown",
      "source": [
        "### Model Initialization"
      ],
      "metadata": {
        "id": "evVRRCHnNn0q"
      }
    },
    {
      "cell_type": "code",
      "source": [
        "def initialize_model(model_name, num_classes, resume_from = None, use_pretrained = False, mode = None):\n",
        "    # Initialize these variables which will be set in this if statement. Each of these\n",
        "    #   variables is model specific.\n",
        "    # The model (nn.Module) to return\n",
        "    model_ft = None\n",
        "    # The input image is expected to be (input_size, input_size)\n",
        "    input_size = 0\n",
        "\n",
        "    # By default, all parameters will be trained (useful when you're starting from scratch)\n",
        "    # Within this function you can set .requires_grad = False for various parameters, if you\n",
        "    # don't want to learn them\n",
        "\n",
        "    if model_name == \"resnet\":\n",
        "        \"\"\" Resnet18\n",
        "        \"\"\"\n",
        "        model_ft = models.resnet18(pretrained=use_pretrained)\n",
        "        num_ftrs = model_ft.fc.in_features\n",
        "        model_ft.fc = nn.Linear(num_ftrs, num_classes)\n",
        "        input_size = 224\n",
        "\n",
        "    elif model_name == \"resnet50\":\n",
        "        \"\"\" Resnet50\n",
        "        \"\"\"\n",
        "        model_ft = models.resnet50(pretrained=use_pretrained)\n",
        "        num_ftrs = model_ft.fc.in_features\n",
        "        model_ft.fc = nn.Linear(num_ftrs, num_classes)\n",
        "        input_size = 224\n",
        "\n",
        "    elif model_name == \"alexnet\":\n",
        "        \"\"\" Alexnet\n",
        "        \"\"\"\n",
        "        model_ft = models.alexnet(pretrained=use_pretrained)\n",
        "        num_ftrs = model_ft.classifier[6].in_features\n",
        "        model_ft.classifier[6] = nn.Linear(num_ftrs,num_classes)\n",
        "        input_size = 224\n",
        "\n",
        "    elif model_name == \"vgg\":\n",
        "        \"\"\" VGG11_bn\n",
        "        \"\"\"\n",
        "        model_ft = models.vgg11_bn(pretrained=use_pretrained)\n",
        "        num_ftrs = model_ft.classifier[6].in_features\n",
        "        model_ft.classifier[6] = nn.Linear(num_ftrs,num_classes)\n",
        "        input_size = 224\n",
        "\n",
        "    elif model_name == \"squeezenet\":\n",
        "        \"\"\" Squeezenet\n",
        "        \"\"\"\n",
        "        model_ft = models.squeezenet1_0(pretrained=use_pretrained)\n",
        "        model_ft.classifier[1] = nn.Conv2d(512, num_classes, kernel_size=(1,1), stride=(1,1))\n",
        "        model_ft.num_classes = num_classes\n",
        "        input_size = 224\n",
        "\n",
        "    elif model_name == \"densenet\":\n",
        "        \"\"\" Densenet\n",
        "        \"\"\"\n",
        "        model_ft = models.densenet121(pretrained=use_pretrained)\n",
        "        num_ftrs = model_ft.classifier.in_features\n",
        "        model_ft.classifier = nn.Linear(num_ftrs, num_classes)\n",
        "        input_size = 224\n",
        "\n",
        "    else:\n",
        "        raise Exception(\"Invalid model name!\")\n",
        "\n",
        "    if resume_from is not None:\n",
        "        print(\"Loading weights from %s\" % resume_from)\n",
        "        model_ft.load_state_dict(torch.load(resume_from))\n",
        "\n",
        "    return model_ft, input_size"
      ],
      "metadata": {
        "id": "s2UFUS1dNtrH"
      },
      "execution_count": null,
      "outputs": []
    },
    {
      "cell_type": "markdown",
      "source": [
        "## Dataloader"
      ],
      "metadata": {
        "id": "B-p2ymhQ7hby"
      }
    },
    {
      "cell_type": "code",
      "source": [
        "def get_image_transforms():\n",
        "    # How to transform the image when you are loading them.\n",
        "    # you'll likely want to mess with the transforms on the training set.\n",
        "\n",
        "    # We convert the image to a [C,H,W] tensor, then normalize it to values with a given mean/stdev. These normalization constants\n",
        "    # are derived from the mean/stdev of the ImageNet training set which was used to pretrain our models.\n",
        "\n",
        "    transform = transforms.Compose([\n",
        "            transforms.Normalize([0.485, 0.456, 0.406], [0.229, 0.224, 0.225])\n",
        "        ])\n",
        "    return transform\n",
        "\n",
        "def get_dataloaders(input_size, batch_size, shuffle = True, transform=get_image_transforms()):\n",
        "    data_transforms = {\n",
        "        'train': VisData(split = \"train\"),\n",
        "        'val': VisData(split = \"val\"),\n",
        "        'test': VisData(split = \"test\")\n",
        "    }\n",
        "    # Create training, validation and test dataloaders\n",
        "    # Never shuffle the test set\n",
        "    dataloaders_dict = {x: DataLoader(data_transforms[x], batch_size=batch_size, shuffle=False if x != 'train' else shuffle, num_workers=4) for x in data_transforms.keys()}\n",
        "    return dataloaders_dict"
      ],
      "metadata": {
        "id": "56b7yV4n7gky"
      },
      "execution_count": null,
      "outputs": []
    },
    {
      "cell_type": "markdown",
      "source": [
        "## Train Model"
      ],
      "metadata": {
        "id": "Dma7C5Og9XwP"
      }
    },
    {
      "cell_type": "code",
      "source": [
        "def train_model(model, dataloaders, criterion, optimizer, save_dir = None, save_all_epochs=False, num_epochs=25, eval_mode='multiclass'):\n",
        "    '''\n",
        "    model: The NN to train\n",
        "    dataloaders: A dictionary containing at least the keys\n",
        "                 'train','val' that maps to Pytorch data loaders for the dataset\n",
        "    criterion: The Loss function\n",
        "    optimizer: The algorithm to update weights\n",
        "               (Variations on gradient descent)\n",
        "    num_epochs: How many epochs to train for\n",
        "    save_dir: Where to save the best model weights that are found,\n",
        "              as they are found. Will save to save_dir/weights_best.pt\n",
        "              Using None will not write anything to disk\n",
        "    save_all_epochs: Whether to save weights for ALL epochs, not just the best\n",
        "                     validation error epoch. Will save to save_dir/weights_e{#}.pt\n",
        "    '''\n",
        "    os.makedirs(save_dir, exist_ok=True)\n",
        "    print(f'save dir is {save_dir}')\n",
        "    since = time.time()\n",
        "\n",
        "    val_acc_history = []\n",
        "    train_acc_history = []\n",
        "\n",
        "    best_model_wts = copy.deepcopy(model.state_dict())\n",
        "    best_acc = 0.0\n",
        "\n",
        "    for epoch in range(num_epochs):\n",
        "        print('Epoch {}/{}'.format(epoch + 1, num_epochs))\n",
        "        print('-' * 10)\n",
        "\n",
        "        # Each epoch has a training and validation phase\n",
        "        for phase in ['train', 'val']:\n",
        "            if phase == 'train':\n",
        "                model.train()  # Set model to training mode\n",
        "            else:\n",
        "                model.eval()   # Set model to evaluate mode\n",
        "\n",
        "            running_loss = 0.0\n",
        "            running_corrects = 0\n",
        "\n",
        "            # Iterate over data.\n",
        "            # TQDM has nice progress bars\n",
        "            for inputs, labels in tqdm(dataloaders[phase]):\n",
        "\n",
        "                if eval_mode == 'singleclass':\n",
        "                  labels = labels.type(torch.FloatTensor)\n",
        "\n",
        "                inputs = inputs.to(device)\n",
        "                labels = labels.to(device)\n",
        "\n",
        "                # zero the parameter gradients\n",
        "                optimizer.zero_grad()\n",
        "\n",
        "                # forward\n",
        "                # track history if only in train\n",
        "                with torch.set_grad_enabled(phase == 'train'):\n",
        "                    # Get model outputs and calculate loss\n",
        "                    outputs = model(inputs)\n",
        "                    outputs = outputs.to(device)\n",
        "                    loss = criterion(outputs, labels)\n",
        "\n",
        "                    # torch.max outputs the maximum value, and its index\n",
        "                    # Since the input is batched, we take the max along axis 1\n",
        "                    # (the meaningful outputs)\n",
        "                    if eval_mode == 'multiclass':\n",
        "                      preds = torch.mean(outputs, 0)\n",
        "                    elif eval_mode == 'multilabel':\n",
        "                      preds = torch.sigmoid(outputs > 0.5).long()\n",
        "                    elif eval_mode == 'singleclass':\n",
        "                      preds = torch.sigmoid(outputs > 0.5).long()\n",
        "\n",
        "                    # backprop + optimize only if in training phase\n",
        "                    if phase == 'train':\n",
        "                        loss.backward()\n",
        "                        optimizer.step()\n",
        "\n",
        "                # statistics\n",
        "                running_loss += loss.item() * inputs.size(0)\n",
        "                running_corrects += torch.sum(preds == labels.data)\n",
        "\n",
        "            epoch_loss = running_loss / len(dataloaders[phase].dataset)\n",
        "            epoch_acc = running_corrects.double() / len(dataloaders[phase].dataset)\n",
        "\n",
        "\n",
        "            print('{} Loss: {:.4f} Acc: {:.4f}'.format(phase, epoch_loss, epoch_acc))\n",
        "\n",
        "            # deep copy the model\n",
        "            if phase == 'val' and epoch_acc > best_acc:\n",
        "                best_acc = epoch_acc\n",
        "                best_model_wts = copy.deepcopy(model.state_dict())\n",
        "            if phase == 'train':\n",
        "                train_acc_history.append(epoch_acc)\n",
        "            if phase == 'val':\n",
        "                val_acc_history.append(epoch_acc)\n",
        "            if save_all_epochs:\n",
        "                torch.save(model.state_dict(), os.path.join(save_dir, f'weights_{epoch}.pt'))\n",
        "\n",
        "        print()\n",
        "\n",
        "    time_elapsed = time.time() - since\n",
        "    print('Training complete in {:.0f}m {:.0f}s'.format(time_elapsed // 60, time_elapsed % 60))\n",
        "    print('Best val Acc: {:4f}'.format(best_acc))\n",
        "\n",
        "    # save and load best model weights\n",
        "    torch.save(best_model_wts, os.path.join(save_dir, 'weights_best_val_acc.pt'))\n",
        "    torch.save(model.state_dict(), os.path.join(save_dir, 'weights_last.pt'.format(epoch)))\n",
        "    model.load_state_dict(best_model_wts)\n",
        "    print('saved weights?')\n",
        "\n",
        "    with open(os.path.join(save_dir, 'train_history.txt'), 'w') as f:\n",
        "      for i in range(num_epochs):\n",
        "        f.write(str(train_acc_history[i])+'\\n')\n",
        "\n",
        "    with open(os.path.join(save_dir, 'val_history.txt'), 'w') as f:\n",
        "      for i in range(num_epochs):\n",
        "        f.write(str(val_acc_history[i])+'\\n')\n",
        "    print('saved progress?')\n",
        "\n",
        "    return model, val_acc_history, train_acc_history"
      ],
      "metadata": {
        "id": "mcd2anOq3NDb"
      },
      "execution_count": null,
      "outputs": []
    },
    {
      "cell_type": "code",
      "source": [
        "# def train_model(model, dataloaders, criterion, optimizer, save_dir = None, save_all_epochs=False, num_epochs=25, eval_mode = \"multiclass\", mode = None):\n",
        "#     '''\n",
        "#     model: The NN to train\n",
        "#     dataloaders: A dictionary containing at least the keys\n",
        "#                  'train','val' that maps to Pytorch data loaders for the dataset\n",
        "#     criterion: The Loss function\n",
        "#     optimizer: The algorithm to update weights\n",
        "#                (Variations on gradient descent)\n",
        "#     num_epochs: How many epochs to train for\n",
        "#     save_dir: Where to save the best model weights that are found,\n",
        "#               as they are found. Will save to save_dir/weights_best.pt\n",
        "#               Using None will not write anything to disk\n",
        "#     save_all_epochs: Whether to save weights for ALL epochs, not just the best\n",
        "#                      validation error epoch. Will save to save_dir/weights_e{#}.pt\n",
        "#     '''\n",
        "#     since = time.time()\n",
        "\n",
        "#     val_acc_history = []\n",
        "#     train_acc_history = []\n",
        "\n",
        "#     best_model_wts = copy.deepcopy(model.state_dict())\n",
        "#     best_acc = 0.0\n",
        "\n",
        "#     for epoch in range(num_epochs):\n",
        "#         print('Epoch {}/{}'.format(epoch + 1, num_epochs))\n",
        "#         print('-' * 10)\n",
        "\n",
        "#         # Each epoch has a training and validation phase\n",
        "#         for phase in ['train', 'val']:\n",
        "#             if phase == 'train':\n",
        "#                 model.train()  # Set model to training mode\n",
        "#             else:\n",
        "#                 model.eval()   # Set model to evaluate mode\n",
        "\n",
        "#             running_loss = 0.0\n",
        "#             running_corrects = 0\n",
        "\n",
        "#             # Iterate over data.\n",
        "#             # TQDM has nice progress bars\n",
        "#             for inputs, labels in tqdm(dataloaders[phase]):\n",
        "#                 if eval_mode == 'singleclass':\n",
        "#                   labels = labels.type(torch.FloatTensor)\n",
        "\n",
        "#                 if mode == \"fcagg\":\n",
        "#                   input0, input1 = inputs\n",
        "#                   input0 = input0.to(device)\n",
        "#                   input1 = input1.to(device)\n",
        "#                 else:\n",
        "#                   inputs = inputs.to(device)\n",
        "\n",
        "#                 labels = labels.to(device)\n",
        "\n",
        "#                 # zero the parameter gradients\n",
        "#                 optimizer.zero_grad()\n",
        "\n",
        "#                 # forward\n",
        "#                 # track history if only in train\n",
        "#                 with torch.set_grad_enabled(phase == 'train'):\n",
        "#                     # Get model outputs and calculate loss\n",
        "#                     if mode == \"fcagg\":\n",
        "#                       outputs = model(input0, input1)\n",
        "#                     else:\n",
        "#                       outputs = model(inputs)\n",
        "\n",
        "#                     outputs = outputs.to(device)\n",
        "#                     loss = criterion(outputs, labels)\n",
        "\n",
        "#                     # torch.max outputs the maximum value, and its index\n",
        "#                     # Since the input is batched, we take the max along axis 1\n",
        "#                     # (the meaningful outputs)\n",
        "#                     if eval_mode == \"multiclass\":\n",
        "#                       _, preds = torch.max(outputs, 1)\n",
        "#                     elif eval_mode == \"multilabel\":\n",
        "#                       preds = torch.sigmoid(outputs > 0.5).long()\n",
        "#                     elif eval_mode == 'singleclass':\n",
        "#                       preds = torch.sigmoid(outputs > 0.5).long()\n",
        "\n",
        "#                     # backprop + optimize only if in training phase\n",
        "#                     if phase == 'train':\n",
        "#                         loss.backward()\n",
        "#                         optimizer.step()\n",
        "\n",
        "#                 # statistics\n",
        "#                 if mode == \"fcagg\":\n",
        "#                   running_loss +=loss.item() * input0.size(0) + loss.item() * input1.size(0)\n",
        "#                 else:\n",
        "#                   running_loss += loss.item() * inputs.size(0)\n",
        "#                 running_corrects += torch.sum(preds == labels.data)\n",
        "\n",
        "#             epoch_loss = running_loss / len(dataloaders[phase].dataset)\n",
        "#             epoch_acc = running_corrects.double() / len(dataloaders[phase].dataset)\n",
        "\n",
        "\n",
        "#             print('{} Loss: {:.4f} Acc: {:.4f}'.format(phase, epoch_loss, epoch_acc))\n",
        "\n",
        "#             # deep copy the model\n",
        "#             if phase == 'val' and epoch_acc > best_acc:\n",
        "#                 best_acc = epoch_acc\n",
        "#                 best_model_wts = copy.deepcopy(model.state_dict())\n",
        "#             if phase == 'train':\n",
        "#                 train_acc_history.append(epoch_acc)\n",
        "#             if phase == 'val':\n",
        "#                 val_acc_history.append(epoch_acc)\n",
        "#             if save_all_epochs:\n",
        "#                 torch.save(model.state_dict(), os.path.join(save_dir, f'{mode}_weights_{epoch}.pt'))\n",
        "\n",
        "#         print()\n",
        "\n",
        "#     time_elapsed = time.time() - since\n",
        "#     print('Training complete in {:.0f}m {:.0f}s'.format(time_elapsed // 60, time_elapsed % 60))\n",
        "#     print('Best val Acc: {:4f}'.format(best_acc))\n",
        "\n",
        "#     # save and load best model weights\n",
        "#     torch.save(best_model_wts, os.path.join(save_dir, mode + '_weights_best_val_acc.pt'))\n",
        "#     torch.save(model.state_dict(), os.path.join(save_dir, mode + '_weights_last.pt'.format(epoch)))\n",
        "#     model.load_state_dict(best_model_wts)\n",
        "\n",
        "#     with open(os.path.join(save_dir, mode + '_train_history.txt'), 'w') as f:\n",
        "#       for i in range(num_epochs):\n",
        "#         f.write(str(train_acc_history[i])+'\\n')\n",
        "\n",
        "#     with open(os.path.join(save_dir, mode + '_val_history.txt'), 'w') as f:\n",
        "#       for i in range(num_epochs):\n",
        "#         f.write(str(val_acc_history[i])+'\\n')\n",
        "\n",
        "\n",
        "#     return model, val_acc_history, train_acc_history"
      ],
      "metadata": {
        "id": "jNm3DubZ9aqu"
      },
      "execution_count": null,
      "outputs": []
    },
    {
      "cell_type": "markdown",
      "source": [
        "## Optimizer"
      ],
      "metadata": {
        "id": "_wUN_EN3BZIR"
      }
    },
    {
      "cell_type": "code",
      "source": [
        "def make_optimizer(model, learning_rate, print_parameters=False):\n",
        "    # Get all the parameters\n",
        "    params_to_update = model.parameters()\n",
        "    if print_parameters:\n",
        "      print(\"Params to learn:\")\n",
        "      for name, param in model.named_parameters():\n",
        "          if param.requires_grad == True:\n",
        "              print(\"\\t\",name)\n",
        "\n",
        "\n",
        "    optimizer = optim.SGD(params_to_update, lr=learning_rate, momentum=0.9)\n",
        "    return optimizer\n",
        "\n",
        "def get_loss(mode = \"multiclass\"):\n",
        "    # Create an instance of the loss function\n",
        "    if mode == \"multiclass\":\n",
        "      criterion = nn.CrossEntropyLoss()\n",
        "    # elif mode=='multilabel':\n",
        "    #   criterion = nn.BCEWithLogitsLoss()\n",
        "    # Create an instance of the loss function\n",
        "    elif mode == 'singleclass':\n",
        "      criterion = nn.BCELoss()\n",
        "    else:\n",
        "      raise ValueError()\n",
        "    return criterion"
      ],
      "metadata": {
        "id": "JRYSNs2_Bb-z"
      },
      "execution_count": null,
      "outputs": []
    },
    {
      "cell_type": "markdown",
      "source": [
        "## Setting Parameters"
      ],
      "metadata": {
        "id": "0Qps9U1MCtLw"
      }
    },
    {
      "cell_type": "code",
      "source": [
        "# Models to choose from [resnet, alexnet, vgg, squeezenet, densenet]\n",
        "# You can add your own, or modify these however you wish!\n",
        "model_name = \"resnet\"\n",
        "\n",
        "# Number of classes in the dataset\n",
        "num_classes = 1025*44\n",
        "\n",
        "# Batch size for training (change depending on how much memory you have)\n",
        "batch_size = 32\n",
        "\n",
        "# Shuffle the input data?\n",
        "shuffle_datasets = True\n",
        "\n",
        "# Number of epochs to train for\n",
        "num_epochs = 25\n",
        "\n",
        "# Learning rate\n",
        "learning_rate = 1e-3\n",
        "\n",
        "### IO\n",
        "# Path to a model file to use to start weights at\n",
        "resume_from = None\n",
        "\n",
        "# Whether to use a pretrained model, trained for classification in Imagenet-1k\n",
        "pretrained = True\n",
        "\n",
        "# Save all epochs so that you can select the model from a particular epoch\n",
        "save_all_epochs = True\n",
        "\n",
        "# Whether to use early stopping (load the model with best accuracy), or not\n",
        "early_stopping = False\n",
        "\n",
        "# Directory to save weights to\n",
        "save_dir = models_dir + '/trained_model_spectro'\n",
        "os.makedirs(save_dir, exist_ok=True)"
      ],
      "metadata": {
        "id": "t_24tjsPC2hC"
      },
      "execution_count": null,
      "outputs": []
    },
    {
      "cell_type": "code",
      "source": [
        "model_spectro, input_size = initialize_model(model_name = model_name, num_classes = num_classes, resume_from=resume_from, use_pretrained=pretrained)\n",
        "dataloaders = get_dataloaders(input_size, batch_size, shuffle_datasets)\n",
        "criterion= get_loss(mode = \"multiclass\")\n",
        "\n",
        "# Move the model to the gpu if needed\n",
        "model_spectro= model_spectro.to(device)\n",
        "\n",
        "optimizer= make_optimizer(model_spectro, learning_rate)"
      ],
      "metadata": {
        "colab": {
          "base_uri": "https://localhost:8080/",
          "height": 570
        },
        "id": "uwgksicPxNvI",
        "outputId": "26e0ce6c-a93a-4809-fe64-4fb797f74c02"
      },
      "execution_count": null,
      "outputs": [
        {
          "output_type": "stream",
          "name": "stderr",
          "text": [
            "/usr/local/lib/python3.10/dist-packages/torchvision/models/_utils.py:208: UserWarning: The parameter 'pretrained' is deprecated since 0.13 and may be removed in the future, please use 'weights' instead.\n",
            "  warnings.warn(\n",
            "/usr/local/lib/python3.10/dist-packages/torchvision/models/_utils.py:223: UserWarning: Arguments other than a weight enum or `None` for 'weights' are deprecated since 0.13 and may be removed in the future. The current behavior is equivalent to passing `weights=ResNet18_Weights.IMAGENET1K_V1`. You can also use `weights=ResNet18_Weights.DEFAULT` to get the most up-to-date weights.\n",
            "  warnings.warn(msg)\n",
            "Downloading: \"https://download.pytorch.org/models/resnet18-f37072fd.pth\" to /root/.cache/torch/hub/checkpoints/resnet18-f37072fd.pth\n",
            "100%|██████████| 44.7M/44.7M [00:00<00:00, 301MB/s]\n",
            "<ipython-input-5-5efd8a1f6b39>:80: DeprecationWarning: Starting with ImageIO v3 the behavior of this function will switch to that of iio.v3.imread. To keep the current behavior (and make this warning disappear) use `import imageio.v2 as imageio` or call `imageio.v2.imread` directly.\n",
            "  img = imageio.imread(file_path, pilmode='RGB')\n"
          ]
        },
        {
          "output_type": "stream",
          "name": "stdout",
          "text": [
            "torch.Size([3, 256, 454])\n"
          ]
        },
        {
          "output_type": "error",
          "ename": "KeyboardInterrupt",
          "evalue": "ignored",
          "traceback": [
            "\u001b[0;31m---------------------------------------------------------------------------\u001b[0m",
            "\u001b[0;31mKeyboardInterrupt\u001b[0m                         Traceback (most recent call last)",
            "\u001b[0;32m<ipython-input-11-186b2c1fee0b>\u001b[0m in \u001b[0;36m<cell line: 2>\u001b[0;34m()\u001b[0m\n\u001b[1;32m      1\u001b[0m \u001b[0mmodel_spectro\u001b[0m\u001b[0;34m,\u001b[0m \u001b[0minput_size\u001b[0m \u001b[0;34m=\u001b[0m \u001b[0minitialize_model\u001b[0m\u001b[0;34m(\u001b[0m\u001b[0mmodel_name\u001b[0m \u001b[0;34m=\u001b[0m \u001b[0mmodel_name\u001b[0m\u001b[0;34m,\u001b[0m \u001b[0mnum_classes\u001b[0m \u001b[0;34m=\u001b[0m \u001b[0mnum_classes\u001b[0m\u001b[0;34m,\u001b[0m \u001b[0mresume_from\u001b[0m\u001b[0;34m=\u001b[0m\u001b[0mresume_from\u001b[0m\u001b[0;34m,\u001b[0m \u001b[0muse_pretrained\u001b[0m\u001b[0;34m=\u001b[0m\u001b[0mpretrained\u001b[0m\u001b[0;34m)\u001b[0m\u001b[0;34m\u001b[0m\u001b[0;34m\u001b[0m\u001b[0m\n\u001b[0;32m----> 2\u001b[0;31m \u001b[0mdataloaders\u001b[0m \u001b[0;34m=\u001b[0m \u001b[0mget_dataloaders\u001b[0m\u001b[0;34m(\u001b[0m\u001b[0minput_size\u001b[0m\u001b[0;34m,\u001b[0m \u001b[0mbatch_size\u001b[0m\u001b[0;34m,\u001b[0m \u001b[0mshuffle_datasets\u001b[0m\u001b[0;34m)\u001b[0m\u001b[0;34m\u001b[0m\u001b[0;34m\u001b[0m\u001b[0m\n\u001b[0m\u001b[1;32m      3\u001b[0m \u001b[0mcriterion\u001b[0m\u001b[0;34m=\u001b[0m \u001b[0mget_loss\u001b[0m\u001b[0;34m(\u001b[0m\u001b[0mmode\u001b[0m \u001b[0;34m=\u001b[0m \u001b[0;34m\"multiclass\"\u001b[0m\u001b[0;34m)\u001b[0m\u001b[0;34m\u001b[0m\u001b[0;34m\u001b[0m\u001b[0m\n\u001b[1;32m      4\u001b[0m \u001b[0;34m\u001b[0m\u001b[0m\n\u001b[1;32m      5\u001b[0m \u001b[0;31m# Move the model to the gpu if needed\u001b[0m\u001b[0;34m\u001b[0m\u001b[0;34m\u001b[0m\u001b[0m\n",
            "\u001b[0;32m<ipython-input-7-887839e5ac3f>\u001b[0m in \u001b[0;36mget_dataloaders\u001b[0;34m(input_size, batch_size, shuffle, transform)\u001b[0m\n\u001b[1;32m     13\u001b[0m \u001b[0;32mdef\u001b[0m \u001b[0mget_dataloaders\u001b[0m\u001b[0;34m(\u001b[0m\u001b[0minput_size\u001b[0m\u001b[0;34m,\u001b[0m \u001b[0mbatch_size\u001b[0m\u001b[0;34m,\u001b[0m \u001b[0mshuffle\u001b[0m \u001b[0;34m=\u001b[0m \u001b[0;32mTrue\u001b[0m\u001b[0;34m,\u001b[0m \u001b[0mtransform\u001b[0m\u001b[0;34m=\u001b[0m\u001b[0mget_image_transforms\u001b[0m\u001b[0;34m(\u001b[0m\u001b[0;34m)\u001b[0m\u001b[0;34m)\u001b[0m\u001b[0;34m:\u001b[0m\u001b[0;34m\u001b[0m\u001b[0;34m\u001b[0m\u001b[0m\n\u001b[1;32m     14\u001b[0m     data_transforms = {\n\u001b[0;32m---> 15\u001b[0;31m         \u001b[0;34m'train'\u001b[0m\u001b[0;34m:\u001b[0m \u001b[0mVisData\u001b[0m\u001b[0;34m(\u001b[0m\u001b[0msplit\u001b[0m \u001b[0;34m=\u001b[0m \u001b[0;34m\"train\"\u001b[0m\u001b[0;34m)\u001b[0m\u001b[0;34m,\u001b[0m\u001b[0;34m\u001b[0m\u001b[0;34m\u001b[0m\u001b[0m\n\u001b[0m\u001b[1;32m     16\u001b[0m         \u001b[0;34m'val'\u001b[0m\u001b[0;34m:\u001b[0m \u001b[0mVisData\u001b[0m\u001b[0;34m(\u001b[0m\u001b[0msplit\u001b[0m \u001b[0;34m=\u001b[0m \u001b[0;34m\"val\"\u001b[0m\u001b[0;34m)\u001b[0m\u001b[0;34m,\u001b[0m\u001b[0;34m\u001b[0m\u001b[0;34m\u001b[0m\u001b[0m\n\u001b[1;32m     17\u001b[0m         \u001b[0;34m'test'\u001b[0m\u001b[0;34m:\u001b[0m \u001b[0mVisData\u001b[0m\u001b[0;34m(\u001b[0m\u001b[0msplit\u001b[0m \u001b[0;34m=\u001b[0m \u001b[0;34m\"test\"\u001b[0m\u001b[0;34m)\u001b[0m\u001b[0;34m\u001b[0m\u001b[0;34m\u001b[0m\u001b[0m\n",
            "\u001b[0;32m<ipython-input-5-5efd8a1f6b39>\u001b[0m in \u001b[0;36m__init__\u001b[0;34m(self, split, mode)\u001b[0m\n\u001b[1;32m     13\u001b[0m     \u001b[0mself\u001b[0m\u001b[0;34m.\u001b[0m\u001b[0mmode\u001b[0m \u001b[0;34m=\u001b[0m \u001b[0mmode\u001b[0m\u001b[0;34m\u001b[0m\u001b[0;34m\u001b[0m\u001b[0m\n\u001b[1;32m     14\u001b[0m \u001b[0;34m\u001b[0m\u001b[0m\n\u001b[0;32m---> 15\u001b[0;31m     \u001b[0mself\u001b[0m\u001b[0;34m.\u001b[0m\u001b[0minputs\u001b[0m\u001b[0;34m,\u001b[0m \u001b[0mself\u001b[0m\u001b[0;34m.\u001b[0m\u001b[0mlabels\u001b[0m \u001b[0;34m=\u001b[0m \u001b[0mself\u001b[0m\u001b[0;34m.\u001b[0m\u001b[0mget_dataset_input_label\u001b[0m\u001b[0;34m(\u001b[0m\u001b[0;34m)\u001b[0m\u001b[0;34m\u001b[0m\u001b[0;34m\u001b[0m\u001b[0m\n\u001b[0m\u001b[1;32m     16\u001b[0m     \u001b[0mself\u001b[0m\u001b[0;34m.\u001b[0m\u001b[0mn\u001b[0m \u001b[0;34m=\u001b[0m \u001b[0mlen\u001b[0m\u001b[0;34m(\u001b[0m\u001b[0mself\u001b[0m\u001b[0;34m.\u001b[0m\u001b[0mlabels\u001b[0m\u001b[0;34m)\u001b[0m\u001b[0;34m\u001b[0m\u001b[0;34m\u001b[0m\u001b[0m\n\u001b[1;32m     17\u001b[0m \u001b[0;34m\u001b[0m\u001b[0m\n",
            "\u001b[0;32m<ipython-input-5-5efd8a1f6b39>\u001b[0m in \u001b[0;36mget_dataset_input_label\u001b[0;34m(self)\u001b[0m\n\u001b[1;32m     48\u001b[0m         \u001b[0;32mcontinue\u001b[0m\u001b[0;34m\u001b[0m\u001b[0;34m\u001b[0m\u001b[0m\n\u001b[1;32m     49\u001b[0m       \u001b[0mvideo_id_path\u001b[0m \u001b[0;34m=\u001b[0m \u001b[0mprocessed_data_dir\u001b[0m \u001b[0;34m+\u001b[0m \u001b[0;34m\"/\"\u001b[0m \u001b[0;34m+\u001b[0m \u001b[0mfile_id\u001b[0m\u001b[0;34m\u001b[0m\u001b[0;34m\u001b[0m\u001b[0m\n\u001b[0;32m---> 50\u001b[0;31m       \u001b[0mfilenames\u001b[0m \u001b[0;34m=\u001b[0m \u001b[0mos\u001b[0m\u001b[0;34m.\u001b[0m\u001b[0mlistdir\u001b[0m\u001b[0;34m(\u001b[0m\u001b[0mvideo_id_path\u001b[0m\u001b[0;34m)\u001b[0m\u001b[0;34m\u001b[0m\u001b[0;34m\u001b[0m\u001b[0m\n\u001b[0m\u001b[1;32m     51\u001b[0m \u001b[0;34m\u001b[0m\u001b[0m\n\u001b[1;32m     52\u001b[0m       \u001b[0mnum_hits\u001b[0m \u001b[0;34m=\u001b[0m \u001b[0mlen\u001b[0m\u001b[0;34m(\u001b[0m\u001b[0;34m[\u001b[0m\u001b[0mi\u001b[0m \u001b[0;32mfor\u001b[0m \u001b[0mi\u001b[0m \u001b[0;32min\u001b[0m \u001b[0mfilter\u001b[0m\u001b[0;34m(\u001b[0m\u001b[0;32mlambda\u001b[0m \u001b[0mx\u001b[0m\u001b[0;34m:\u001b[0m \u001b[0mx\u001b[0m\u001b[0;34m.\u001b[0m\u001b[0mendswith\u001b[0m\u001b[0;34m(\u001b[0m\u001b[0;34m\".png\"\u001b[0m\u001b[0;34m)\u001b[0m\u001b[0;34m,\u001b[0m \u001b[0mfilenames\u001b[0m\u001b[0;34m)\u001b[0m\u001b[0;34m]\u001b[0m\u001b[0;34m)\u001b[0m\u001b[0;34m\u001b[0m\u001b[0;34m\u001b[0m\u001b[0m\n",
            "\u001b[0;31mKeyboardInterrupt\u001b[0m: "
          ]
        }
      ]
    },
    {
      "cell_type": "markdown",
      "source": [
        "## Training"
      ],
      "metadata": {
        "id": "FbsKxL3JDauL"
      }
    },
    {
      "cell_type": "code",
      "source": [
        "model_spectro, input_size = initialize_model(model_name = model_name, num_classes = num_classes, resume_from=resume_from, use_pretrained=pretrained)\n",
        "dataloaders = get_dataloaders(input_size, batch_size, shuffle_datasets)\n",
        "criterion= get_loss(mode = \"multiclass\")\n",
        "\n",
        "# Move the model to the gpu if needed\n",
        "model_spectro= model_spectro.to(device)\n",
        "\n",
        "optimizer= make_optimizer(model_spectro, learning_rate)\n",
        "\n"
      ],
      "metadata": {
        "colab": {
          "base_uri": "https://localhost:8080/"
        },
        "id": "qqPrHAIyDhxf",
        "outputId": "313b4c5d-34db-4992-d2f5-3d9fcbf6d98d"
      },
      "execution_count": null,
      "outputs": [
        {
          "output_type": "stream",
          "name": "stderr",
          "text": [
            "/usr/local/lib/python3.10/dist-packages/torchvision/models/_utils.py:208: UserWarning: The parameter 'pretrained' is deprecated since 0.13 and may be removed in the future, please use 'weights' instead.\n",
            "  warnings.warn(\n",
            "/usr/local/lib/python3.10/dist-packages/torchvision/models/_utils.py:223: UserWarning: Arguments other than a weight enum or `None` for 'weights' are deprecated since 0.13 and may be removed in the future. The current behavior is equivalent to passing `weights=ResNet18_Weights.IMAGENET1K_V1`. You can also use `weights=ResNet18_Weights.DEFAULT` to get the most up-to-date weights.\n",
            "  warnings.warn(msg)\n",
            "Downloading: \"https://download.pytorch.org/models/resnet18-f37072fd.pth\" to /root/.cache/torch/hub/checkpoints/resnet18-f37072fd.pth\n",
            "100%|██████████| 44.7M/44.7M [00:00<00:00, 161MB/s]\n",
            "<ipython-input-7-cec6bfac41f1>:79: DeprecationWarning: Starting with ImageIO v3 the behavior of this function will switch to that of iio.v3.imread. To keep the current behavior (and make this warning disappear) use `import imageio.v2 as imageio` or call `imageio.v2.imread` directly.\n",
            "  img = imageio.imread(file_path, pilmode='RGB')\n"
          ]
        },
        {
          "output_type": "stream",
          "name": "stdout",
          "text": [
            "loaded:  50\n",
            "loaded:  100\n",
            "loaded:  150\n",
            "loaded:  200\n",
            "loaded:  250\n",
            "loaded:  300\n",
            "loaded:  350\n",
            "skipped:  2015-09-23-15-41-10-262 0\n",
            "loaded:  400\n",
            "loaded:  450\n",
            "loaded:  500\n",
            "loaded:  550\n",
            "loaded:  600\n",
            "loaded:  650\n",
            "loaded:  700\n",
            "loaded:  50\n",
            "loaded:  100\n",
            "loaded:  150\n",
            "loaded:  200\n",
            "loaded:  250\n",
            "loaded:  300\n",
            "loaded:  350\n",
            "skipped:  2015-09-23-15-41-10-262 0\n",
            "loaded:  400\n",
            "loaded:  450\n",
            "loaded:  500\n",
            "loaded:  550\n",
            "loaded:  600\n",
            "loaded:  650\n",
            "loaded:  700\n",
            "loaded:  50\n",
            "loaded:  100\n",
            "loaded:  150\n",
            "loaded:  200\n"
          ]
        },
        {
          "output_type": "stream",
          "name": "stderr",
          "text": [
            "/usr/local/lib/python3.10/dist-packages/torch/utils/data/dataloader.py:561: UserWarning: This DataLoader will create 4 worker processes in total. Our suggested max number of worker in current system is 2, which is smaller than what this DataLoader is going to create. Please be aware that excessive worker creation might get DataLoader running slow or even freeze, lower the worker number to avoid potential slowness/freeze if necessary.\n",
            "  warnings.warn(_create_warning_msg(\n"
          ]
        }
      ]
    },
    {
      "cell_type": "code",
      "source": [
        "# Train the model!\n",
        "trained_model, validation_history, train_history = train_model(model=model_spectro,\n",
        "                                                                     dataloaders=dataloaders,\n",
        "                                                                     criterion=criterion,\n",
        "                                                                     optimizer=optimizer,\n",
        "                                                                     save_dir=save_dir,\n",
        "                                                                     save_all_epochs=save_all_epochs,\n",
        "                                                                     num_epochs=num_epochs)\n"
      ],
      "metadata": {
        "id": "fqZDNJeFEGu1",
        "colab": {
          "base_uri": "https://localhost:8080/"
        },
        "outputId": "fa4dd342-6df8-4636-d927-bc180c91410f"
      },
      "execution_count": null,
      "outputs": [
        {
          "output_type": "stream",
          "name": "stdout",
          "text": [
            "save dir is /content/drive/MyDrive/6.8300FinalProject/models/trained_model_spectro\n",
            "Epoch 1/25\n",
            "----------\n"
          ]
        },
        {
          "output_type": "stream",
          "name": "stderr",
          "text": [
            "100%|██████████| 45/45 [00:41<00:00,  1.10it/s]\n"
          ]
        },
        {
          "output_type": "stream",
          "name": "stdout",
          "text": [
            "train Loss: 127817.2523 Acc: 0.0000\n"
          ]
        },
        {
          "output_type": "stream",
          "name": "stderr",
          "text": [
            "100%|██████████| 45/45 [00:06<00:00,  7.46it/s]\n"
          ]
        },
        {
          "output_type": "stream",
          "name": "stdout",
          "text": [
            "val Loss: 125408.8857 Acc: 0.0000\n",
            "\n",
            "Epoch 2/25\n",
            "----------\n"
          ]
        },
        {
          "output_type": "stream",
          "name": "stderr",
          "text": [
            "100%|██████████| 45/45 [00:11<00:00,  3.90it/s]\n"
          ]
        },
        {
          "output_type": "stream",
          "name": "stdout",
          "text": [
            "train Loss: 123229.9430 Acc: 0.0000\n"
          ]
        },
        {
          "output_type": "stream",
          "name": "stderr",
          "text": [
            "100%|██████████| 45/45 [00:05<00:00,  8.65it/s]\n"
          ]
        },
        {
          "output_type": "stream",
          "name": "stdout",
          "text": [
            "val Loss: 122754.1134 Acc: 0.0000\n",
            "\n",
            "Epoch 3/25\n",
            "----------\n"
          ]
        },
        {
          "output_type": "stream",
          "name": "stderr",
          "text": [
            "100%|██████████| 45/45 [00:11<00:00,  3.88it/s]\n"
          ]
        },
        {
          "output_type": "stream",
          "name": "stdout",
          "text": [
            "train Loss: 122728.5851 Acc: 0.0000\n"
          ]
        },
        {
          "output_type": "stream",
          "name": "stderr",
          "text": [
            "100%|██████████| 45/45 [00:05<00:00,  7.63it/s]\n"
          ]
        },
        {
          "output_type": "stream",
          "name": "stdout",
          "text": [
            "val Loss: 123047.7883 Acc: 0.0000\n",
            "\n",
            "Epoch 4/25\n",
            "----------\n"
          ]
        },
        {
          "output_type": "stream",
          "name": "stderr",
          "text": [
            "100%|██████████| 45/45 [00:11<00:00,  3.87it/s]\n"
          ]
        },
        {
          "output_type": "stream",
          "name": "stdout",
          "text": [
            "train Loss: 122599.4236 Acc: 0.0000\n"
          ]
        },
        {
          "output_type": "stream",
          "name": "stderr",
          "text": [
            "100%|██████████| 45/45 [00:05<00:00,  8.71it/s]\n"
          ]
        },
        {
          "output_type": "stream",
          "name": "stdout",
          "text": [
            "val Loss: 123859.7884 Acc: 0.0007\n",
            "\n",
            "Epoch 5/25\n",
            "----------\n"
          ]
        },
        {
          "output_type": "stream",
          "name": "stderr",
          "text": [
            "100%|██████████| 45/45 [00:11<00:00,  3.83it/s]\n"
          ]
        },
        {
          "output_type": "stream",
          "name": "stdout",
          "text": [
            "train Loss: 122244.7402 Acc: 0.0014\n"
          ]
        },
        {
          "output_type": "stream",
          "name": "stderr",
          "text": [
            "100%|██████████| 45/45 [00:05<00:00,  8.37it/s]\n"
          ]
        },
        {
          "output_type": "stream",
          "name": "stdout",
          "text": [
            "val Loss: 122866.9111 Acc: 0.0000\n",
            "\n",
            "Epoch 6/25\n",
            "----------\n"
          ]
        },
        {
          "output_type": "stream",
          "name": "stderr",
          "text": [
            "100%|██████████| 45/45 [00:12<00:00,  3.74it/s]\n"
          ]
        },
        {
          "output_type": "stream",
          "name": "stdout",
          "text": [
            "train Loss: 122475.7220 Acc: 0.0007\n"
          ]
        },
        {
          "output_type": "stream",
          "name": "stderr",
          "text": [
            "100%|██████████| 45/45 [00:05<00:00,  7.65it/s]\n"
          ]
        },
        {
          "output_type": "stream",
          "name": "stdout",
          "text": [
            "val Loss: 122439.7518 Acc: 0.0000\n",
            "\n",
            "Epoch 7/25\n",
            "----------\n"
          ]
        },
        {
          "output_type": "stream",
          "name": "stderr",
          "text": [
            "100%|██████████| 45/45 [00:11<00:00,  3.79it/s]\n"
          ]
        },
        {
          "output_type": "stream",
          "name": "stdout",
          "text": [
            "train Loss: 122240.8316 Acc: 0.0007\n"
          ]
        },
        {
          "output_type": "stream",
          "name": "stderr",
          "text": [
            "100%|██████████| 45/45 [00:05<00:00,  8.60it/s]\n"
          ]
        },
        {
          "output_type": "stream",
          "name": "stdout",
          "text": [
            "val Loss: 122262.3039 Acc: 0.0000\n",
            "\n",
            "Epoch 8/25\n",
            "----------\n"
          ]
        },
        {
          "output_type": "stream",
          "name": "stderr",
          "text": [
            "100%|██████████| 45/45 [00:11<00:00,  3.81it/s]\n"
          ]
        },
        {
          "output_type": "stream",
          "name": "stdout",
          "text": [
            "train Loss: 122139.2875 Acc: 0.0000\n"
          ]
        },
        {
          "output_type": "stream",
          "name": "stderr",
          "text": [
            "100%|██████████| 45/45 [00:05<00:00,  7.93it/s]\n"
          ]
        },
        {
          "output_type": "stream",
          "name": "stdout",
          "text": [
            "val Loss: 121886.5298 Acc: 0.0000\n",
            "\n",
            "Epoch 9/25\n",
            "----------\n"
          ]
        },
        {
          "output_type": "stream",
          "name": "stderr",
          "text": [
            "100%|██████████| 45/45 [00:12<00:00,  3.72it/s]\n"
          ]
        },
        {
          "output_type": "stream",
          "name": "stdout",
          "text": [
            "train Loss: 121958.5644 Acc: 0.0000\n"
          ]
        },
        {
          "output_type": "stream",
          "name": "stderr",
          "text": [
            "100%|██████████| 45/45 [00:05<00:00,  8.22it/s]\n"
          ]
        },
        {
          "output_type": "stream",
          "name": "stdout",
          "text": [
            "val Loss: 122026.7811 Acc: 0.0000\n",
            "\n",
            "Epoch 10/25\n",
            "----------\n"
          ]
        },
        {
          "output_type": "stream",
          "name": "stderr",
          "text": [
            "100%|██████████| 45/45 [00:11<00:00,  3.77it/s]\n"
          ]
        },
        {
          "output_type": "stream",
          "name": "stdout",
          "text": [
            "train Loss: 121938.8266 Acc: 0.0000\n"
          ]
        },
        {
          "output_type": "stream",
          "name": "stderr",
          "text": [
            "100%|██████████| 45/45 [00:05<00:00,  8.58it/s]\n"
          ]
        },
        {
          "output_type": "stream",
          "name": "stdout",
          "text": [
            "val Loss: 122686.8295 Acc: 0.0007\n",
            "\n",
            "Epoch 11/25\n",
            "----------\n"
          ]
        },
        {
          "output_type": "stream",
          "name": "stderr",
          "text": [
            "100%|██████████| 45/45 [00:12<00:00,  3.68it/s]\n"
          ]
        },
        {
          "output_type": "stream",
          "name": "stdout",
          "text": [
            "train Loss: 121975.8242 Acc: 0.0000\n"
          ]
        },
        {
          "output_type": "stream",
          "name": "stderr",
          "text": [
            "100%|██████████| 45/45 [00:06<00:00,  7.19it/s]\n"
          ]
        },
        {
          "output_type": "stream",
          "name": "stdout",
          "text": [
            "val Loss: 122087.9206 Acc: 0.0000\n",
            "\n",
            "Epoch 12/25\n",
            "----------\n"
          ]
        },
        {
          "output_type": "stream",
          "name": "stderr",
          "text": [
            "100%|██████████| 45/45 [00:12<00:00,  3.74it/s]\n"
          ]
        },
        {
          "output_type": "stream",
          "name": "stdout",
          "text": [
            "train Loss: 122037.9627 Acc: 0.0000\n"
          ]
        },
        {
          "output_type": "stream",
          "name": "stderr",
          "text": [
            "100%|██████████| 45/45 [00:05<00:00,  8.40it/s]\n"
          ]
        },
        {
          "output_type": "stream",
          "name": "stdout",
          "text": [
            "val Loss: 122159.1079 Acc: 0.0007\n",
            "\n",
            "Epoch 13/25\n",
            "----------\n"
          ]
        },
        {
          "output_type": "stream",
          "name": "stderr",
          "text": [
            "100%|██████████| 45/45 [00:11<00:00,  3.80it/s]\n"
          ]
        },
        {
          "output_type": "stream",
          "name": "stdout",
          "text": [
            "train Loss: 121962.2739 Acc: 0.0007\n"
          ]
        },
        {
          "output_type": "stream",
          "name": "stderr",
          "text": [
            "100%|██████████| 45/45 [00:05<00:00,  8.57it/s]\n"
          ]
        },
        {
          "output_type": "stream",
          "name": "stdout",
          "text": [
            "val Loss: 121835.7036 Acc: 0.0000\n",
            "\n",
            "Epoch 14/25\n",
            "----------\n"
          ]
        },
        {
          "output_type": "stream",
          "name": "stderr",
          "text": [
            "100%|██████████| 45/45 [00:12<00:00,  3.70it/s]\n"
          ]
        },
        {
          "output_type": "stream",
          "name": "stdout",
          "text": [
            "train Loss: 121845.1161 Acc: 0.0000\n"
          ]
        },
        {
          "output_type": "stream",
          "name": "stderr",
          "text": [
            "100%|██████████| 45/45 [00:06<00:00,  7.43it/s]\n"
          ]
        },
        {
          "output_type": "stream",
          "name": "stdout",
          "text": [
            "val Loss: 121808.6903 Acc: 0.0007\n",
            "\n",
            "Epoch 15/25\n",
            "----------\n"
          ]
        },
        {
          "output_type": "stream",
          "name": "stderr",
          "text": [
            "100%|██████████| 45/45 [00:12<00:00,  3.74it/s]\n"
          ]
        },
        {
          "output_type": "stream",
          "name": "stdout",
          "text": [
            "train Loss: 121897.4176 Acc: 0.0000\n"
          ]
        },
        {
          "output_type": "stream",
          "name": "stderr",
          "text": [
            "100%|██████████| 45/45 [00:05<00:00,  8.66it/s]\n"
          ]
        },
        {
          "output_type": "stream",
          "name": "stdout",
          "text": [
            "val Loss: 122949.0246 Acc: 0.0000\n",
            "\n",
            "Epoch 16/25\n",
            "----------\n"
          ]
        },
        {
          "output_type": "stream",
          "name": "stderr",
          "text": [
            "100%|██████████| 45/45 [00:12<00:00,  3.73it/s]\n"
          ]
        },
        {
          "output_type": "stream",
          "name": "stdout",
          "text": [
            "train Loss: 121896.1882 Acc: 0.0014\n"
          ]
        },
        {
          "output_type": "stream",
          "name": "stderr",
          "text": [
            "100%|██████████| 45/45 [00:05<00:00,  7.61it/s]\n"
          ]
        },
        {
          "output_type": "stream",
          "name": "stdout",
          "text": [
            "val Loss: 124613.7468 Acc: 0.0000\n",
            "\n",
            "Epoch 17/25\n",
            "----------\n"
          ]
        },
        {
          "output_type": "stream",
          "name": "stderr",
          "text": [
            "100%|██████████| 45/45 [00:12<00:00,  3.72it/s]\n"
          ]
        },
        {
          "output_type": "stream",
          "name": "stdout",
          "text": [
            "train Loss: 122135.8408 Acc: 0.0000\n"
          ]
        },
        {
          "output_type": "stream",
          "name": "stderr",
          "text": [
            "100%|██████████| 45/45 [00:05<00:00,  8.32it/s]\n"
          ]
        },
        {
          "output_type": "stream",
          "name": "stdout",
          "text": [
            "val Loss: 121733.2062 Acc: 0.0000\n",
            "\n",
            "Epoch 18/25\n",
            "----------\n"
          ]
        },
        {
          "output_type": "stream",
          "name": "stderr",
          "text": [
            "100%|██████████| 45/45 [00:11<00:00,  3.80it/s]\n"
          ]
        },
        {
          "output_type": "stream",
          "name": "stdout",
          "text": [
            "train Loss: 121914.1564 Acc: 0.0007\n"
          ]
        },
        {
          "output_type": "stream",
          "name": "stderr",
          "text": [
            "100%|██████████| 45/45 [00:05<00:00,  8.65it/s]\n"
          ]
        },
        {
          "output_type": "stream",
          "name": "stdout",
          "text": [
            "val Loss: 124090.4973 Acc: 0.0000\n",
            "\n",
            "Epoch 19/25\n",
            "----------\n"
          ]
        },
        {
          "output_type": "stream",
          "name": "stderr",
          "text": [
            "100%|██████████| 45/45 [00:12<00:00,  3.67it/s]\n"
          ]
        },
        {
          "output_type": "stream",
          "name": "stdout",
          "text": [
            "train Loss: 121798.8864 Acc: 0.0000\n"
          ]
        },
        {
          "output_type": "stream",
          "name": "stderr",
          "text": [
            "100%|██████████| 45/45 [00:06<00:00,  7.37it/s]\n"
          ]
        },
        {
          "output_type": "stream",
          "name": "stdout",
          "text": [
            "val Loss: 121803.7011 Acc: 0.0000\n",
            "\n",
            "Epoch 20/25\n",
            "----------\n"
          ]
        },
        {
          "output_type": "stream",
          "name": "stderr",
          "text": [
            "100%|██████████| 45/45 [00:12<00:00,  3.73it/s]\n"
          ]
        },
        {
          "output_type": "stream",
          "name": "stdout",
          "text": [
            "train Loss: 121982.9770 Acc: 0.0000\n"
          ]
        },
        {
          "output_type": "stream",
          "name": "stderr",
          "text": [
            "100%|██████████| 45/45 [00:05<00:00,  8.58it/s]\n"
          ]
        },
        {
          "output_type": "stream",
          "name": "stdout",
          "text": [
            "val Loss: 122018.0016 Acc: 0.0014\n",
            "\n",
            "Epoch 21/25\n",
            "----------\n"
          ]
        },
        {
          "output_type": "stream",
          "name": "stderr",
          "text": [
            "100%|██████████| 45/45 [00:12<00:00,  3.75it/s]\n"
          ]
        },
        {
          "output_type": "stream",
          "name": "stdout",
          "text": [
            "train Loss: 121873.4601 Acc: 0.0007\n"
          ]
        },
        {
          "output_type": "stream",
          "name": "stderr",
          "text": [
            "100%|██████████| 45/45 [00:05<00:00,  8.30it/s]\n"
          ]
        },
        {
          "output_type": "stream",
          "name": "stdout",
          "text": [
            "val Loss: 122226.3816 Acc: 0.0007\n",
            "\n",
            "Epoch 22/25\n",
            "----------\n"
          ]
        },
        {
          "output_type": "stream",
          "name": "stderr",
          "text": [
            "100%|██████████| 45/45 [00:12<00:00,  3.68it/s]\n"
          ]
        },
        {
          "output_type": "stream",
          "name": "stdout",
          "text": [
            "train Loss: 121754.8005 Acc: 0.0007\n"
          ]
        },
        {
          "output_type": "stream",
          "name": "stderr",
          "text": [
            "100%|██████████| 45/45 [00:06<00:00,  7.49it/s]\n"
          ]
        },
        {
          "output_type": "stream",
          "name": "stdout",
          "text": [
            "val Loss: 121859.3480 Acc: 0.0000\n",
            "\n",
            "Epoch 23/25\n",
            "----------\n"
          ]
        },
        {
          "output_type": "stream",
          "name": "stderr",
          "text": [
            "100%|██████████| 45/45 [00:12<00:00,  3.69it/s]\n"
          ]
        },
        {
          "output_type": "stream",
          "name": "stdout",
          "text": [
            "train Loss: 121822.2414 Acc: 0.0000\n"
          ]
        },
        {
          "output_type": "stream",
          "name": "stderr",
          "text": [
            "100%|██████████| 45/45 [00:05<00:00,  8.63it/s]\n"
          ]
        },
        {
          "output_type": "stream",
          "name": "stdout",
          "text": [
            "val Loss: 122504.6254 Acc: 0.0000\n",
            "\n",
            "Epoch 24/25\n",
            "----------\n"
          ]
        },
        {
          "output_type": "stream",
          "name": "stderr",
          "text": [
            "100%|██████████| 45/45 [00:12<00:00,  3.74it/s]\n"
          ]
        },
        {
          "output_type": "stream",
          "name": "stdout",
          "text": [
            "train Loss: 121808.6669 Acc: 0.0000\n"
          ]
        },
        {
          "output_type": "stream",
          "name": "stderr",
          "text": [
            "100%|██████████| 45/45 [00:06<00:00,  7.36it/s]\n"
          ]
        },
        {
          "output_type": "stream",
          "name": "stdout",
          "text": [
            "val Loss: 121893.8659 Acc: 0.0007\n",
            "\n",
            "Epoch 25/25\n",
            "----------\n"
          ]
        },
        {
          "output_type": "stream",
          "name": "stderr",
          "text": [
            "100%|██████████| 45/45 [00:11<00:00,  3.75it/s]\n"
          ]
        },
        {
          "output_type": "stream",
          "name": "stdout",
          "text": [
            "train Loss: 121675.4905 Acc: 0.0000\n"
          ]
        },
        {
          "output_type": "stream",
          "name": "stderr",
          "text": [
            "100%|██████████| 45/45 [00:05<00:00,  8.48it/s]\n"
          ]
        },
        {
          "output_type": "stream",
          "name": "stdout",
          "text": [
            "val Loss: 121727.2112 Acc: 0.0000\n",
            "\n",
            "Training complete in 8m 25s\n",
            "Best val Acc: 0.001408\n",
            "saved weights?\n",
            "saved progress?\n"
          ]
        }
      ]
    },
    {
      "cell_type": "markdown",
      "source": [
        "## Evaluation"
      ],
      "metadata": {
        "id": "0pL03oXekGJp"
      }
    },
    {
      "cell_type": "code",
      "source": [
        "def evaluate(model, dataloader, criterion, is_labelled = False, generate_labels = True, k = 5):\n",
        "    # If is_labelled, we want to compute loss, top-1 accuracy and top-5 accuracy\n",
        "    # If generate_labels, we want to output the actual labels\n",
        "    # Set the model to evaluate mode\n",
        "    model.eval()\n",
        "    running_loss = 0\n",
        "    running_top1_correct = 0\n",
        "    running_top5_correct = 0\n",
        "    predicted_labels = []\n",
        "    gt_labels = []\n",
        "    all_outputs = []\n",
        "    all_labels = []\n",
        "\n",
        "    # Iterate over data.\n",
        "    # TQDM has nice progress bars\n",
        "    for inputs, labels in tqdm(dataloader):\n",
        "        inputs = inputs.to(device)\n",
        "\n",
        "        labels = labels.to(device)\n",
        "\n",
        "        tiled_labels = torch.stack([labels.data for i in range(k)], dim=1)\n",
        "        # Makes this to calculate \"top 5 prediction is correct\"\n",
        "        # [[label1 label1 label1 label1 label1], [label2 label2 label2 label label2]]\n",
        "        real_label = torch.mean(labels, 0)\n",
        "        all_labels.append(real_label)\n",
        "        # forward\n",
        "        # track history if only in train\n",
        "        with torch.set_grad_enabled(False):\n",
        "            # Get model outputs and calculate loss\n",
        "            outputs = model(inputs)\n",
        "            real_output = torch.mean(outputs, 0)\n",
        "            all_outputs.append(real_output)\n",
        "            if is_labelled:\n",
        "                loss = criterion(outputs, labels)\n",
        "\n",
        "            # torch.topk outputs the maximum values, and their indices\n",
        "            # Since the input is batched, we take the max along axis 1\n",
        "            # (the meaningful outputs)\n",
        "            _, preds = torch.topk(outputs, k=k, dim=1)\n",
        "            if generate_labels:\n",
        "                # We want to store these results\n",
        "                nparr = preds.cpu().detach().numpy()\n",
        "                predicted_labels.extend([list(nparr[i]) for i in range(len(nparr))])\n",
        "                gt_labels.extend(np.array(labels.cpu()))\n",
        "\n",
        "        if is_labelled:\n",
        "            # statistics\n",
        "            running_loss += loss.item() * inputs.size(0)\n",
        "            # Check only the first prediction\n",
        "            running_top1_correct += torch.sum(preds[0, :] == labels.data)\n",
        "            # Check all 5 predictions\n",
        "            running_top5_correct += torch.sum(preds == tiled_labels)\n",
        "        else:\n",
        "            pass\n",
        "\n",
        "    # Only compute loss & accuracy if we have the labels\n",
        "    if is_labelled:\n",
        "        epoch_loss = float(running_loss / len(dataloader.dataset))\n",
        "        epoch_top1_acc = float(running_top1_correct.double() / len(dataloader.dataset))\n",
        "        epoch_top5_acc = float(running_top5_correct.double() / len(dataloader.dataset))\n",
        "    else:\n",
        "        epoch_loss = None\n",
        "        epoch_top1_acc = None\n",
        "        epoch_top5_acc = None\n",
        "\n",
        "    # Return everything\n",
        "    return epoch_loss, epoch_top1_acc, gt_labels, predicted_labels, all_outputs, all_labels"
      ],
      "metadata": {
        "id": "-UqrQM0pkXS3"
      },
      "execution_count": null,
      "outputs": []
    },
    {
      "cell_type": "code",
      "source": [
        "\n",
        "# Load your final model, that we will use for the rest of the PSET.\n",
        "if early_stopping:\n",
        "  weights_file = save_dir + '/weights_best_val_acc.pt'\n",
        "else:\n",
        "  weights_file = save_dir + '/weights_last.pt'\n",
        "\n",
        "model_yours, _ = initialize_model(model_name = model_name, num_classes = num_classes, resume_from=resume_from, use_pretrained=pretrained)\n",
        "\n",
        "# Move the model to the gpu if needed\n",
        "model_yours = model_yours.to(device)\n",
        "\n",
        "# Load weights for model_yours\n",
        "#print(torch.load(weights_file))\n",
        "\n",
        "model_yours.load_state_dict(torch.load(weights_file))\n",
        "\n",
        "# set models to eval mode\n",
        "model_yours = model_yours.eval()"
      ],
      "metadata": {
        "id": "Po5FSBNGinUb"
      },
      "execution_count": null,
      "outputs": []
    },
    {
      "cell_type": "code",
      "source": [
        "# Get data on the validation set\n",
        "# Setting this to false will be a little bit faster\n",
        "generate_validation_labels = True\n",
        "val_loss_yours, val_top1_yours, _, val_labels_yours, val_outputs, val_labels = evaluate(model_yours, dataloaders['val'], criterion, is_labelled = True, generate_labels = generate_validation_labels, k = 1)\n",
        "# Get predictions for the test set\n",
        "test_loss_yours, test_top1_yours, _, test_labels_yours, test_outputs, test_labels = evaluate(model_yours, dataloaders['test'], criterion, is_labelled = True, generate_labels = generate_validation_labels, k = 1)\n",
        "\n",
        "print(\"Your Trained model: \")\n",
        "print(\"Val Top-1 Accuracy: {}\".format(val_top1_yours))\n",
        "print(\"Test Top-1 Accuracy: {}\".format(test_top1_yours))"
      ],
      "metadata": {
        "id": "uWPiYpc0kdQQ",
        "colab": {
          "base_uri": "https://localhost:8080/"
        },
        "outputId": "7bc31dc9-26d9-48d7-cecf-144a0adda635"
      },
      "execution_count": null,
      "outputs": [
        {
          "output_type": "stream",
          "name": "stderr",
          "text": [
            "100%|██████████| 45/45 [00:06<00:00,  6.54it/s]\n",
            "100%|██████████| 15/15 [00:03<00:00,  4.68it/s]"
          ]
        },
        {
          "output_type": "stream",
          "name": "stdout",
          "text": [
            "Your Trained model: \n",
            "Val Top-1 Accuracy: 0.0\n",
            "Test Top-1 Accuracy: 0.0\n"
          ]
        },
        {
          "output_type": "stream",
          "name": "stderr",
          "text": [
            "\n"
          ]
        }
      ]
    },
    {
      "cell_type": "code",
      "source": [
        "print(test_outputs[0])\n",
        "# spectro_0 = torch.abs(torch.nn.functional.normalize(test_outputs[0], dim=0))\n",
        "spectro_0 = torch.abs(test_outputs[0])\n",
        "print(spectro_0)\n",
        "# spectro_0 = torch.pow(10, normalized)\n",
        "\n",
        "spectro_0 = torch.pow(10, spectro_0)\n",
        "spectro_0 = spectro_0.reshape((1025, 44))\n",
        "plt.imshow(np.array(spectro_0.cpu()))"
      ],
      "metadata": {
        "colab": {
          "base_uri": "https://localhost:8080/",
          "height": 506
        },
        "id": "NDuB_aIfAGAO",
        "outputId": "982f3bbf-39d5-4f0f-8851-8f0ed8170e65"
      },
      "execution_count": null,
      "outputs": [
        {
          "output_type": "stream",
          "name": "stdout",
          "text": [
            "tensor([ 0.9773,  0.7821,  0.4016,  ..., -3.8002, -3.2580, -2.9662],\n",
            "       device='cuda:0')\n",
            "tensor([0.9773, 0.7821, 0.4016,  ..., 3.8002, 3.2580, 2.9662], device='cuda:0')\n"
          ]
        },
        {
          "output_type": "execute_result",
          "data": {
            "text/plain": [
              "<matplotlib.image.AxesImage at 0x7fcb4ca10910>"
            ]
          },
          "metadata": {},
          "execution_count": 28
        },
        {
          "output_type": "display_data",
          "data": {
            "text/plain": [
              "<Figure size 640x480 with 1 Axes>"
            ],
            "image/png": "[encoded data removed]"
          },
          "metadata": {}
        }
      ]
    },
    {
      "cell_type": "code",
      "source": [
        "import librosa\n",
        "import soundfile as sf\n",
        "audio_signal = librosa.core.spectrum.griffinlim(np.array(spectro_0.cpu()))\n",
        "sf.write(f'{data_dir}/test_signal.wav', audio_signal, 22050, 'PCM_24')"
      ],
      "metadata": {
        "id": "ZuUCfJYy4Oki"
      },
      "execution_count": null,
      "outputs": []
    },
    {
      "cell_type": "code",
      "source": [
        "print(librosa.core.spectrum.griffinlim)"
      ],
      "metadata": {
        "colab": {
          "base_uri": "https://localhost:8080/"
        },
        "id": "Y2Jsdchp8hzB",
        "outputId": "21f3ed2d-b47c-406c-8acc-3dbecca41a38"
      },
      "execution_count": null,
      "outputs": [
        {
          "output_type": "stream",
          "name": "stdout",
          "text": [
            "<function griffinlim at 0x7fcb4d16e4d0>\n"
          ]
        }
      ]
    },
    {
      "cell_type": "code",
      "source": [
        "print(test_labels[0])\n",
        "spectro_0 = test_labels[0]\n",
        "spectro_0 = spectro_0.reshape((1025, 44))\n",
        "plt.imshow(np.array(spectro_0.cpu()))"
      ],
      "metadata": {
        "colab": {
          "base_uri": "https://localhost:8080/",
          "height": 489
        },
        "id": "xaPH-0zXYqd-",
        "outputId": "f318762c-523c-4d07-9713-9ffeff68dcd4"
      },
      "execution_count": null,
      "outputs": [
        {
          "output_type": "stream",
          "name": "stdout",
          "text": [
            "tensor([5.0108e-02, 3.5783e-02, 1.9905e-02,  ..., 3.7097e-08, 2.6771e-04,\n",
            "        5.9515e-04], device='cuda:0')\n"
          ]
        },
        {
          "output_type": "execute_result",
          "data": {
            "text/plain": [
              "<matplotlib.image.AxesImage at 0x7fcb4ca42f50>"
            ]
          },
          "metadata": {},
          "execution_count": 30
        },
        {
          "output_type": "display_data",
          "data": {
            "text/plain": [
              "<Figure size 640x480 with 1 Axes>"
            ],
            "image/png": "[encoded data removed]"
          },
          "metadata": {}
        }
      ]
    },
    {
      "cell_type": "code",
      "source": [
        "plt.plot(np.array(spectro_0.cpu()))\n",
        "plt.savefig(f'{data_dir}/test_figure.png')"
      ],
      "metadata": {
        "colab": {
          "base_uri": "https://localhost:8080/",
          "height": 430
        },
        "id": "8bXzR2MVK7Xb",
        "outputId": "3cd67db5-e02a-478e-ff17-3bf1079491d8"
      },
      "execution_count": null,
      "outputs": [
        {
          "output_type": "display_data",
          "data": {
            "text/plain": [
              "<Figure size 640x480 with 1 Axes>"
            ],
            "image/png": "[encoded data removed]"
          },
          "metadata": {}
        }
      ]
    },
    {
      "cell_type": "code",
      "source": [
        "# save all of the test outputs and their expected output\n",
        "for i in range(len(test_labels)):\n",
        "  label_i = test_labels[i]\n",
        "  label_i = label_i.reshape((1025, 44))\n",
        "\n",
        "  output_i = torch.abs(test_outputs[i])\n",
        "  output_i = torch.pow(10, output_i)\n",
        "  output_i = output_i.reshape((1025, 44))\n",
        "\n",
        "  predicted_audio_signal = librosa.core.spectrum.griffinlim(np.array(output_i.cpu()))\n",
        "  sf.write(f'{data_dir}/spectro_method_outputs/{i}_predicted.wav', predicted_audio_signal, 22050, 'PCM_24')\n",
        "\n",
        "  actual_audio_signal = librosa.core.spectrum.griffinlim(np.array(label_i.cpu()))\n",
        "  sf.write(f'{data_dir}/spectro_method_outputs/{i}_actual.wav', actual_audio_signal, 22050, 'PCM_24')\n",
        "\n",
        "  print(\"completed:\", i)"
      ],
      "metadata": {
        "colab": {
          "base_uri": "https://localhost:8080/"
        },
        "id": "sx-2dI0FI376",
        "outputId": "cdf8d1c7-3f58-42de-8c3d-e52f4a3d5ac9"
      },
      "execution_count": null,
      "outputs": [
        {
          "output_type": "stream",
          "name": "stdout",
          "text": [
            "completed: 0\n"
          ]
        }
      ]
    }
  ]
}